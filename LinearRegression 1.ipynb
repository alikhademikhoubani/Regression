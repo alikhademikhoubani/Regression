{
 "cells": [
  {
   "cell_type": "code",
   "execution_count": 108,
   "id": "e2996fc7-d137-408a-b6f1-268d28a38353",
   "metadata": {},
   "outputs": [
    {
     "data": {
      "text/html": [
       "<div>\n",
       "<style scoped>\n",
       "    .dataframe tbody tr th:only-of-type {\n",
       "        vertical-align: middle;\n",
       "    }\n",
       "\n",
       "    .dataframe tbody tr th {\n",
       "        vertical-align: top;\n",
       "    }\n",
       "\n",
       "    .dataframe thead th {\n",
       "        text-align: right;\n",
       "    }\n",
       "</style>\n",
       "<table border=\"1\" class=\"dataframe\">\n",
       "  <thead>\n",
       "    <tr style=\"text-align: right;\">\n",
       "      <th></th>\n",
       "      <th>TV</th>\n",
       "      <th>radio</th>\n",
       "      <th>newspaper</th>\n",
       "      <th>sales</th>\n",
       "    </tr>\n",
       "  </thead>\n",
       "  <tbody>\n",
       "    <tr>\n",
       "      <th>0</th>\n",
       "      <td>230.1</td>\n",
       "      <td>37.8</td>\n",
       "      <td>69.2</td>\n",
       "      <td>22.1</td>\n",
       "    </tr>\n",
       "    <tr>\n",
       "      <th>1</th>\n",
       "      <td>44.5</td>\n",
       "      <td>39.3</td>\n",
       "      <td>45.1</td>\n",
       "      <td>10.4</td>\n",
       "    </tr>\n",
       "    <tr>\n",
       "      <th>2</th>\n",
       "      <td>17.2</td>\n",
       "      <td>45.9</td>\n",
       "      <td>69.3</td>\n",
       "      <td>9.3</td>\n",
       "    </tr>\n",
       "    <tr>\n",
       "      <th>3</th>\n",
       "      <td>151.5</td>\n",
       "      <td>41.3</td>\n",
       "      <td>58.5</td>\n",
       "      <td>18.5</td>\n",
       "    </tr>\n",
       "    <tr>\n",
       "      <th>4</th>\n",
       "      <td>180.8</td>\n",
       "      <td>10.8</td>\n",
       "      <td>58.4</td>\n",
       "      <td>12.9</td>\n",
       "    </tr>\n",
       "  </tbody>\n",
       "</table>\n",
       "</div>"
      ],
      "text/plain": [
       "      TV  radio  newspaper  sales\n",
       "0  230.1   37.8       69.2   22.1\n",
       "1   44.5   39.3       45.1   10.4\n",
       "2   17.2   45.9       69.3    9.3\n",
       "3  151.5   41.3       58.5   18.5\n",
       "4  180.8   10.8       58.4   12.9"
      ]
     },
     "execution_count": 108,
     "metadata": {},
     "output_type": "execute_result"
    }
   ],
   "source": [
    "import pandas as pd\n",
    "df = pd.read_csv('Advertising.csv')\n",
    "df.head()"
   ]
  },
  {
   "cell_type": "code",
   "execution_count": 109,
   "id": "91a9bb43-3ade-427a-b06a-9d16125d5d66",
   "metadata": {},
   "outputs": [
    {
     "data": {
      "text/plain": [
       "TV           0.782224\n",
       "radio        0.576223\n",
       "newspaper    0.228299\n",
       "sales        1.000000\n",
       "Name: sales, dtype: float64"
      ]
     },
     "execution_count": 109,
     "metadata": {},
     "output_type": "execute_result"
    }
   ],
   "source": [
    "corr_matrix=df.corr()\n",
    "corr_matrix['sales']"
   ]
  },
  {
   "cell_type": "code",
   "execution_count": 110,
   "id": "4791817a-f976-4cf8-bc9b-4f4fe145276b",
   "metadata": {},
   "outputs": [
    {
     "data": {
      "text/html": [
       "<div>\n",
       "<style scoped>\n",
       "    .dataframe tbody tr th:only-of-type {\n",
       "        vertical-align: middle;\n",
       "    }\n",
       "\n",
       "    .dataframe tbody tr th {\n",
       "        vertical-align: top;\n",
       "    }\n",
       "\n",
       "    .dataframe thead th {\n",
       "        text-align: right;\n",
       "    }\n",
       "</style>\n",
       "<table border=\"1\" class=\"dataframe\">\n",
       "  <thead>\n",
       "    <tr style=\"text-align: right;\">\n",
       "      <th></th>\n",
       "      <th>TV</th>\n",
       "      <th>radio</th>\n",
       "      <th>newspaper</th>\n",
       "      <th>sales</th>\n",
       "      <th>newspaper&amp;radio</th>\n",
       "    </tr>\n",
       "  </thead>\n",
       "  <tbody>\n",
       "    <tr>\n",
       "      <th>0</th>\n",
       "      <td>230.1</td>\n",
       "      <td>37.8</td>\n",
       "      <td>69.2</td>\n",
       "      <td>22.1</td>\n",
       "      <td>2615.76</td>\n",
       "    </tr>\n",
       "    <tr>\n",
       "      <th>1</th>\n",
       "      <td>44.5</td>\n",
       "      <td>39.3</td>\n",
       "      <td>45.1</td>\n",
       "      <td>10.4</td>\n",
       "      <td>1772.43</td>\n",
       "    </tr>\n",
       "    <tr>\n",
       "      <th>2</th>\n",
       "      <td>17.2</td>\n",
       "      <td>45.9</td>\n",
       "      <td>69.3</td>\n",
       "      <td>9.3</td>\n",
       "      <td>3180.87</td>\n",
       "    </tr>\n",
       "    <tr>\n",
       "      <th>3</th>\n",
       "      <td>151.5</td>\n",
       "      <td>41.3</td>\n",
       "      <td>58.5</td>\n",
       "      <td>18.5</td>\n",
       "      <td>2416.05</td>\n",
       "    </tr>\n",
       "    <tr>\n",
       "      <th>4</th>\n",
       "      <td>180.8</td>\n",
       "      <td>10.8</td>\n",
       "      <td>58.4</td>\n",
       "      <td>12.9</td>\n",
       "      <td>630.72</td>\n",
       "    </tr>\n",
       "  </tbody>\n",
       "</table>\n",
       "</div>"
      ],
      "text/plain": [
       "      TV  radio  newspaper  sales  newspaper&radio\n",
       "0  230.1   37.8       69.2   22.1          2615.76\n",
       "1   44.5   39.3       45.1   10.4          1772.43\n",
       "2   17.2   45.9       69.3    9.3          3180.87\n",
       "3  151.5   41.3       58.5   18.5          2416.05\n",
       "4  180.8   10.8       58.4   12.9           630.72"
      ]
     },
     "execution_count": 110,
     "metadata": {},
     "output_type": "execute_result"
    }
   ],
   "source": [
    "df['newspaper&radio']=df['newspaper']*df['radio']\n",
    "df.head()"
   ]
  },
  {
   "cell_type": "code",
   "execution_count": 111,
   "id": "16c7d903-d993-4af8-8c5c-bf134e2911df",
   "metadata": {},
   "outputs": [
    {
     "data": {
      "text/html": [
       "<div>\n",
       "<style scoped>\n",
       "    .dataframe tbody tr th:only-of-type {\n",
       "        vertical-align: middle;\n",
       "    }\n",
       "\n",
       "    .dataframe tbody tr th {\n",
       "        vertical-align: top;\n",
       "    }\n",
       "\n",
       "    .dataframe thead th {\n",
       "        text-align: right;\n",
       "    }\n",
       "</style>\n",
       "<table border=\"1\" class=\"dataframe\">\n",
       "  <thead>\n",
       "    <tr style=\"text-align: right;\">\n",
       "      <th></th>\n",
       "      <th>TV</th>\n",
       "      <th>radio</th>\n",
       "      <th>newspaper</th>\n",
       "      <th>sales</th>\n",
       "      <th>newspaper&amp;radio</th>\n",
       "      <th>newspaper&amp;TV</th>\n",
       "      <th>TV&amp;radio</th>\n",
       "    </tr>\n",
       "  </thead>\n",
       "  <tbody>\n",
       "    <tr>\n",
       "      <th>0</th>\n",
       "      <td>230.1</td>\n",
       "      <td>37.8</td>\n",
       "      <td>69.2</td>\n",
       "      <td>22.1</td>\n",
       "      <td>2615.76</td>\n",
       "      <td>15922.92</td>\n",
       "      <td>8697.78</td>\n",
       "    </tr>\n",
       "    <tr>\n",
       "      <th>1</th>\n",
       "      <td>44.5</td>\n",
       "      <td>39.3</td>\n",
       "      <td>45.1</td>\n",
       "      <td>10.4</td>\n",
       "      <td>1772.43</td>\n",
       "      <td>2006.95</td>\n",
       "      <td>1748.85</td>\n",
       "    </tr>\n",
       "    <tr>\n",
       "      <th>2</th>\n",
       "      <td>17.2</td>\n",
       "      <td>45.9</td>\n",
       "      <td>69.3</td>\n",
       "      <td>9.3</td>\n",
       "      <td>3180.87</td>\n",
       "      <td>1191.96</td>\n",
       "      <td>789.48</td>\n",
       "    </tr>\n",
       "    <tr>\n",
       "      <th>3</th>\n",
       "      <td>151.5</td>\n",
       "      <td>41.3</td>\n",
       "      <td>58.5</td>\n",
       "      <td>18.5</td>\n",
       "      <td>2416.05</td>\n",
       "      <td>8862.75</td>\n",
       "      <td>6256.95</td>\n",
       "    </tr>\n",
       "    <tr>\n",
       "      <th>4</th>\n",
       "      <td>180.8</td>\n",
       "      <td>10.8</td>\n",
       "      <td>58.4</td>\n",
       "      <td>12.9</td>\n",
       "      <td>630.72</td>\n",
       "      <td>10558.72</td>\n",
       "      <td>1952.64</td>\n",
       "    </tr>\n",
       "  </tbody>\n",
       "</table>\n",
       "</div>"
      ],
      "text/plain": [
       "      TV  radio  newspaper  sales  newspaper&radio  newspaper&TV  TV&radio\n",
       "0  230.1   37.8       69.2   22.1          2615.76      15922.92   8697.78\n",
       "1   44.5   39.3       45.1   10.4          1772.43       2006.95   1748.85\n",
       "2   17.2   45.9       69.3    9.3          3180.87       1191.96    789.48\n",
       "3  151.5   41.3       58.5   18.5          2416.05       8862.75   6256.95\n",
       "4  180.8   10.8       58.4   12.9           630.72      10558.72   1952.64"
      ]
     },
     "execution_count": 111,
     "metadata": {},
     "output_type": "execute_result"
    }
   ],
   "source": [
    "df['newspaper&TV']=df['newspaper']*df['TV']\n",
    "df['TV&radio']=df['TV']*df['radio']\n",
    "df.head()"
   ]
  },
  {
   "cell_type": "code",
   "execution_count": 112,
   "id": "6fbd92a3-57ab-45c8-9aa5-50ba0fd0f71e",
   "metadata": {},
   "outputs": [
    {
     "data": {
      "text/plain": [
       "sales              1.000000\n",
       "TV&radio           0.963932\n",
       "TV                 0.782224\n",
       "newspaper&TV       0.618533\n",
       "radio              0.576223\n",
       "newspaper&radio    0.415893\n",
       "newspaper          0.228299\n",
       "Name: sales, dtype: float64"
      ]
     },
     "execution_count": 112,
     "metadata": {},
     "output_type": "execute_result"
    }
   ],
   "source": [
    "cor_matrix=df.corr()\n",
    "cor_matrix['sales'].sort_values(ascending=False)"
   ]
  },
  {
   "cell_type": "code",
   "execution_count": 113,
   "id": "172b49c6-fb42-456f-88dd-390a70841e16",
   "metadata": {},
   "outputs": [
    {
     "data": {
      "text/html": [
       "<div>\n",
       "<style scoped>\n",
       "    .dataframe tbody tr th:only-of-type {\n",
       "        vertical-align: middle;\n",
       "    }\n",
       "\n",
       "    .dataframe tbody tr th {\n",
       "        vertical-align: top;\n",
       "    }\n",
       "\n",
       "    .dataframe thead th {\n",
       "        text-align: right;\n",
       "    }\n",
       "</style>\n",
       "<table border=\"1\" class=\"dataframe\">\n",
       "  <thead>\n",
       "    <tr style=\"text-align: right;\">\n",
       "      <th></th>\n",
       "      <th>TV</th>\n",
       "      <th>radio</th>\n",
       "      <th>sales</th>\n",
       "      <th>newspaper&amp;radio</th>\n",
       "      <th>newspaper&amp;TV</th>\n",
       "      <th>TV&amp;radio</th>\n",
       "    </tr>\n",
       "  </thead>\n",
       "  <tbody>\n",
       "    <tr>\n",
       "      <th>0</th>\n",
       "      <td>230.1</td>\n",
       "      <td>37.8</td>\n",
       "      <td>22.1</td>\n",
       "      <td>2615.76</td>\n",
       "      <td>15922.92</td>\n",
       "      <td>8697.78</td>\n",
       "    </tr>\n",
       "    <tr>\n",
       "      <th>1</th>\n",
       "      <td>44.5</td>\n",
       "      <td>39.3</td>\n",
       "      <td>10.4</td>\n",
       "      <td>1772.43</td>\n",
       "      <td>2006.95</td>\n",
       "      <td>1748.85</td>\n",
       "    </tr>\n",
       "    <tr>\n",
       "      <th>2</th>\n",
       "      <td>17.2</td>\n",
       "      <td>45.9</td>\n",
       "      <td>9.3</td>\n",
       "      <td>3180.87</td>\n",
       "      <td>1191.96</td>\n",
       "      <td>789.48</td>\n",
       "    </tr>\n",
       "    <tr>\n",
       "      <th>3</th>\n",
       "      <td>151.5</td>\n",
       "      <td>41.3</td>\n",
       "      <td>18.5</td>\n",
       "      <td>2416.05</td>\n",
       "      <td>8862.75</td>\n",
       "      <td>6256.95</td>\n",
       "    </tr>\n",
       "    <tr>\n",
       "      <th>4</th>\n",
       "      <td>180.8</td>\n",
       "      <td>10.8</td>\n",
       "      <td>12.9</td>\n",
       "      <td>630.72</td>\n",
       "      <td>10558.72</td>\n",
       "      <td>1952.64</td>\n",
       "    </tr>\n",
       "  </tbody>\n",
       "</table>\n",
       "</div>"
      ],
      "text/plain": [
       "      TV  radio  sales  newspaper&radio  newspaper&TV  TV&radio\n",
       "0  230.1   37.8   22.1          2615.76      15922.92   8697.78\n",
       "1   44.5   39.3   10.4          1772.43       2006.95   1748.85\n",
       "2   17.2   45.9    9.3          3180.87       1191.96    789.48\n",
       "3  151.5   41.3   18.5          2416.05       8862.75   6256.95\n",
       "4  180.8   10.8   12.9           630.72      10558.72   1952.64"
      ]
     },
     "execution_count": 113,
     "metadata": {},
     "output_type": "execute_result"
    }
   ],
   "source": [
    "df=df.drop('newspaper',axis=1)\n",
    "df.head()"
   ]
  },
  {
   "cell_type": "code",
   "execution_count": 114,
   "id": "2cec0631-3c7b-45ff-815b-4ba4df83fd88",
   "metadata": {},
   "outputs": [],
   "source": [
    "import seaborn as sns"
   ]
  },
  {
   "cell_type": "code",
   "execution_count": 115,
   "id": "6bdf63cf-517b-4252-8acf-70d5229a8a35",
   "metadata": {},
   "outputs": [
    {
     "data": {
      "text/plain": [
       "<seaborn.axisgrid.PairGrid at 0x291044cd630>"
      ]
     },
     "execution_count": 115,
     "metadata": {},
     "output_type": "execute_result"
    },
    {
     "data": {
      "image/png": "[encoded data removed]",
      "text/plain": [
       "<Figure size 1080x1080 with 42 Axes>"
      ]
     },
     "metadata": {
      "needs_background": "light"
     },
     "output_type": "display_data"
    }
   ],
   "source": [
    "sns.pairplot(df)"
   ]
  },
  {
   "cell_type": "code",
   "execution_count": 116,
   "id": "6ce64a77-8b5b-4bc1-80e9-41f9900f696c",
   "metadata": {},
   "outputs": [
    {
     "data": {
      "text/plain": [
       "<AxesSubplot:>"
      ]
     },
     "execution_count": 116,
     "metadata": {},
     "output_type": "execute_result"
    },
    {
     "data": {
      "image/png": "[encoded data removed]",
      "text/plain": [
       "<Figure size 432x288 with 1 Axes>"
      ]
     },
     "metadata": {
      "needs_background": "light"
     },
     "output_type": "display_data"
    }
   ],
   "source": [
    "sns.boxplot(df['TV'])"
   ]
  },
  {
   "cell_type": "code",
   "execution_count": 117,
   "id": "3feaa121-1a7e-419c-beb7-aa635a422fd9",
   "metadata": {},
   "outputs": [
    {
     "data": {
      "text/plain": [
       "<AxesSubplot:>"
      ]
     },
     "execution_count": 117,
     "metadata": {},
     "output_type": "execute_result"
    },
    {
     "data": {
      "image/png": "[encoded data removed]",
      "text/plain": [
       "<Figure size 432x288 with 1 Axes>"
      ]
     },
     "metadata": {
      "needs_background": "light"
     },
     "output_type": "display_data"
    }
   ],
   "source": [
    "sns.boxplot(df['radio'])"
   ]
  },
  {
   "cell_type": "code",
   "execution_count": 118,
   "id": "efc1c068-0e4a-454e-88d6-de0f24e9b020",
   "metadata": {},
   "outputs": [
    {
     "data": {
      "text/plain": [
       "<AxesSubplot:>"
      ]
     },
     "execution_count": 118,
     "metadata": {},
     "output_type": "execute_result"
    },
    {
     "data": {
      "image/png": "[encoded data removed]",
      "text/plain": [
       "<Figure size 432x288 with 1 Axes>"
      ]
     },
     "metadata": {
      "needs_background": "light"
     },
     "output_type": "display_data"
    }
   ],
   "source": [
    "sns.boxplot(df['sales'])"
   ]
  },
  {
   "cell_type": "code",
   "execution_count": 119,
   "id": "4a6bf03e-1840-49dc-b4dc-0654414ccf69",
   "metadata": {},
   "outputs": [
    {
     "data": {
      "text/plain": [
       "<AxesSubplot:>"
      ]
     },
     "execution_count": 119,
     "metadata": {},
     "output_type": "execute_result"
    },
    {
     "data": {
      "image/png": "[encoded data removed]",
      "text/plain": [
       "<Figure size 432x288 with 1 Axes>"
      ]
     },
     "metadata": {
      "needs_background": "light"
     },
     "output_type": "display_data"
    }
   ],
   "source": [
    "sns.boxplot(df['newspaper&radio'])"
   ]
  },
  {
   "cell_type": "code",
   "execution_count": 120,
   "id": "ba8482f8-62e1-49ac-8866-7e2eb945fe96",
   "metadata": {},
   "outputs": [
    {
     "data": {
      "text/html": [
       "<div>\n",
       "<style scoped>\n",
       "    .dataframe tbody tr th:only-of-type {\n",
       "        vertical-align: middle;\n",
       "    }\n",
       "\n",
       "    .dataframe tbody tr th {\n",
       "        vertical-align: top;\n",
       "    }\n",
       "\n",
       "    .dataframe thead th {\n",
       "        text-align: right;\n",
       "    }\n",
       "</style>\n",
       "<table border=\"1\" class=\"dataframe\">\n",
       "  <thead>\n",
       "    <tr style=\"text-align: right;\">\n",
       "      <th></th>\n",
       "      <th>TV</th>\n",
       "      <th>radio</th>\n",
       "      <th>sales</th>\n",
       "      <th>newspaper&amp;radio</th>\n",
       "      <th>newspaper&amp;TV</th>\n",
       "      <th>TV&amp;radio</th>\n",
       "    </tr>\n",
       "  </thead>\n",
       "  <tbody>\n",
       "    <tr>\n",
       "      <th>2</th>\n",
       "      <td>17.2</td>\n",
       "      <td>45.9</td>\n",
       "      <td>9.3</td>\n",
       "      <td>3180.87</td>\n",
       "      <td>1191.96</td>\n",
       "      <td>789.48</td>\n",
       "    </tr>\n",
       "    <tr>\n",
       "      <th>5</th>\n",
       "      <td>8.7</td>\n",
       "      <td>48.9</td>\n",
       "      <td>7.2</td>\n",
       "      <td>3667.50</td>\n",
       "      <td>652.50</td>\n",
       "      <td>425.43</td>\n",
       "    </tr>\n",
       "    <tr>\n",
       "      <th>16</th>\n",
       "      <td>67.8</td>\n",
       "      <td>36.6</td>\n",
       "      <td>12.5</td>\n",
       "      <td>4172.40</td>\n",
       "      <td>7729.20</td>\n",
       "      <td>2481.48</td>\n",
       "    </tr>\n",
       "    <tr>\n",
       "      <th>55</th>\n",
       "      <td>198.9</td>\n",
       "      <td>49.4</td>\n",
       "      <td>23.7</td>\n",
       "      <td>2964.00</td>\n",
       "      <td>11934.00</td>\n",
       "      <td>9825.66</td>\n",
       "    </tr>\n",
       "    <tr>\n",
       "      <th>75</th>\n",
       "      <td>16.9</td>\n",
       "      <td>43.7</td>\n",
       "      <td>8.7</td>\n",
       "      <td>3906.78</td>\n",
       "      <td>1510.86</td>\n",
       "      <td>738.53</td>\n",
       "    </tr>\n",
       "    <tr>\n",
       "      <th>101</th>\n",
       "      <td>296.4</td>\n",
       "      <td>36.3</td>\n",
       "      <td>23.8</td>\n",
       "      <td>3662.67</td>\n",
       "      <td>29906.76</td>\n",
       "      <td>10759.32</td>\n",
       "    </tr>\n",
       "    <tr>\n",
       "      <th>118</th>\n",
       "      <td>125.7</td>\n",
       "      <td>36.9</td>\n",
       "      <td>15.9</td>\n",
       "      <td>2922.48</td>\n",
       "      <td>9955.44</td>\n",
       "      <td>4638.33</td>\n",
       "    </tr>\n",
       "    <tr>\n",
       "      <th>183</th>\n",
       "      <td>287.6</td>\n",
       "      <td>43.0</td>\n",
       "      <td>26.2</td>\n",
       "      <td>3087.40</td>\n",
       "      <td>20649.68</td>\n",
       "      <td>12366.80</td>\n",
       "    </tr>\n",
       "  </tbody>\n",
       "</table>\n",
       "</div>"
      ],
      "text/plain": [
       "        TV  radio  sales  newspaper&radio  newspaper&TV  TV&radio\n",
       "2     17.2   45.9    9.3          3180.87       1191.96    789.48\n",
       "5      8.7   48.9    7.2          3667.50        652.50    425.43\n",
       "16    67.8   36.6   12.5          4172.40       7729.20   2481.48\n",
       "55   198.9   49.4   23.7          2964.00      11934.00   9825.66\n",
       "75    16.9   43.7    8.7          3906.78       1510.86    738.53\n",
       "101  296.4   36.3   23.8          3662.67      29906.76  10759.32\n",
       "118  125.7   36.9   15.9          2922.48       9955.44   4638.33\n",
       "183  287.6   43.0   26.2          3087.40      20649.68  12366.80"
      ]
     },
     "execution_count": 120,
     "metadata": {},
     "output_type": "execute_result"
    }
   ],
   "source": [
    "df[df['newspaper&radio']>2800]"
   ]
  },
  {
   "cell_type": "code",
   "execution_count": 121,
   "id": "ffaad1c1-770f-4202-ad84-45839d9523b2",
   "metadata": {},
   "outputs": [
    {
     "data": {
      "text/plain": [
       "(200, 6)"
      ]
     },
     "execution_count": 121,
     "metadata": {},
     "output_type": "execute_result"
    }
   ],
   "source": [
    "df.shape"
   ]
  },
  {
   "cell_type": "code",
   "execution_count": 122,
   "id": "ef2a8f5b-2425-4ffe-a064-e3657f38688a",
   "metadata": {},
   "outputs": [
    {
     "data": {
      "text/plain": [
       "(192, 6)"
      ]
     },
     "execution_count": 122,
     "metadata": {},
     "output_type": "execute_result"
    }
   ],
   "source": [
    "df=df[df['newspaper&radio']<2800]\n",
    "df.shape"
   ]
  },
  {
   "cell_type": "code",
   "execution_count": 123,
   "id": "23225a08-4974-4180-906e-bdb643b83ab9",
   "metadata": {},
   "outputs": [
    {
     "data": {
      "text/plain": [
       "<AxesSubplot:>"
      ]
     },
     "execution_count": 123,
     "metadata": {},
     "output_type": "execute_result"
    },
    {
     "data": {
      "image/png": "[encoded data removed]",
      "text/plain": [
       "<Figure size 432x288 with 1 Axes>"
      ]
     },
     "metadata": {
      "needs_background": "light"
     },
     "output_type": "display_data"
    }
   ],
   "source": [
    "sns.boxplot(df['newspaper&radio'])"
   ]
  },
  {
   "cell_type": "code",
   "execution_count": 124,
   "id": "2aaa4b38-5a73-4005-898a-942315011b87",
   "metadata": {},
   "outputs": [
    {
     "data": {
      "text/html": [
       "<div>\n",
       "<style scoped>\n",
       "    .dataframe tbody tr th:only-of-type {\n",
       "        vertical-align: middle;\n",
       "    }\n",
       "\n",
       "    .dataframe tbody tr th {\n",
       "        vertical-align: top;\n",
       "    }\n",
       "\n",
       "    .dataframe thead th {\n",
       "        text-align: right;\n",
       "    }\n",
       "</style>\n",
       "<table border=\"1\" class=\"dataframe\">\n",
       "  <thead>\n",
       "    <tr style=\"text-align: right;\">\n",
       "      <th></th>\n",
       "      <th>TV</th>\n",
       "      <th>radio</th>\n",
       "      <th>sales</th>\n",
       "      <th>newspaper&amp;radio</th>\n",
       "      <th>newspaper&amp;TV</th>\n",
       "      <th>TV&amp;radio</th>\n",
       "    </tr>\n",
       "  </thead>\n",
       "  <tbody>\n",
       "  </tbody>\n",
       "</table>\n",
       "</div>"
      ],
      "text/plain": [
       "Empty DataFrame\n",
       "Columns: [TV, radio, sales, newspaper&radio, newspaper&TV, TV&radio]\n",
       "Index: []"
      ]
     },
     "execution_count": 124,
     "metadata": {},
     "output_type": "execute_result"
    }
   ],
   "source": [
    "df[df['newspaper&radio']>3000]"
   ]
  },
  {
   "cell_type": "code",
   "execution_count": 125,
   "id": "96021f58-75a0-4742-bef6-b6c0559381f4",
   "metadata": {},
   "outputs": [
    {
     "data": {
      "text/plain": [
       "<AxesSubplot:>"
      ]
     },
     "execution_count": 125,
     "metadata": {},
     "output_type": "execute_result"
    },
    {
     "data": {
      "image/png": "[encoded data removed]",
      "text/plain": [
       "<Figure size 432x288 with 1 Axes>"
      ]
     },
     "metadata": {
      "needs_background": "light"
     },
     "output_type": "display_data"
    }
   ],
   "source": [
    "sns.boxplot(df['newspaper&TV'])"
   ]
  },
  {
   "cell_type": "code",
   "execution_count": 126,
   "id": "b796d36e-c3b8-4675-933e-7861eeae27e0",
   "metadata": {},
   "outputs": [
    {
     "data": {
      "text/html": [
       "<div>\n",
       "<style scoped>\n",
       "    .dataframe tbody tr th:only-of-type {\n",
       "        vertical-align: middle;\n",
       "    }\n",
       "\n",
       "    .dataframe tbody tr th {\n",
       "        vertical-align: top;\n",
       "    }\n",
       "\n",
       "    .dataframe thead th {\n",
       "        text-align: right;\n",
       "    }\n",
       "</style>\n",
       "<table border=\"1\" class=\"dataframe\">\n",
       "  <thead>\n",
       "    <tr style=\"text-align: right;\">\n",
       "      <th></th>\n",
       "      <th>TV</th>\n",
       "      <th>radio</th>\n",
       "      <th>sales</th>\n",
       "      <th>newspaper&amp;radio</th>\n",
       "      <th>newspaper&amp;TV</th>\n",
       "      <th>TV&amp;radio</th>\n",
       "    </tr>\n",
       "  </thead>\n",
       "  <tbody>\n",
       "    <tr>\n",
       "      <th>0</th>\n",
       "      <td>230.1</td>\n",
       "      <td>37.8</td>\n",
       "      <td>22.1</td>\n",
       "      <td>2615.76</td>\n",
       "      <td>15922.92</td>\n",
       "      <td>8697.78</td>\n",
       "    </tr>\n",
       "    <tr>\n",
       "      <th>17</th>\n",
       "      <td>281.4</td>\n",
       "      <td>39.6</td>\n",
       "      <td>24.4</td>\n",
       "      <td>2209.68</td>\n",
       "      <td>15702.12</td>\n",
       "      <td>11143.44</td>\n",
       "    </tr>\n",
       "    <tr>\n",
       "      <th>61</th>\n",
       "      <td>261.3</td>\n",
       "      <td>42.7</td>\n",
       "      <td>24.2</td>\n",
       "      <td>2335.69</td>\n",
       "      <td>14293.11</td>\n",
       "      <td>11157.51</td>\n",
       "    </tr>\n",
       "    <tr>\n",
       "      <th>93</th>\n",
       "      <td>250.9</td>\n",
       "      <td>36.5</td>\n",
       "      <td>22.2</td>\n",
       "      <td>2638.95</td>\n",
       "      <td>18140.07</td>\n",
       "      <td>9157.85</td>\n",
       "    </tr>\n",
       "    <tr>\n",
       "      <th>98</th>\n",
       "      <td>289.7</td>\n",
       "      <td>42.3</td>\n",
       "      <td>25.4</td>\n",
       "      <td>2165.76</td>\n",
       "      <td>14832.64</td>\n",
       "      <td>12254.31</td>\n",
       "    </tr>\n",
       "    <tr>\n",
       "      <th>124</th>\n",
       "      <td>229.5</td>\n",
       "      <td>32.3</td>\n",
       "      <td>19.7</td>\n",
       "      <td>2396.66</td>\n",
       "      <td>17028.90</td>\n",
       "      <td>7412.85</td>\n",
       "    </tr>\n",
       "    <tr>\n",
       "      <th>137</th>\n",
       "      <td>273.7</td>\n",
       "      <td>28.9</td>\n",
       "      <td>20.8</td>\n",
       "      <td>1725.33</td>\n",
       "      <td>16339.89</td>\n",
       "      <td>7909.93</td>\n",
       "    </tr>\n",
       "    <tr>\n",
       "      <th>141</th>\n",
       "      <td>193.7</td>\n",
       "      <td>35.4</td>\n",
       "      <td>19.2</td>\n",
       "      <td>2676.24</td>\n",
       "      <td>14643.72</td>\n",
       "      <td>6856.98</td>\n",
       "    </tr>\n",
       "    <tr>\n",
       "      <th>165</th>\n",
       "      <td>234.5</td>\n",
       "      <td>3.4</td>\n",
       "      <td>11.9</td>\n",
       "      <td>288.32</td>\n",
       "      <td>19885.60</td>\n",
       "      <td>797.30</td>\n",
       "    </tr>\n",
       "    <tr>\n",
       "      <th>198</th>\n",
       "      <td>283.6</td>\n",
       "      <td>42.0</td>\n",
       "      <td>25.5</td>\n",
       "      <td>2780.40</td>\n",
       "      <td>18774.32</td>\n",
       "      <td>11911.20</td>\n",
       "    </tr>\n",
       "  </tbody>\n",
       "</table>\n",
       "</div>"
      ],
      "text/plain": [
       "        TV  radio  sales  newspaper&radio  newspaper&TV  TV&radio\n",
       "0    230.1   37.8   22.1          2615.76      15922.92   8697.78\n",
       "17   281.4   39.6   24.4          2209.68      15702.12  11143.44\n",
       "61   261.3   42.7   24.2          2335.69      14293.11  11157.51\n",
       "93   250.9   36.5   22.2          2638.95      18140.07   9157.85\n",
       "98   289.7   42.3   25.4          2165.76      14832.64  12254.31\n",
       "124  229.5   32.3   19.7          2396.66      17028.90   7412.85\n",
       "137  273.7   28.9   20.8          1725.33      16339.89   7909.93\n",
       "141  193.7   35.4   19.2          2676.24      14643.72   6856.98\n",
       "165  234.5    3.4   11.9           288.32      19885.60    797.30\n",
       "198  283.6   42.0   25.5          2780.40      18774.32  11911.20"
      ]
     },
     "execution_count": 126,
     "metadata": {},
     "output_type": "execute_result"
    }
   ],
   "source": [
    "df[df['newspaper&TV']>14000]"
   ]
  },
  {
   "cell_type": "code",
   "execution_count": 127,
   "id": "e7e3c182-69db-4819-b209-5a92e2e4a388",
   "metadata": {},
   "outputs": [
    {
     "data": {
      "text/plain": [
       "(182, 6)"
      ]
     },
     "execution_count": 127,
     "metadata": {},
     "output_type": "execute_result"
    }
   ],
   "source": [
    "df=df[df['newspaper&TV']<14000]\n",
    "df.shape"
   ]
  },
  {
   "cell_type": "code",
   "execution_count": 128,
   "id": "8337c871-1bcd-4bed-b49a-5f07a5aa0bf7",
   "metadata": {},
   "outputs": [
    {
     "data": {
      "text/html": [
       "<div>\n",
       "<style scoped>\n",
       "    .dataframe tbody tr th:only-of-type {\n",
       "        vertical-align: middle;\n",
       "    }\n",
       "\n",
       "    .dataframe tbody tr th {\n",
       "        vertical-align: top;\n",
       "    }\n",
       "\n",
       "    .dataframe thead th {\n",
       "        text-align: right;\n",
       "    }\n",
       "</style>\n",
       "<table border=\"1\" class=\"dataframe\">\n",
       "  <thead>\n",
       "    <tr style=\"text-align: right;\">\n",
       "      <th></th>\n",
       "      <th>TV</th>\n",
       "      <th>radio</th>\n",
       "      <th>sales</th>\n",
       "      <th>newspaper&amp;radio</th>\n",
       "      <th>newspaper&amp;TV</th>\n",
       "      <th>TV&amp;radio</th>\n",
       "    </tr>\n",
       "  </thead>\n",
       "  <tbody>\n",
       "    <tr>\n",
       "      <th>1</th>\n",
       "      <td>44.5</td>\n",
       "      <td>39.3</td>\n",
       "      <td>10.4</td>\n",
       "      <td>1772.43</td>\n",
       "      <td>2006.95</td>\n",
       "      <td>1748.85</td>\n",
       "    </tr>\n",
       "    <tr>\n",
       "      <th>3</th>\n",
       "      <td>151.5</td>\n",
       "      <td>41.3</td>\n",
       "      <td>18.5</td>\n",
       "      <td>2416.05</td>\n",
       "      <td>8862.75</td>\n",
       "      <td>6256.95</td>\n",
       "    </tr>\n",
       "    <tr>\n",
       "      <th>4</th>\n",
       "      <td>180.8</td>\n",
       "      <td>10.8</td>\n",
       "      <td>12.9</td>\n",
       "      <td>630.72</td>\n",
       "      <td>10558.72</td>\n",
       "      <td>1952.64</td>\n",
       "    </tr>\n",
       "    <tr>\n",
       "      <th>6</th>\n",
       "      <td>57.5</td>\n",
       "      <td>32.8</td>\n",
       "      <td>11.8</td>\n",
       "      <td>770.80</td>\n",
       "      <td>1351.25</td>\n",
       "      <td>1886.00</td>\n",
       "    </tr>\n",
       "    <tr>\n",
       "      <th>7</th>\n",
       "      <td>120.2</td>\n",
       "      <td>19.6</td>\n",
       "      <td>13.2</td>\n",
       "      <td>227.36</td>\n",
       "      <td>1394.32</td>\n",
       "      <td>2355.92</td>\n",
       "    </tr>\n",
       "  </tbody>\n",
       "</table>\n",
       "</div>"
      ],
      "text/plain": [
       "      TV  radio  sales  newspaper&radio  newspaper&TV  TV&radio\n",
       "1   44.5   39.3   10.4          1772.43       2006.95   1748.85\n",
       "3  151.5   41.3   18.5          2416.05       8862.75   6256.95\n",
       "4  180.8   10.8   12.9           630.72      10558.72   1952.64\n",
       "6   57.5   32.8   11.8           770.80       1351.25   1886.00\n",
       "7  120.2   19.6   13.2           227.36       1394.32   2355.92"
      ]
     },
     "execution_count": 128,
     "metadata": {},
     "output_type": "execute_result"
    }
   ],
   "source": [
    "df.head()"
   ]
  },
  {
   "cell_type": "code",
   "execution_count": 129,
   "id": "a32cea6f-e507-484d-992f-e6e15c7aaaba",
   "metadata": {},
   "outputs": [],
   "source": [
    "df = df.reset_index(drop=True)"
   ]
  },
  {
   "cell_type": "code",
   "execution_count": 130,
   "id": "56531ae9-a020-491a-a833-f318bf936ab5",
   "metadata": {},
   "outputs": [
    {
     "data": {
      "text/html": [
       "<div>\n",
       "<style scoped>\n",
       "    .dataframe tbody tr th:only-of-type {\n",
       "        vertical-align: middle;\n",
       "    }\n",
       "\n",
       "    .dataframe tbody tr th {\n",
       "        vertical-align: top;\n",
       "    }\n",
       "\n",
       "    .dataframe thead th {\n",
       "        text-align: right;\n",
       "    }\n",
       "</style>\n",
       "<table border=\"1\" class=\"dataframe\">\n",
       "  <thead>\n",
       "    <tr style=\"text-align: right;\">\n",
       "      <th></th>\n",
       "      <th>TV</th>\n",
       "      <th>radio</th>\n",
       "      <th>sales</th>\n",
       "      <th>newspaper&amp;radio</th>\n",
       "      <th>newspaper&amp;TV</th>\n",
       "      <th>TV&amp;radio</th>\n",
       "    </tr>\n",
       "  </thead>\n",
       "  <tbody>\n",
       "    <tr>\n",
       "      <th>0</th>\n",
       "      <td>44.5</td>\n",
       "      <td>39.3</td>\n",
       "      <td>10.4</td>\n",
       "      <td>1772.43</td>\n",
       "      <td>2006.95</td>\n",
       "      <td>1748.85</td>\n",
       "    </tr>\n",
       "    <tr>\n",
       "      <th>1</th>\n",
       "      <td>151.5</td>\n",
       "      <td>41.3</td>\n",
       "      <td>18.5</td>\n",
       "      <td>2416.05</td>\n",
       "      <td>8862.75</td>\n",
       "      <td>6256.95</td>\n",
       "    </tr>\n",
       "    <tr>\n",
       "      <th>2</th>\n",
       "      <td>180.8</td>\n",
       "      <td>10.8</td>\n",
       "      <td>12.9</td>\n",
       "      <td>630.72</td>\n",
       "      <td>10558.72</td>\n",
       "      <td>1952.64</td>\n",
       "    </tr>\n",
       "    <tr>\n",
       "      <th>3</th>\n",
       "      <td>57.5</td>\n",
       "      <td>32.8</td>\n",
       "      <td>11.8</td>\n",
       "      <td>770.80</td>\n",
       "      <td>1351.25</td>\n",
       "      <td>1886.00</td>\n",
       "    </tr>\n",
       "    <tr>\n",
       "      <th>4</th>\n",
       "      <td>120.2</td>\n",
       "      <td>19.6</td>\n",
       "      <td>13.2</td>\n",
       "      <td>227.36</td>\n",
       "      <td>1394.32</td>\n",
       "      <td>2355.92</td>\n",
       "    </tr>\n",
       "  </tbody>\n",
       "</table>\n",
       "</div>"
      ],
      "text/plain": [
       "      TV  radio  sales  newspaper&radio  newspaper&TV  TV&radio\n",
       "0   44.5   39.3   10.4          1772.43       2006.95   1748.85\n",
       "1  151.5   41.3   18.5          2416.05       8862.75   6256.95\n",
       "2  180.8   10.8   12.9           630.72      10558.72   1952.64\n",
       "3   57.5   32.8   11.8           770.80       1351.25   1886.00\n",
       "4  120.2   19.6   13.2           227.36       1394.32   2355.92"
      ]
     },
     "execution_count": 130,
     "metadata": {},
     "output_type": "execute_result"
    }
   ],
   "source": [
    "df.head()"
   ]
  },
  {
   "cell_type": "code",
   "execution_count": 131,
   "id": "3a0cf026-bdb3-429c-8a23-3197225c7c30",
   "metadata": {},
   "outputs": [
    {
     "data": {
      "text/plain": [
       "<AxesSubplot:>"
      ]
     },
     "execution_count": 131,
     "metadata": {},
     "output_type": "execute_result"
    },
    {
     "data": {
      "image/png": "[encoded data removed]",
      "text/plain": [
       "<Figure size 432x288 with 1 Axes>"
      ]
     },
     "metadata": {
      "needs_background": "light"
     },
     "output_type": "display_data"
    }
   ],
   "source": [
    "sns.boxplot(df['newspaper&TV'])"
   ]
  },
  {
   "cell_type": "code",
   "execution_count": 132,
   "id": "2b606f15-ce5e-48b0-a107-fcf559727f85",
   "metadata": {},
   "outputs": [
    {
     "data": {
      "text/plain": [
       "<AxesSubplot:>"
      ]
     },
     "execution_count": 132,
     "metadata": {},
     "output_type": "execute_result"
    },
    {
     "data": {
      "image/png": "[encoded data removed]",
      "text/plain": [
       "<Figure size 432x288 with 1 Axes>"
      ]
     },
     "metadata": {
      "needs_background": "light"
     },
     "output_type": "display_data"
    }
   ],
   "source": [
    "sns.boxplot(df['TV&radio'])"
   ]
  },
  {
   "cell_type": "code",
   "execution_count": 133,
   "id": "6dd6b2cc-3419-4cd8-8403-4a7a5452c477",
   "metadata": {},
   "outputs": [
    {
     "data": {
      "text/html": [
       "<div>\n",
       "<style scoped>\n",
       "    .dataframe tbody tr th:only-of-type {\n",
       "        vertical-align: middle;\n",
       "    }\n",
       "\n",
       "    .dataframe tbody tr th {\n",
       "        vertical-align: top;\n",
       "    }\n",
       "\n",
       "    .dataframe thead th {\n",
       "        text-align: right;\n",
       "    }\n",
       "</style>\n",
       "<table border=\"1\" class=\"dataframe\">\n",
       "  <thead>\n",
       "    <tr style=\"text-align: right;\">\n",
       "      <th></th>\n",
       "      <th>TV</th>\n",
       "      <th>radio</th>\n",
       "      <th>sales</th>\n",
       "      <th>newspaper&amp;radio</th>\n",
       "      <th>newspaper&amp;TV</th>\n",
       "      <th>TV&amp;radio</th>\n",
       "    </tr>\n",
       "  </thead>\n",
       "  <tbody>\n",
       "    <tr>\n",
       "      <th>159</th>\n",
       "      <td>276.9</td>\n",
       "      <td>48.9</td>\n",
       "      <td>27.0</td>\n",
       "      <td>2044.02</td>\n",
       "      <td>11574.42</td>\n",
       "      <td>13540.41</td>\n",
       "    </tr>\n",
       "  </tbody>\n",
       "</table>\n",
       "</div>"
      ],
      "text/plain": [
       "        TV  radio  sales  newspaper&radio  newspaper&TV  TV&radio\n",
       "159  276.9   48.9   27.0          2044.02      11574.42  13540.41"
      ]
     },
     "execution_count": 133,
     "metadata": {},
     "output_type": "execute_result"
    }
   ],
   "source": [
    "df[df['TV&radio']>12000]"
   ]
  },
  {
   "cell_type": "code",
   "execution_count": 134,
   "id": "07ce3952-cc63-4f44-a045-da0269307797",
   "metadata": {},
   "outputs": [],
   "source": [
    "df=df[df['TV&radio']<12000]"
   ]
  },
  {
   "cell_type": "code",
   "execution_count": 135,
   "id": "a76f997d-45d5-4a30-94be-f63fe9c032e2",
   "metadata": {},
   "outputs": [
    {
     "data": {
      "text/plain": [
       "<AxesSubplot:>"
      ]
     },
     "execution_count": 135,
     "metadata": {},
     "output_type": "execute_result"
    },
    {
     "data": {
      "image/png": "[encoded data removed]",
      "text/plain": [
       "<Figure size 432x288 with 1 Axes>"
      ]
     },
     "metadata": {
      "needs_background": "light"
     },
     "output_type": "display_data"
    }
   ],
   "source": [
    "sns.boxplot(df['TV&radio'])"
   ]
  },
  {
   "cell_type": "code",
   "execution_count": 136,
   "id": "afd30505-12e8-4000-b6f3-126ad13d7187",
   "metadata": {},
   "outputs": [
    {
     "data": {
      "text/html": [
       "<div>\n",
       "<style scoped>\n",
       "    .dataframe tbody tr th:only-of-type {\n",
       "        vertical-align: middle;\n",
       "    }\n",
       "\n",
       "    .dataframe tbody tr th {\n",
       "        vertical-align: top;\n",
       "    }\n",
       "\n",
       "    .dataframe thead th {\n",
       "        text-align: right;\n",
       "    }\n",
       "</style>\n",
       "<table border=\"1\" class=\"dataframe\">\n",
       "  <thead>\n",
       "    <tr style=\"text-align: right;\">\n",
       "      <th></th>\n",
       "      <th>TV</th>\n",
       "      <th>radio</th>\n",
       "      <th>sales</th>\n",
       "      <th>newspaper&amp;radio</th>\n",
       "      <th>newspaper&amp;TV</th>\n",
       "      <th>TV&amp;radio</th>\n",
       "    </tr>\n",
       "  </thead>\n",
       "  <tbody>\n",
       "    <tr>\n",
       "      <th>31</th>\n",
       "      <td>266.9</td>\n",
       "      <td>43.8</td>\n",
       "      <td>25.4</td>\n",
       "      <td>219.0</td>\n",
       "      <td>1334.50</td>\n",
       "      <td>11690.22</td>\n",
       "    </tr>\n",
       "    <tr>\n",
       "      <th>132</th>\n",
       "      <td>243.2</td>\n",
       "      <td>49.0</td>\n",
       "      <td>25.4</td>\n",
       "      <td>2170.7</td>\n",
       "      <td>10773.76</td>\n",
       "      <td>11916.80</td>\n",
       "    </tr>\n",
       "  </tbody>\n",
       "</table>\n",
       "</div>"
      ],
      "text/plain": [
       "        TV  radio  sales  newspaper&radio  newspaper&TV  TV&radio\n",
       "31   266.9   43.8   25.4            219.0       1334.50  11690.22\n",
       "132  243.2   49.0   25.4           2170.7      10773.76  11916.80"
      ]
     },
     "execution_count": 136,
     "metadata": {},
     "output_type": "execute_result"
    }
   ],
   "source": [
    "df[df['TV&radio']>11000]"
   ]
  },
  {
   "cell_type": "code",
   "execution_count": 137,
   "id": "0b9fbdd9-42df-408a-b713-06978d76752a",
   "metadata": {},
   "outputs": [
    {
     "data": {
      "text/plain": [
       "3067.3888950276246"
      ]
     },
     "execution_count": 137,
     "metadata": {},
     "output_type": "execute_result"
    }
   ],
   "source": [
    "df['TV&radio'].mean()"
   ]
  },
  {
   "cell_type": "code",
   "execution_count": 138,
   "id": "e7a85f68-f15e-42aa-b934-99f63b520542",
   "metadata": {},
   "outputs": [],
   "source": [
    "df=df[df['TV&radio']<11000]"
   ]
  },
  {
   "cell_type": "code",
   "execution_count": 139,
   "id": "69aac454-b7c2-40dc-acd2-3ada954948ed",
   "metadata": {},
   "outputs": [
    {
     "data": {
      "text/plain": [
       "(179, 6)"
      ]
     },
     "execution_count": 139,
     "metadata": {},
     "output_type": "execute_result"
    }
   ],
   "source": [
    "df.shape"
   ]
  },
  {
   "cell_type": "code",
   "execution_count": 140,
   "id": "9651b725-a17a-4175-824e-4e9427716686",
   "metadata": {},
   "outputs": [
    {
     "data": {
      "text/plain": [
       "<AxesSubplot:>"
      ]
     },
     "execution_count": 140,
     "metadata": {},
     "output_type": "execute_result"
    },
    {
     "data": {
      "image/png": "[encoded data removed]",
      "text/plain": [
       "<Figure size 432x288 with 1 Axes>"
      ]
     },
     "metadata": {
      "needs_background": "light"
     },
     "output_type": "display_data"
    }
   ],
   "source": [
    "sns.boxplot(df['TV&radio'])"
   ]
  },
  {
   "cell_type": "code",
   "execution_count": 141,
   "id": "b4e4089f-d204-40f7-93be-9822587db23e",
   "metadata": {},
   "outputs": [
    {
     "data": {
      "text/html": [
       "<div>\n",
       "<style scoped>\n",
       "    .dataframe tbody tr th:only-of-type {\n",
       "        vertical-align: middle;\n",
       "    }\n",
       "\n",
       "    .dataframe tbody tr th {\n",
       "        vertical-align: top;\n",
       "    }\n",
       "\n",
       "    .dataframe thead th {\n",
       "        text-align: right;\n",
       "    }\n",
       "</style>\n",
       "<table border=\"1\" class=\"dataframe\">\n",
       "  <thead>\n",
       "    <tr style=\"text-align: right;\">\n",
       "      <th></th>\n",
       "      <th>TV</th>\n",
       "      <th>radio</th>\n",
       "      <th>sales</th>\n",
       "      <th>newspaper&amp;radio</th>\n",
       "      <th>newspaper&amp;TV</th>\n",
       "      <th>TV&amp;radio</th>\n",
       "    </tr>\n",
       "  </thead>\n",
       "  <tbody>\n",
       "    <tr>\n",
       "      <th>52</th>\n",
       "      <td>210.8</td>\n",
       "      <td>49.6</td>\n",
       "      <td>23.8</td>\n",
       "      <td>1869.92</td>\n",
       "      <td>7947.16</td>\n",
       "      <td>10455.68</td>\n",
       "    </tr>\n",
       "    <tr>\n",
       "      <th>115</th>\n",
       "      <td>220.3</td>\n",
       "      <td>49.0</td>\n",
       "      <td>24.7</td>\n",
       "      <td>156.80</td>\n",
       "      <td>704.96</td>\n",
       "      <td>10794.70</td>\n",
       "    </tr>\n",
       "  </tbody>\n",
       "</table>\n",
       "</div>"
      ],
      "text/plain": [
       "        TV  radio  sales  newspaper&radio  newspaper&TV  TV&radio\n",
       "52   210.8   49.6   23.8          1869.92       7947.16  10455.68\n",
       "115  220.3   49.0   24.7           156.80        704.96  10794.70"
      ]
     },
     "execution_count": 141,
     "metadata": {},
     "output_type": "execute_result"
    }
   ],
   "source": [
    "df[df['TV&radio']>10000]"
   ]
  },
  {
   "cell_type": "code",
   "execution_count": 142,
   "id": "10fde522-43a4-4710-8af2-b2ff7e3e00ef",
   "metadata": {},
   "outputs": [],
   "source": [
    "df=df[df['TV&radio']<10000]"
   ]
  },
  {
   "cell_type": "code",
   "execution_count": 143,
   "id": "fe7b595d-ef4a-401b-942a-97213c9e8ba5",
   "metadata": {},
   "outputs": [
    {
     "data": {
      "text/plain": [
       "(177, 6)"
      ]
     },
     "execution_count": 143,
     "metadata": {},
     "output_type": "execute_result"
    }
   ],
   "source": [
    "df.shape"
   ]
  },
  {
   "cell_type": "code",
   "execution_count": 144,
   "id": "d2d20d72-1a6b-43d6-9272-28dd0a8b4136",
   "metadata": {},
   "outputs": [
    {
     "data": {
      "text/plain": [
       "<AxesSubplot:>"
      ]
     },
     "execution_count": 144,
     "metadata": {},
     "output_type": "execute_result"
    },
    {
     "data": {
      "image/png": "[encoded data removed]",
      "text/plain": [
       "<Figure size 432x288 with 1 Axes>"
      ]
     },
     "metadata": {
      "needs_background": "light"
     },
     "output_type": "display_data"
    }
   ],
   "source": [
    "sns.boxplot(df['TV&radio'])"
   ]
  },
  {
   "cell_type": "code",
   "execution_count": 145,
   "id": "e66472e0-588a-4cb2-bb27-2e792daa5689",
   "metadata": {},
   "outputs": [],
   "source": [
    "X=df.drop('sales',axis=1)\n",
    "y=df['sales']"
   ]
  },
  {
   "cell_type": "code",
   "execution_count": 146,
   "id": "2a6d382e-2e5a-4eb3-b165-8982cd469d9f",
   "metadata": {},
   "outputs": [],
   "source": [
    "from sklearn.preprocessing import StandardScaler\n",
    "scaler=StandardScaler()"
   ]
  },
  {
   "cell_type": "code",
   "execution_count": 147,
   "id": "8a168888-bc90-4a1f-9919-85e0f34f33a5",
   "metadata": {},
   "outputs": [],
   "source": [
    "from sklearn.model_selection import train_test_split\n",
    "X_train,X_test,y_train,y_test=train_test_split(X,y,test_size=0.3,random_state=42)"
   ]
  },
  {
   "cell_type": "code",
   "execution_count": 148,
   "id": "a766000d-e585-421a-a6e0-7b3404be5d2d",
   "metadata": {},
   "outputs": [],
   "source": [
    "X_train=scaler.fit_transform(X_train)\n",
    "X_test=scaler.transform(X_test)"
   ]
  },
  {
   "cell_type": "code",
   "execution_count": 149,
   "id": "0270b86f-242a-41c1-b5be-68db774faae5",
   "metadata": {},
   "outputs": [],
   "source": [
    "from sklearn.linear_model import LinearRegression\n",
    "model1=LinearRegression()\n",
    "from sklearn.model_selection import cross_val_score\n",
    "a=cross_val_score(model1,X_train,y_train,cv=5)"
   ]
  },
  {
   "cell_type": "code",
   "execution_count": 150,
   "id": "53c83e9a-ae92-4f2b-8e13-4b553dff70b2",
   "metadata": {},
   "outputs": [
    {
     "data": {
      "text/plain": [
       "0.9612299156712677"
      ]
     },
     "execution_count": 150,
     "metadata": {},
     "output_type": "execute_result"
    }
   ],
   "source": [
    "a.mean()"
   ]
  },
  {
   "cell_type": "code",
   "execution_count": 151,
   "id": "1dfc7a38-a5ee-430e-b316-3ad7a22c66ca",
   "metadata": {},
   "outputs": [
    {
     "data": {
      "text/plain": [
       "0.9312652455426063"
      ]
     },
     "execution_count": 151,
     "metadata": {},
     "output_type": "execute_result"
    }
   ],
   "source": [
    "model1.fit(X_train,y_train)\n",
    "y_pred1=model1.predict(X_test)\n",
    "model1.score(X_test,y_test)"
   ]
  },
  {
   "cell_type": "code",
   "execution_count": 152,
   "id": "d87e1703-6d9a-4c7d-ae61-d32d69ffcb6e",
   "metadata": {},
   "outputs": [
    {
     "data": {
      "text/plain": [
       "19      9.7\n",
       "46     10.7\n",
       "143     7.3\n",
       "30     12.8\n",
       "69     14.2\n",
       "16     12.5\n",
       "122    11.6\n",
       "178     7.6\n",
       "111    15.2\n",
       "144    12.9\n",
       "24     10.5\n",
       "166     8.7\n",
       "42     23.2\n",
       "121    10.8\n",
       "15     18.0\n",
       "113     6.6\n",
       "116     9.7\n",
       "84     19.4\n",
       "9       9.2\n",
       "117     1.6\n",
       "18     15.5\n",
       "68      6.9\n",
       "62     22.3\n",
       "173    10.8\n",
       "175     5.9\n",
       "154     8.4\n",
       "120    19.6\n",
       "67     17.0\n",
       "92     14.7\n",
       "57     18.0\n",
       "29      9.5\n",
       "130    10.3\n",
       "148    18.0\n",
       "32     14.7\n",
       "12     22.4\n",
       "43     14.8\n",
       "161    11.7\n",
       "140     3.2\n",
       "100    21.8\n",
       "163    12.6\n",
       "39      8.5\n",
       "110    11.6\n",
       "87     11.7\n",
       "70      5.3\n",
       "146    13.3\n",
       "2      12.9\n",
       "102    15.9\n",
       "125    20.7\n",
       "157    11.7\n",
       "53     18.4\n",
       "78     12.0\n",
       "58      9.3\n",
       "26     11.9\n",
       "156     7.6\n",
       "Name: sales, dtype: float64"
      ]
     },
     "execution_count": 152,
     "metadata": {},
     "output_type": "execute_result"
    }
   ],
   "source": [
    "y_test"
   ]
  },
  {
   "cell_type": "code",
   "execution_count": 153,
   "id": "39252cff-7211-457e-aa05-ebe283280869",
   "metadata": {},
   "outputs": [
    {
     "data": {
      "text/plain": [
       "array([ 9.26393281,  9.99267076,  8.9781383 , 13.49271361, 13.72626209,\n",
       "       12.67334675, 11.73736656,  7.81027929, 14.86408797, 12.60013579,\n",
       "        9.99920994,  8.43113559, 23.47085395, 10.74089298, 18.66369245,\n",
       "        8.87986598,  9.19698504, 20.29383   ,  9.70272791,  8.19944197,\n",
       "       15.82768137,  7.44520048, 22.75936364, 10.65964264,  7.38579308,\n",
       "        8.78318875, 20.27192824, 17.2370373 , 14.3626644 , 16.91637692,\n",
       "        8.74871137,  9.71428188, 17.53181459, 14.19538482, 22.59429612,\n",
       "       15.64555155, 11.72490715,  7.3454008 , 22.59501838, 11.99234923,\n",
       "        9.01165223, 11.56167747, 11.24519849,  8.11043659, 13.21665384,\n",
       "       12.8390746 , 16.00081985, 20.37184471, 11.41996015, 18.37079121,\n",
       "       11.45132243,  9.06396831, 11.73676228,  8.31992961])"
      ]
     },
     "execution_count": 153,
     "metadata": {},
     "output_type": "execute_result"
    }
   ],
   "source": [
    "y_pred1"
   ]
  },
  {
   "cell_type": "code",
   "execution_count": 154,
   "id": "b02d76dc-2a46-4a8f-a749-1a41d8f8f406",
   "metadata": {},
   "outputs": [
    {
     "data": {
      "text/plain": [
       "0.7156790669702929"
      ]
     },
     "execution_count": 154,
     "metadata": {},
     "output_type": "execute_result"
    }
   ],
   "source": [
    "from sklearn.metrics import mean_absolute_error,mean_squared_error\n",
    "mean_absolute_error(y_pred1,y_test)"
   ]
  },
  {
   "cell_type": "code",
   "execution_count": 155,
   "id": "4c0add41-dd31-4e20-a685-bf9cfe33d178",
   "metadata": {},
   "outputs": [
    {
     "data": {
      "text/plain": [
       "1.2908956801801652"
      ]
     },
     "execution_count": 155,
     "metadata": {},
     "output_type": "execute_result"
    }
   ],
   "source": [
    "import numpy as np\n",
    "np.sqrt(mean_squared_error(y_pred1,y_test))"
   ]
  },
  {
   "cell_type": "code",
   "execution_count": 156,
   "id": "3586afb0-c410-42ed-ace3-8dc90198aadf",
   "metadata": {},
   "outputs": [
    {
     "data": {
      "text/html": [
       "<div>\n",
       "<style scoped>\n",
       "    .dataframe tbody tr th:only-of-type {\n",
       "        vertical-align: middle;\n",
       "    }\n",
       "\n",
       "    .dataframe tbody tr th {\n",
       "        vertical-align: top;\n",
       "    }\n",
       "\n",
       "    .dataframe thead th {\n",
       "        text-align: right;\n",
       "    }\n",
       "</style>\n",
       "<table border=\"1\" class=\"dataframe\">\n",
       "  <thead>\n",
       "    <tr style=\"text-align: right;\">\n",
       "      <th></th>\n",
       "      <th>TV</th>\n",
       "      <th>radio</th>\n",
       "      <th>newspaper&amp;radio</th>\n",
       "      <th>newspaper&amp;TV</th>\n",
       "      <th>TV&amp;radio</th>\n",
       "    </tr>\n",
       "  </thead>\n",
       "  <tbody>\n",
       "    <tr>\n",
       "      <th>0</th>\n",
       "      <td>44.5</td>\n",
       "      <td>39.3</td>\n",
       "      <td>1772.43</td>\n",
       "      <td>2006.95</td>\n",
       "      <td>1748.85</td>\n",
       "    </tr>\n",
       "    <tr>\n",
       "      <th>1</th>\n",
       "      <td>151.5</td>\n",
       "      <td>41.3</td>\n",
       "      <td>2416.05</td>\n",
       "      <td>8862.75</td>\n",
       "      <td>6256.95</td>\n",
       "    </tr>\n",
       "    <tr>\n",
       "      <th>2</th>\n",
       "      <td>180.8</td>\n",
       "      <td>10.8</td>\n",
       "      <td>630.72</td>\n",
       "      <td>10558.72</td>\n",
       "      <td>1952.64</td>\n",
       "    </tr>\n",
       "    <tr>\n",
       "      <th>3</th>\n",
       "      <td>57.5</td>\n",
       "      <td>32.8</td>\n",
       "      <td>770.80</td>\n",
       "      <td>1351.25</td>\n",
       "      <td>1886.00</td>\n",
       "    </tr>\n",
       "    <tr>\n",
       "      <th>4</th>\n",
       "      <td>120.2</td>\n",
       "      <td>19.6</td>\n",
       "      <td>227.36</td>\n",
       "      <td>1394.32</td>\n",
       "      <td>2355.92</td>\n",
       "    </tr>\n",
       "    <tr>\n",
       "      <th>...</th>\n",
       "      <td>...</td>\n",
       "      <td>...</td>\n",
       "      <td>...</td>\n",
       "      <td>...</td>\n",
       "      <td>...</td>\n",
       "    </tr>\n",
       "    <tr>\n",
       "      <th>177</th>\n",
       "      <td>149.7</td>\n",
       "      <td>35.6</td>\n",
       "      <td>213.60</td>\n",
       "      <td>898.20</td>\n",
       "      <td>5329.32</td>\n",
       "    </tr>\n",
       "    <tr>\n",
       "      <th>178</th>\n",
       "      <td>38.2</td>\n",
       "      <td>3.7</td>\n",
       "      <td>51.06</td>\n",
       "      <td>527.16</td>\n",
       "      <td>141.34</td>\n",
       "    </tr>\n",
       "    <tr>\n",
       "      <th>179</th>\n",
       "      <td>94.2</td>\n",
       "      <td>4.9</td>\n",
       "      <td>39.69</td>\n",
       "      <td>763.02</td>\n",
       "      <td>461.58</td>\n",
       "    </tr>\n",
       "    <tr>\n",
       "      <th>180</th>\n",
       "      <td>177.0</td>\n",
       "      <td>9.3</td>\n",
       "      <td>59.52</td>\n",
       "      <td>1132.80</td>\n",
       "      <td>1646.10</td>\n",
       "    </tr>\n",
       "    <tr>\n",
       "      <th>181</th>\n",
       "      <td>232.1</td>\n",
       "      <td>8.6</td>\n",
       "      <td>74.82</td>\n",
       "      <td>2019.27</td>\n",
       "      <td>1996.06</td>\n",
       "    </tr>\n",
       "  </tbody>\n",
       "</table>\n",
       "<p>177 rows × 5 columns</p>\n",
       "</div>"
      ],
      "text/plain": [
       "        TV  radio  newspaper&radio  newspaper&TV  TV&radio\n",
       "0     44.5   39.3          1772.43       2006.95   1748.85\n",
       "1    151.5   41.3          2416.05       8862.75   6256.95\n",
       "2    180.8   10.8           630.72      10558.72   1952.64\n",
       "3     57.5   32.8           770.80       1351.25   1886.00\n",
       "4    120.2   19.6           227.36       1394.32   2355.92\n",
       "..     ...    ...              ...           ...       ...\n",
       "177  149.7   35.6           213.60        898.20   5329.32\n",
       "178   38.2    3.7            51.06        527.16    141.34\n",
       "179   94.2    4.9            39.69        763.02    461.58\n",
       "180  177.0    9.3            59.52       1132.80   1646.10\n",
       "181  232.1    8.6            74.82       2019.27   1996.06\n",
       "\n",
       "[177 rows x 5 columns]"
      ]
     },
     "execution_count": 156,
     "metadata": {},
     "output_type": "execute_result"
    }
   ],
   "source": [
    "X"
   ]
  },
  {
   "cell_type": "code",
   "execution_count": 160,
   "id": "c894be6f-cb35-4bf1-b390-e4c3092814a5",
   "metadata": {},
   "outputs": [],
   "source": [
    "a=np.array([[230.1,37.8,2615.76,15922.92,8697.78]])"
   ]
  },
  {
   "cell_type": "code",
   "execution_count": 161,
   "id": "cbc24821-872c-4aba-9655-37c3dabee0ff",
   "metadata": {},
   "outputs": [],
   "source": [
    "aa=pd.DataFrame(a,columns=['TV','radio','newspaper&radio','newspaper&TV','TV&radio'])"
   ]
  },
  {
   "cell_type": "code",
   "execution_count": 162,
   "id": "c219852e-0141-4e98-a32b-6e46e527b0da",
   "metadata": {},
   "outputs": [
    {
     "data": {
      "text/html": [
       "<div>\n",
       "<style scoped>\n",
       "    .dataframe tbody tr th:only-of-type {\n",
       "        vertical-align: middle;\n",
       "    }\n",
       "\n",
       "    .dataframe tbody tr th {\n",
       "        vertical-align: top;\n",
       "    }\n",
       "\n",
       "    .dataframe thead th {\n",
       "        text-align: right;\n",
       "    }\n",
       "</style>\n",
       "<table border=\"1\" class=\"dataframe\">\n",
       "  <thead>\n",
       "    <tr style=\"text-align: right;\">\n",
       "      <th></th>\n",
       "      <th>TV</th>\n",
       "      <th>radio</th>\n",
       "      <th>newspaper&amp;radio</th>\n",
       "      <th>newspaper&amp;TV</th>\n",
       "      <th>TV&amp;radio</th>\n",
       "    </tr>\n",
       "  </thead>\n",
       "  <tbody>\n",
       "    <tr>\n",
       "      <th>0</th>\n",
       "      <td>230.1</td>\n",
       "      <td>37.8</td>\n",
       "      <td>2615.76</td>\n",
       "      <td>15922.92</td>\n",
       "      <td>8697.78</td>\n",
       "    </tr>\n",
       "  </tbody>\n",
       "</table>\n",
       "</div>"
      ],
      "text/plain": [
       "      TV  radio  newspaper&radio  newspaper&TV  TV&radio\n",
       "0  230.1   37.8          2615.76      15922.92   8697.78"
      ]
     },
     "execution_count": 162,
     "metadata": {},
     "output_type": "execute_result"
    }
   ],
   "source": [
    "aa"
   ]
  },
  {
   "cell_type": "code",
   "execution_count": 163,
   "id": "75c9d908-304a-4bb3-9dce-3abe87d82ac0",
   "metadata": {},
   "outputs": [],
   "source": [
    "aa=scaler.transform(aa)"
   ]
  },
  {
   "cell_type": "code",
   "execution_count": 164,
   "id": "147669cd-1055-413e-8054-8a331ff918c0",
   "metadata": {},
   "outputs": [
    {
     "data": {
      "text/plain": [
       "array([[1.04540626, 1.29768512, 3.0409496 , 3.68740702, 2.23191085]])"
      ]
     },
     "execution_count": 164,
     "metadata": {},
     "output_type": "execute_result"
    }
   ],
   "source": [
    "aa"
   ]
  },
  {
   "cell_type": "code",
   "execution_count": 165,
   "id": "adceb941-0ec0-49ec-bc1c-cb8328770c77",
   "metadata": {},
   "outputs": [
    {
     "data": {
      "text/plain": [
       "array([22.34645004])"
      ]
     },
     "execution_count": 165,
     "metadata": {},
     "output_type": "execute_result"
    }
   ],
   "source": [
    "model1.predict(aa)"
   ]
  },
  {
   "cell_type": "code",
   "execution_count": null,
   "id": "0302f6b2-cbd3-4d70-81fb-b77fac60b67d",
   "metadata": {},
   "outputs": [],
   "source": []
  }
 ],
 "metadata": {
  "kernelspec": {
   "display_name": "Python 3 (ipykernel)",
   "language": "python",
   "name": "python3"
  },
  "language_info": {
   "codemirror_mode": {
    "name": "ipython",
    "version": 3
   },
   "file_extension": ".py",
   "mimetype": "text/x-python",
   "name": "python",
   "nbconvert_exporter": "python",
   "pygments_lexer": "ipython3",
   "version": "3.10.5"
  }
 },
 "nbformat": 4,
 "nbformat_minor": 5
}
