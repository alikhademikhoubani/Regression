{
 "cells": [
  {
   "cell_type": "code",
   "execution_count": 119,
   "id": "cb0cabd2",
   "metadata": {},
   "outputs": [],
   "source": [
    "import pandas as pd\n",
    "import numpy as np\n",
    "import matplotlib.pyplot as plt\n",
    "from sklearn.preprocessing import StandardScaler\n",
    "from sklearn.model_selection import train_test_split\n",
    "from sklearn.linear_model import LinearRegression\n",
    "from sklearn.impute import SimpleImputer\n",
    "import statsmodels.api as sm\n",
    "from statsmodels.stats.outliers_influence import variance_inflation_factor\n",
    "from sklearn.preprocessing import StandardScaler\n",
    "from sklearn.linear_model import LinearRegression\n",
    "from sklearn.model_selection import train_test_split\n",
    "from sklearn.feature_selection import f_regression\n",
    "import warnings\n",
    "warnings.filterwarnings('ignore')\n",
    "import seaborn as sns\n",
    "sns.set()"
   ]
  },
  {
   "cell_type": "code",
   "execution_count": 2,
   "id": "f330e19c",
   "metadata": {},
   "outputs": [
    {
     "data": {
      "text/html": [
       "<div>\n",
       "<style scoped>\n",
       "    .dataframe tbody tr th:only-of-type {\n",
       "        vertical-align: middle;\n",
       "    }\n",
       "\n",
       "    .dataframe tbody tr th {\n",
       "        vertical-align: top;\n",
       "    }\n",
       "\n",
       "    .dataframe thead th {\n",
       "        text-align: right;\n",
       "    }\n",
       "</style>\n",
       "<table border=\"1\" class=\"dataframe\">\n",
       "  <thead>\n",
       "    <tr style=\"text-align: right;\">\n",
       "      <th></th>\n",
       "      <th>name</th>\n",
       "      <th>year</th>\n",
       "      <th>selling_price</th>\n",
       "      <th>km_driven</th>\n",
       "      <th>fuel</th>\n",
       "      <th>seller_type</th>\n",
       "      <th>transmission</th>\n",
       "      <th>owner</th>\n",
       "      <th>mileage</th>\n",
       "      <th>engine</th>\n",
       "      <th>max_power</th>\n",
       "      <th>torque</th>\n",
       "      <th>seats</th>\n",
       "    </tr>\n",
       "  </thead>\n",
       "  <tbody>\n",
       "    <tr>\n",
       "      <th>0</th>\n",
       "      <td>Maruti Swift Dzire VDI</td>\n",
       "      <td>2014</td>\n",
       "      <td>450000</td>\n",
       "      <td>145500</td>\n",
       "      <td>Diesel</td>\n",
       "      <td>Individual</td>\n",
       "      <td>Manual</td>\n",
       "      <td>First Owner</td>\n",
       "      <td>23.4 kmpl</td>\n",
       "      <td>1248 CC</td>\n",
       "      <td>74 bhp</td>\n",
       "      <td>190Nm@ 2000rpm</td>\n",
       "      <td>5.0</td>\n",
       "    </tr>\n",
       "    <tr>\n",
       "      <th>1</th>\n",
       "      <td>Skoda Rapid 1.5 TDI Ambition</td>\n",
       "      <td>2014</td>\n",
       "      <td>370000</td>\n",
       "      <td>120000</td>\n",
       "      <td>Diesel</td>\n",
       "      <td>Individual</td>\n",
       "      <td>Manual</td>\n",
       "      <td>Second Owner</td>\n",
       "      <td>21.14 kmpl</td>\n",
       "      <td>1498 CC</td>\n",
       "      <td>103.52 bhp</td>\n",
       "      <td>250Nm@ 1500-2500rpm</td>\n",
       "      <td>5.0</td>\n",
       "    </tr>\n",
       "    <tr>\n",
       "      <th>2</th>\n",
       "      <td>Honda City 2017-2020 EXi</td>\n",
       "      <td>2006</td>\n",
       "      <td>158000</td>\n",
       "      <td>140000</td>\n",
       "      <td>Petrol</td>\n",
       "      <td>Individual</td>\n",
       "      <td>Manual</td>\n",
       "      <td>Third Owner</td>\n",
       "      <td>17.7 kmpl</td>\n",
       "      <td>1497 CC</td>\n",
       "      <td>78 bhp</td>\n",
       "      <td>12.7@ 2,700(kgm@ rpm)</td>\n",
       "      <td>5.0</td>\n",
       "    </tr>\n",
       "    <tr>\n",
       "      <th>3</th>\n",
       "      <td>Hyundai i20 Sportz Diesel</td>\n",
       "      <td>2010</td>\n",
       "      <td>225000</td>\n",
       "      <td>127000</td>\n",
       "      <td>Diesel</td>\n",
       "      <td>Individual</td>\n",
       "      <td>Manual</td>\n",
       "      <td>First Owner</td>\n",
       "      <td>23.0 kmpl</td>\n",
       "      <td>1396 CC</td>\n",
       "      <td>90 bhp</td>\n",
       "      <td>22.4 kgm at 1750-2750rpm</td>\n",
       "      <td>5.0</td>\n",
       "    </tr>\n",
       "    <tr>\n",
       "      <th>4</th>\n",
       "      <td>Maruti Swift VXI BSIII</td>\n",
       "      <td>2007</td>\n",
       "      <td>130000</td>\n",
       "      <td>120000</td>\n",
       "      <td>Petrol</td>\n",
       "      <td>Individual</td>\n",
       "      <td>Manual</td>\n",
       "      <td>First Owner</td>\n",
       "      <td>16.1 kmpl</td>\n",
       "      <td>1298 CC</td>\n",
       "      <td>88.2 bhp</td>\n",
       "      <td>11.5@ 4,500(kgm@ rpm)</td>\n",
       "      <td>5.0</td>\n",
       "    </tr>\n",
       "  </tbody>\n",
       "</table>\n",
       "</div>"
      ],
      "text/plain": [
       "                           name  year  selling_price  km_driven    fuel  \\\n",
       "0        Maruti Swift Dzire VDI  2014         450000     145500  Diesel   \n",
       "1  Skoda Rapid 1.5 TDI Ambition  2014         370000     120000  Diesel   \n",
       "2      Honda City 2017-2020 EXi  2006         158000     140000  Petrol   \n",
       "3     Hyundai i20 Sportz Diesel  2010         225000     127000  Diesel   \n",
       "4        Maruti Swift VXI BSIII  2007         130000     120000  Petrol   \n",
       "\n",
       "  seller_type transmission         owner     mileage   engine   max_power  \\\n",
       "0  Individual       Manual   First Owner   23.4 kmpl  1248 CC      74 bhp   \n",
       "1  Individual       Manual  Second Owner  21.14 kmpl  1498 CC  103.52 bhp   \n",
       "2  Individual       Manual   Third Owner   17.7 kmpl  1497 CC      78 bhp   \n",
       "3  Individual       Manual   First Owner   23.0 kmpl  1396 CC      90 bhp   \n",
       "4  Individual       Manual   First Owner   16.1 kmpl  1298 CC    88.2 bhp   \n",
       "\n",
       "                     torque  seats  \n",
       "0            190Nm@ 2000rpm    5.0  \n",
       "1       250Nm@ 1500-2500rpm    5.0  \n",
       "2     12.7@ 2,700(kgm@ rpm)    5.0  \n",
       "3  22.4 kgm at 1750-2750rpm    5.0  \n",
       "4     11.5@ 4,500(kgm@ rpm)    5.0  "
      ]
     },
     "execution_count": 2,
     "metadata": {},
     "output_type": "execute_result"
    }
   ],
   "source": [
    "df = pd.read_csv('Cardetails.csv')\n",
    "df.head()"
   ]
  },
  {
   "cell_type": "code",
   "execution_count": 3,
   "id": "2c2f0b94",
   "metadata": {},
   "outputs": [
    {
     "data": {
      "text/plain": [
       "(8128, 13)"
      ]
     },
     "execution_count": 3,
     "metadata": {},
     "output_type": "execute_result"
    }
   ],
   "source": [
    "df.shape"
   ]
  },
  {
   "cell_type": "code",
   "execution_count": 4,
   "id": "90bfdf44",
   "metadata": {},
   "outputs": [
    {
     "name": "stdout",
     "output_type": "stream",
     "text": [
      "<class 'pandas.core.frame.DataFrame'>\n",
      "RangeIndex: 8128 entries, 0 to 8127\n",
      "Data columns (total 13 columns):\n",
      " #   Column         Non-Null Count  Dtype  \n",
      "---  ------         --------------  -----  \n",
      " 0   name           8128 non-null   object \n",
      " 1   year           8128 non-null   int64  \n",
      " 2   selling_price  8128 non-null   int64  \n",
      " 3   km_driven      8128 non-null   int64  \n",
      " 4   fuel           8128 non-null   object \n",
      " 5   seller_type    8128 non-null   object \n",
      " 6   transmission   8128 non-null   object \n",
      " 7   owner          8128 non-null   object \n",
      " 8   mileage        7907 non-null   object \n",
      " 9   engine         7907 non-null   object \n",
      " 10  max_power      7913 non-null   object \n",
      " 11  torque         7906 non-null   object \n",
      " 12  seats          7907 non-null   float64\n",
      "dtypes: float64(1), int64(3), object(9)\n",
      "memory usage: 825.6+ KB\n"
     ]
    }
   ],
   "source": [
    "df.info()"
   ]
  },
  {
   "cell_type": "code",
   "execution_count": 5,
   "id": "996ed3a5",
   "metadata": {},
   "outputs": [
    {
     "data": {
      "text/plain": [
       "name               0\n",
       "year               0\n",
       "selling_price      0\n",
       "km_driven          0\n",
       "fuel               0\n",
       "seller_type        0\n",
       "transmission       0\n",
       "owner              0\n",
       "mileage          221\n",
       "engine           221\n",
       "max_power        215\n",
       "torque           222\n",
       "seats            221\n",
       "dtype: int64"
      ]
     },
     "execution_count": 5,
     "metadata": {},
     "output_type": "execute_result"
    }
   ],
   "source": [
    "df.isnull().sum()"
   ]
  },
  {
   "cell_type": "code",
   "execution_count": 6,
   "id": "17122387",
   "metadata": {},
   "outputs": [
    {
     "data": {
      "text/html": [
       "<div>\n",
       "<style scoped>\n",
       "    .dataframe tbody tr th:only-of-type {\n",
       "        vertical-align: middle;\n",
       "    }\n",
       "\n",
       "    .dataframe tbody tr th {\n",
       "        vertical-align: top;\n",
       "    }\n",
       "\n",
       "    .dataframe thead th {\n",
       "        text-align: right;\n",
       "    }\n",
       "</style>\n",
       "<table border=\"1\" class=\"dataframe\">\n",
       "  <thead>\n",
       "    <tr style=\"text-align: right;\">\n",
       "      <th></th>\n",
       "      <th>year</th>\n",
       "      <th>selling_price</th>\n",
       "      <th>km_driven</th>\n",
       "      <th>seats</th>\n",
       "    </tr>\n",
       "  </thead>\n",
       "  <tbody>\n",
       "    <tr>\n",
       "      <th>count</th>\n",
       "      <td>8128.000000</td>\n",
       "      <td>8.128000e+03</td>\n",
       "      <td>8.128000e+03</td>\n",
       "      <td>7907.000000</td>\n",
       "    </tr>\n",
       "    <tr>\n",
       "      <th>mean</th>\n",
       "      <td>2013.804011</td>\n",
       "      <td>6.382718e+05</td>\n",
       "      <td>6.981951e+04</td>\n",
       "      <td>5.416719</td>\n",
       "    </tr>\n",
       "    <tr>\n",
       "      <th>std</th>\n",
       "      <td>4.044249</td>\n",
       "      <td>8.062534e+05</td>\n",
       "      <td>5.655055e+04</td>\n",
       "      <td>0.959588</td>\n",
       "    </tr>\n",
       "    <tr>\n",
       "      <th>min</th>\n",
       "      <td>1983.000000</td>\n",
       "      <td>2.999900e+04</td>\n",
       "      <td>1.000000e+00</td>\n",
       "      <td>2.000000</td>\n",
       "    </tr>\n",
       "    <tr>\n",
       "      <th>25%</th>\n",
       "      <td>2011.000000</td>\n",
       "      <td>2.549990e+05</td>\n",
       "      <td>3.500000e+04</td>\n",
       "      <td>5.000000</td>\n",
       "    </tr>\n",
       "    <tr>\n",
       "      <th>50%</th>\n",
       "      <td>2015.000000</td>\n",
       "      <td>4.500000e+05</td>\n",
       "      <td>6.000000e+04</td>\n",
       "      <td>5.000000</td>\n",
       "    </tr>\n",
       "    <tr>\n",
       "      <th>75%</th>\n",
       "      <td>2017.000000</td>\n",
       "      <td>6.750000e+05</td>\n",
       "      <td>9.800000e+04</td>\n",
       "      <td>5.000000</td>\n",
       "    </tr>\n",
       "    <tr>\n",
       "      <th>max</th>\n",
       "      <td>2020.000000</td>\n",
       "      <td>1.000000e+07</td>\n",
       "      <td>2.360457e+06</td>\n",
       "      <td>14.000000</td>\n",
       "    </tr>\n",
       "  </tbody>\n",
       "</table>\n",
       "</div>"
      ],
      "text/plain": [
       "              year  selling_price     km_driven        seats\n",
       "count  8128.000000   8.128000e+03  8.128000e+03  7907.000000\n",
       "mean   2013.804011   6.382718e+05  6.981951e+04     5.416719\n",
       "std       4.044249   8.062534e+05  5.655055e+04     0.959588\n",
       "min    1983.000000   2.999900e+04  1.000000e+00     2.000000\n",
       "25%    2011.000000   2.549990e+05  3.500000e+04     5.000000\n",
       "50%    2015.000000   4.500000e+05  6.000000e+04     5.000000\n",
       "75%    2017.000000   6.750000e+05  9.800000e+04     5.000000\n",
       "max    2020.000000   1.000000e+07  2.360457e+06    14.000000"
      ]
     },
     "execution_count": 6,
     "metadata": {},
     "output_type": "execute_result"
    }
   ],
   "source": [
    "df.describe()"
   ]
  },
  {
   "cell_type": "code",
   "execution_count": 7,
   "id": "cc4869cf",
   "metadata": {},
   "outputs": [],
   "source": [
    "data = df.copy()"
   ]
  },
  {
   "cell_type": "code",
   "execution_count": 8,
   "id": "d72522a2",
   "metadata": {},
   "outputs": [],
   "source": [
    "imputer = SimpleImputer(missing_values = np.nan, strategy = 'median')\n",
    "data['seats'] = imputer.fit_transform(data[['seats']])"
   ]
  },
  {
   "cell_type": "code",
   "execution_count": 9,
   "id": "cb7b085a",
   "metadata": {},
   "outputs": [
    {
     "data": {
      "text/plain": [
       "name               0\n",
       "year               0\n",
       "selling_price      0\n",
       "km_driven          0\n",
       "fuel               0\n",
       "seller_type        0\n",
       "transmission       0\n",
       "owner              0\n",
       "mileage          221\n",
       "engine           221\n",
       "max_power        215\n",
       "torque           222\n",
       "seats              0\n",
       "dtype: int64"
      ]
     },
     "execution_count": 9,
     "metadata": {},
     "output_type": "execute_result"
    }
   ],
   "source": [
    "data.apply(pd.isnull).sum()"
   ]
  },
  {
   "cell_type": "code",
   "execution_count": 10,
   "id": "33c18d30",
   "metadata": {},
   "outputs": [],
   "source": [
    "data['mileage'] = data['mileage'].str.replace(' kmpl', '')"
   ]
  },
  {
   "cell_type": "code",
   "execution_count": 11,
   "id": "078e035d",
   "metadata": {},
   "outputs": [],
   "source": [
    "data['mileage'] = data['mileage'].str.replace(' km/kg', '')"
   ]
  },
  {
   "cell_type": "code",
   "execution_count": 12,
   "id": "e03448b6",
   "metadata": {},
   "outputs": [],
   "source": [
    "data['mileage'] = pd.to_numeric(data['mileage'])"
   ]
  },
  {
   "cell_type": "code",
   "execution_count": 13,
   "id": "b5c4cf55",
   "metadata": {},
   "outputs": [],
   "source": [
    "data['engine'] = data['engine'].str.replace(' CC', '')"
   ]
  },
  {
   "cell_type": "code",
   "execution_count": 14,
   "id": "c545ecf0",
   "metadata": {},
   "outputs": [],
   "source": [
    "data['engine'] = pd.to_numeric(data['engine'])"
   ]
  },
  {
   "cell_type": "code",
   "execution_count": 15,
   "id": "3f2ddb01",
   "metadata": {},
   "outputs": [],
   "source": [
    "data['max_power'] = data['max_power'].str.replace(' bhp', '')"
   ]
  },
  {
   "cell_type": "code",
   "execution_count": 16,
   "id": "a2f6bfd2",
   "metadata": {},
   "outputs": [],
   "source": [
    "data['max_power'] = pd.to_numeric(data['max_power'])"
   ]
  },
  {
   "cell_type": "code",
   "execution_count": 17,
   "id": "34a29619",
   "metadata": {},
   "outputs": [
    {
     "data": {
      "text/plain": [
       "name               0\n",
       "year               0\n",
       "selling_price      0\n",
       "km_driven          0\n",
       "fuel               0\n",
       "seller_type        0\n",
       "transmission       0\n",
       "owner              0\n",
       "mileage          221\n",
       "engine           221\n",
       "max_power        216\n",
       "torque           222\n",
       "seats              0\n",
       "dtype: int64"
      ]
     },
     "execution_count": 17,
     "metadata": {},
     "output_type": "execute_result"
    }
   ],
   "source": [
    "data.isnull().sum()"
   ]
  },
  {
   "cell_type": "code",
   "execution_count": 18,
   "id": "1bc95ce1",
   "metadata": {},
   "outputs": [],
   "source": [
    "cols1 = ['mileage', 'engine', 'max_power']"
   ]
  },
  {
   "cell_type": "code",
   "execution_count": 19,
   "id": "58b50d78",
   "metadata": {},
   "outputs": [],
   "source": [
    "data[cols1] = imputer.fit_transform(data[cols1])"
   ]
  },
  {
   "cell_type": "code",
   "execution_count": 20,
   "id": "5fb4cfcc",
   "metadata": {},
   "outputs": [
    {
     "data": {
      "text/plain": [
       "name               0\n",
       "year               0\n",
       "selling_price      0\n",
       "km_driven          0\n",
       "fuel               0\n",
       "seller_type        0\n",
       "transmission       0\n",
       "owner              0\n",
       "mileage            0\n",
       "engine             0\n",
       "max_power          0\n",
       "torque           222\n",
       "seats              0\n",
       "dtype: int64"
      ]
     },
     "execution_count": 20,
     "metadata": {},
     "output_type": "execute_result"
    }
   ],
   "source": [
    "data.apply(pd.isnull).sum()"
   ]
  },
  {
   "cell_type": "code",
   "execution_count": 21,
   "id": "919d70a9",
   "metadata": {},
   "outputs": [],
   "source": [
    "data.drop(columns = ['torque'], axis = 1, inplace = True)"
   ]
  },
  {
   "cell_type": "code",
   "execution_count": 22,
   "id": "24d26eab",
   "metadata": {},
   "outputs": [],
   "source": [
    "def text_splitting(text):\n",
    "    return text.split()[0]"
   ]
  },
  {
   "cell_type": "code",
   "execution_count": 23,
   "id": "43d84bc8",
   "metadata": {},
   "outputs": [],
   "source": [
    "data['brand'] = data['name'].apply(text_splitting)"
   ]
  },
  {
   "cell_type": "code",
   "execution_count": 24,
   "id": "483405db",
   "metadata": {},
   "outputs": [],
   "source": [
    "data.drop(columns = ['name'], axis = 1, inplace = True)"
   ]
  },
  {
   "cell_type": "code",
   "execution_count": 25,
   "id": "cc4ae09c",
   "metadata": {},
   "outputs": [
    {
     "data": {
      "text/html": [
       "<div>\n",
       "<style scoped>\n",
       "    .dataframe tbody tr th:only-of-type {\n",
       "        vertical-align: middle;\n",
       "    }\n",
       "\n",
       "    .dataframe tbody tr th {\n",
       "        vertical-align: top;\n",
       "    }\n",
       "\n",
       "    .dataframe thead th {\n",
       "        text-align: right;\n",
       "    }\n",
       "</style>\n",
       "<table border=\"1\" class=\"dataframe\">\n",
       "  <thead>\n",
       "    <tr style=\"text-align: right;\">\n",
       "      <th></th>\n",
       "      <th>year</th>\n",
       "      <th>selling_price</th>\n",
       "      <th>km_driven</th>\n",
       "      <th>fuel</th>\n",
       "      <th>seller_type</th>\n",
       "      <th>transmission</th>\n",
       "      <th>owner</th>\n",
       "      <th>mileage</th>\n",
       "      <th>engine</th>\n",
       "      <th>max_power</th>\n",
       "      <th>seats</th>\n",
       "      <th>brand</th>\n",
       "    </tr>\n",
       "  </thead>\n",
       "  <tbody>\n",
       "    <tr>\n",
       "      <th>0</th>\n",
       "      <td>2014</td>\n",
       "      <td>450000</td>\n",
       "      <td>145500</td>\n",
       "      <td>Diesel</td>\n",
       "      <td>Individual</td>\n",
       "      <td>Manual</td>\n",
       "      <td>First Owner</td>\n",
       "      <td>23.40</td>\n",
       "      <td>1248.0</td>\n",
       "      <td>74.00</td>\n",
       "      <td>5.0</td>\n",
       "      <td>Maruti</td>\n",
       "    </tr>\n",
       "    <tr>\n",
       "      <th>1</th>\n",
       "      <td>2014</td>\n",
       "      <td>370000</td>\n",
       "      <td>120000</td>\n",
       "      <td>Diesel</td>\n",
       "      <td>Individual</td>\n",
       "      <td>Manual</td>\n",
       "      <td>Second Owner</td>\n",
       "      <td>21.14</td>\n",
       "      <td>1498.0</td>\n",
       "      <td>103.52</td>\n",
       "      <td>5.0</td>\n",
       "      <td>Skoda</td>\n",
       "    </tr>\n",
       "    <tr>\n",
       "      <th>2</th>\n",
       "      <td>2006</td>\n",
       "      <td>158000</td>\n",
       "      <td>140000</td>\n",
       "      <td>Petrol</td>\n",
       "      <td>Individual</td>\n",
       "      <td>Manual</td>\n",
       "      <td>Third Owner</td>\n",
       "      <td>17.70</td>\n",
       "      <td>1497.0</td>\n",
       "      <td>78.00</td>\n",
       "      <td>5.0</td>\n",
       "      <td>Honda</td>\n",
       "    </tr>\n",
       "    <tr>\n",
       "      <th>3</th>\n",
       "      <td>2010</td>\n",
       "      <td>225000</td>\n",
       "      <td>127000</td>\n",
       "      <td>Diesel</td>\n",
       "      <td>Individual</td>\n",
       "      <td>Manual</td>\n",
       "      <td>First Owner</td>\n",
       "      <td>23.00</td>\n",
       "      <td>1396.0</td>\n",
       "      <td>90.00</td>\n",
       "      <td>5.0</td>\n",
       "      <td>Hyundai</td>\n",
       "    </tr>\n",
       "    <tr>\n",
       "      <th>4</th>\n",
       "      <td>2007</td>\n",
       "      <td>130000</td>\n",
       "      <td>120000</td>\n",
       "      <td>Petrol</td>\n",
       "      <td>Individual</td>\n",
       "      <td>Manual</td>\n",
       "      <td>First Owner</td>\n",
       "      <td>16.10</td>\n",
       "      <td>1298.0</td>\n",
       "      <td>88.20</td>\n",
       "      <td>5.0</td>\n",
       "      <td>Maruti</td>\n",
       "    </tr>\n",
       "  </tbody>\n",
       "</table>\n",
       "</div>"
      ],
      "text/plain": [
       "   year  selling_price  km_driven    fuel seller_type transmission  \\\n",
       "0  2014         450000     145500  Diesel  Individual       Manual   \n",
       "1  2014         370000     120000  Diesel  Individual       Manual   \n",
       "2  2006         158000     140000  Petrol  Individual       Manual   \n",
       "3  2010         225000     127000  Diesel  Individual       Manual   \n",
       "4  2007         130000     120000  Petrol  Individual       Manual   \n",
       "\n",
       "          owner  mileage  engine  max_power  seats    brand  \n",
       "0   First Owner    23.40  1248.0      74.00    5.0   Maruti  \n",
       "1  Second Owner    21.14  1498.0     103.52    5.0    Skoda  \n",
       "2   Third Owner    17.70  1497.0      78.00    5.0    Honda  \n",
       "3   First Owner    23.00  1396.0      90.00    5.0  Hyundai  \n",
       "4   First Owner    16.10  1298.0      88.20    5.0   Maruti  "
      ]
     },
     "execution_count": 25,
     "metadata": {},
     "output_type": "execute_result"
    }
   ],
   "source": [
    "data.head()"
   ]
  },
  {
   "cell_type": "code",
   "execution_count": 26,
   "id": "713f6718",
   "metadata": {},
   "outputs": [
    {
     "name": "stdout",
     "output_type": "stream",
     "text": [
      "year : 29\n",
      "---------------------------------------------\n",
      "selling_price : 677\n",
      "---------------------------------------------\n",
      "km_driven : 921\n",
      "---------------------------------------------\n",
      "fuel : 4\n",
      "---------------------------------------------\n",
      "seller_type : 3\n",
      "---------------------------------------------\n",
      "transmission : 2\n",
      "---------------------------------------------\n",
      "owner : 5\n",
      "---------------------------------------------\n",
      "mileage : 381\n",
      "---------------------------------------------\n",
      "engine : 121\n",
      "---------------------------------------------\n",
      "max_power : 319\n",
      "---------------------------------------------\n",
      "seats : 9\n",
      "---------------------------------------------\n",
      "brand : 32\n",
      "---------------------------------------------\n"
     ]
    }
   ],
   "source": [
    "for column in data.columns:\n",
    "    print(f'{column} : {data[column].nunique()}')\n",
    "    print('---------------------------------------------')"
   ]
  },
  {
   "cell_type": "code",
   "execution_count": 27,
   "id": "a00aaf9e",
   "metadata": {},
   "outputs": [
    {
     "data": {
      "text/plain": [
       "brand\n",
       "Maruti           2448\n",
       "Hyundai          1415\n",
       "Mahindra          772\n",
       "Tata              734\n",
       "Toyota            488\n",
       "Honda             467\n",
       "Ford              397\n",
       "Chevrolet         230\n",
       "Renault           228\n",
       "Volkswagen        186\n",
       "BMW               120\n",
       "Skoda             105\n",
       "Nissan             81\n",
       "Jaguar             71\n",
       "Volvo              67\n",
       "Datsun             65\n",
       "Mercedes-Benz      54\n",
       "Fiat               47\n",
       "Audi               40\n",
       "Lexus              34\n",
       "Jeep               31\n",
       "Mitsubishi         14\n",
       "Force               6\n",
       "Land                6\n",
       "Isuzu               5\n",
       "Kia                 4\n",
       "Ambassador          4\n",
       "Daewoo              3\n",
       "MG                  3\n",
       "Ashok               1\n",
       "Opel                1\n",
       "Peugeot             1\n",
       "Name: count, dtype: int64"
      ]
     },
     "execution_count": 27,
     "metadata": {},
     "output_type": "execute_result"
    }
   ],
   "source": [
    "data['brand'].value_counts()"
   ]
  },
  {
   "cell_type": "code",
   "execution_count": 28,
   "id": "1375f620",
   "metadata": {},
   "outputs": [],
   "source": [
    "b = ['Mitsubishi', 'Force', 'Land', 'Isuzu', 'Kia', 'Ambassador', 'Daewoo', 'MG', 'Ashok', 'Opel', 'Peugeot']"
   ]
  },
  {
   "cell_type": "code",
   "execution_count": 29,
   "id": "91a41857",
   "metadata": {},
   "outputs": [],
   "source": [
    "for item in b:\n",
    "    data = data[data['brand'] != item]"
   ]
  },
  {
   "cell_type": "code",
   "execution_count": 30,
   "id": "ed7a7673",
   "metadata": {},
   "outputs": [
    {
     "data": {
      "text/plain": [
       "brand\n",
       "Maruti           2448\n",
       "Hyundai          1415\n",
       "Mahindra          772\n",
       "Tata              734\n",
       "Toyota            488\n",
       "Honda             467\n",
       "Ford              397\n",
       "Chevrolet         230\n",
       "Renault           228\n",
       "Volkswagen        186\n",
       "BMW               120\n",
       "Skoda             105\n",
       "Nissan             81\n",
       "Jaguar             71\n",
       "Volvo              67\n",
       "Datsun             65\n",
       "Mercedes-Benz      54\n",
       "Fiat               47\n",
       "Audi               40\n",
       "Lexus              34\n",
       "Jeep               31\n",
       "Name: count, dtype: int64"
      ]
     },
     "execution_count": 30,
     "metadata": {},
     "output_type": "execute_result"
    }
   ],
   "source": [
    "data['brand'].value_counts()"
   ]
  },
  {
   "cell_type": "code",
   "execution_count": 31,
   "id": "da035a09",
   "metadata": {},
   "outputs": [
    {
     "data": {
      "text/plain": [
       "(8080, 12)"
      ]
     },
     "execution_count": 31,
     "metadata": {},
     "output_type": "execute_result"
    }
   ],
   "source": [
    "data.shape"
   ]
  },
  {
   "cell_type": "code",
   "execution_count": 32,
   "id": "03730c0e",
   "metadata": {},
   "outputs": [],
   "source": [
    "numerical_columns, categorical_columns = [], []\n",
    "for column in data.columns:\n",
    "    if data[column].dtype == 'object':\n",
    "        categorical_columns.append(column)\n",
    "    else:\n",
    "        numerical_columns.append(column)"
   ]
  },
  {
   "cell_type": "code",
   "execution_count": 33,
   "id": "28f810b3",
   "metadata": {},
   "outputs": [
    {
     "data": {
      "text/plain": [
       "['fuel', 'seller_type', 'transmission', 'owner', 'brand']"
      ]
     },
     "execution_count": 33,
     "metadata": {},
     "output_type": "execute_result"
    }
   ],
   "source": [
    "categorical_columns"
   ]
  },
  {
   "cell_type": "code",
   "execution_count": 34,
   "id": "0ff88bc0",
   "metadata": {},
   "outputs": [
    {
     "data": {
      "text/plain": [
       "['year',\n",
       " 'selling_price',\n",
       " 'km_driven',\n",
       " 'mileage',\n",
       " 'engine',\n",
       " 'max_power',\n",
       " 'seats']"
      ]
     },
     "execution_count": 34,
     "metadata": {},
     "output_type": "execute_result"
    }
   ],
   "source": [
    "numerical_columns"
   ]
  },
  {
   "cell_type": "code",
   "execution_count": 35,
   "id": "10bd472a",
   "metadata": {},
   "outputs": [
    {
     "name": "stdout",
     "output_type": "stream",
     "text": [
      "fuel : fuel\n",
      "Diesel    4361\n",
      "Petrol    3624\n",
      "CNG         57\n",
      "LPG         38\n",
      "Name: count, dtype: int64\n",
      "---------------------------------------------\n",
      "seller_type : seller_type\n",
      "Individual          6733\n",
      "Dealer              1111\n",
      "Trustmark Dealer     236\n",
      "Name: count, dtype: int64\n",
      "---------------------------------------------\n",
      "transmission : transmission\n",
      "Manual       7046\n",
      "Automatic    1034\n",
      "Name: count, dtype: int64\n",
      "---------------------------------------------\n",
      "owner : owner\n",
      "First Owner             5259\n",
      "Second Owner            2093\n",
      "Third Owner              549\n",
      "Fourth & Above Owner     174\n",
      "Test Drive Car             5\n",
      "Name: count, dtype: int64\n",
      "---------------------------------------------\n",
      "brand : brand\n",
      "Maruti           2448\n",
      "Hyundai          1415\n",
      "Mahindra          772\n",
      "Tata              734\n",
      "Toyota            488\n",
      "Honda             467\n",
      "Ford              397\n",
      "Chevrolet         230\n",
      "Renault           228\n",
      "Volkswagen        186\n",
      "BMW               120\n",
      "Skoda             105\n",
      "Nissan             81\n",
      "Jaguar             71\n",
      "Volvo              67\n",
      "Datsun             65\n",
      "Mercedes-Benz      54\n",
      "Fiat               47\n",
      "Audi               40\n",
      "Lexus              34\n",
      "Jeep               31\n",
      "Name: count, dtype: int64\n",
      "---------------------------------------------\n"
     ]
    }
   ],
   "source": [
    "for column in categorical_columns:\n",
    "    print(f'{column} : {data[column].value_counts()}')\n",
    "    print('---------------------------------------------')"
   ]
  },
  {
   "cell_type": "code",
   "execution_count": 36,
   "id": "88e2f062",
   "metadata": {},
   "outputs": [],
   "source": [
    "data = data[data['owner'] != 'Test Drive Car']"
   ]
  },
  {
   "cell_type": "code",
   "execution_count": 37,
   "id": "3faedf83",
   "metadata": {},
   "outputs": [
    {
     "data": {
      "text/plain": [
       "(8075, 12)"
      ]
     },
     "execution_count": 37,
     "metadata": {},
     "output_type": "execute_result"
    }
   ],
   "source": [
    "data.shape"
   ]
  },
  {
   "cell_type": "code",
   "execution_count": 38,
   "id": "0ec4dc1f",
   "metadata": {},
   "outputs": [
    {
     "data": {
      "text/html": [
       "<div>\n",
       "<style scoped>\n",
       "    .dataframe tbody tr th:only-of-type {\n",
       "        vertical-align: middle;\n",
       "    }\n",
       "\n",
       "    .dataframe tbody tr th {\n",
       "        vertical-align: top;\n",
       "    }\n",
       "\n",
       "    .dataframe thead th {\n",
       "        text-align: right;\n",
       "    }\n",
       "</style>\n",
       "<table border=\"1\" class=\"dataframe\">\n",
       "  <thead>\n",
       "    <tr style=\"text-align: right;\">\n",
       "      <th></th>\n",
       "      <th>year</th>\n",
       "      <th>selling_price</th>\n",
       "      <th>km_driven</th>\n",
       "      <th>mileage</th>\n",
       "      <th>engine</th>\n",
       "      <th>max_power</th>\n",
       "      <th>seats</th>\n",
       "    </tr>\n",
       "  </thead>\n",
       "  <tbody>\n",
       "    <tr>\n",
       "      <th>count</th>\n",
       "      <td>8075.000000</td>\n",
       "      <td>8.075000e+03</td>\n",
       "      <td>8.075000e+03</td>\n",
       "      <td>8075.000000</td>\n",
       "      <td>8075.000000</td>\n",
       "      <td>8075.000000</td>\n",
       "      <td>8075.000000</td>\n",
       "    </tr>\n",
       "    <tr>\n",
       "      <th>mean</th>\n",
       "      <td>2013.811393</td>\n",
       "      <td>6.322234e+05</td>\n",
       "      <td>6.979504e+04</td>\n",
       "      <td>19.445798</td>\n",
       "      <td>1449.352074</td>\n",
       "      <td>91.074086</td>\n",
       "      <td>5.403096</td>\n",
       "    </tr>\n",
       "    <tr>\n",
       "      <th>std</th>\n",
       "      <td>4.006586</td>\n",
       "      <td>7.944153e+05</td>\n",
       "      <td>5.648244e+04</td>\n",
       "      <td>3.968809</td>\n",
       "      <td>496.049153</td>\n",
       "      <td>35.209917</td>\n",
       "      <td>0.948182</td>\n",
       "    </tr>\n",
       "    <tr>\n",
       "      <th>min</th>\n",
       "      <td>1983.000000</td>\n",
       "      <td>2.999900e+04</td>\n",
       "      <td>1.000000e+00</td>\n",
       "      <td>0.000000</td>\n",
       "      <td>624.000000</td>\n",
       "      <td>0.000000</td>\n",
       "      <td>2.000000</td>\n",
       "    </tr>\n",
       "    <tr>\n",
       "      <th>25%</th>\n",
       "      <td>2011.000000</td>\n",
       "      <td>2.549990e+05</td>\n",
       "      <td>3.500000e+04</td>\n",
       "      <td>16.800000</td>\n",
       "      <td>1197.000000</td>\n",
       "      <td>68.100000</td>\n",
       "      <td>5.000000</td>\n",
       "    </tr>\n",
       "    <tr>\n",
       "      <th>50%</th>\n",
       "      <td>2015.000000</td>\n",
       "      <td>4.500000e+05</td>\n",
       "      <td>6.000000e+04</td>\n",
       "      <td>19.300000</td>\n",
       "      <td>1248.000000</td>\n",
       "      <td>82.000000</td>\n",
       "      <td>5.000000</td>\n",
       "    </tr>\n",
       "    <tr>\n",
       "      <th>75%</th>\n",
       "      <td>2017.000000</td>\n",
       "      <td>6.750000e+05</td>\n",
       "      <td>9.717150e+04</td>\n",
       "      <td>22.300000</td>\n",
       "      <td>1582.000000</td>\n",
       "      <td>100.600000</td>\n",
       "      <td>5.000000</td>\n",
       "    </tr>\n",
       "    <tr>\n",
       "      <th>max</th>\n",
       "      <td>2020.000000</td>\n",
       "      <td>1.000000e+07</td>\n",
       "      <td>2.360457e+06</td>\n",
       "      <td>42.000000</td>\n",
       "      <td>3604.000000</td>\n",
       "      <td>400.000000</td>\n",
       "      <td>14.000000</td>\n",
       "    </tr>\n",
       "  </tbody>\n",
       "</table>\n",
       "</div>"
      ],
      "text/plain": [
       "              year  selling_price     km_driven      mileage       engine  \\\n",
       "count  8075.000000   8.075000e+03  8.075000e+03  8075.000000  8075.000000   \n",
       "mean   2013.811393   6.322234e+05  6.979504e+04    19.445798  1449.352074   \n",
       "std       4.006586   7.944153e+05  5.648244e+04     3.968809   496.049153   \n",
       "min    1983.000000   2.999900e+04  1.000000e+00     0.000000   624.000000   \n",
       "25%    2011.000000   2.549990e+05  3.500000e+04    16.800000  1197.000000   \n",
       "50%    2015.000000   4.500000e+05  6.000000e+04    19.300000  1248.000000   \n",
       "75%    2017.000000   6.750000e+05  9.717150e+04    22.300000  1582.000000   \n",
       "max    2020.000000   1.000000e+07  2.360457e+06    42.000000  3604.000000   \n",
       "\n",
       "         max_power        seats  \n",
       "count  8075.000000  8075.000000  \n",
       "mean     91.074086     5.403096  \n",
       "std      35.209917     0.948182  \n",
       "min       0.000000     2.000000  \n",
       "25%      68.100000     5.000000  \n",
       "50%      82.000000     5.000000  \n",
       "75%     100.600000     5.000000  \n",
       "max     400.000000    14.000000  "
      ]
     },
     "execution_count": 38,
     "metadata": {},
     "output_type": "execute_result"
    }
   ],
   "source": [
    "data.describe()"
   ]
  },
  {
   "cell_type": "code",
   "execution_count": 39,
   "id": "4bfb2272",
   "metadata": {},
   "outputs": [
    {
     "data": {
      "text/plain": [
       "(6, 12)"
      ]
     },
     "execution_count": 39,
     "metadata": {},
     "output_type": "execute_result"
    }
   ],
   "source": [
    "data[data['max_power'] == 0].shape"
   ]
  },
  {
   "cell_type": "code",
   "execution_count": 40,
   "id": "33664deb",
   "metadata": {},
   "outputs": [],
   "source": [
    "data = data[data['max_power'] != 0]"
   ]
  },
  {
   "cell_type": "code",
   "execution_count": 41,
   "id": "93765c2a",
   "metadata": {},
   "outputs": [
    {
     "data": {
      "text/plain": [
       "(8069, 12)"
      ]
     },
     "execution_count": 41,
     "metadata": {},
     "output_type": "execute_result"
    }
   ],
   "source": [
    "data.shape"
   ]
  },
  {
   "cell_type": "code",
   "execution_count": 42,
   "id": "3fd18931",
   "metadata": {},
   "outputs": [
    {
     "data": {
      "text/html": [
       "<div>\n",
       "<style scoped>\n",
       "    .dataframe tbody tr th:only-of-type {\n",
       "        vertical-align: middle;\n",
       "    }\n",
       "\n",
       "    .dataframe tbody tr th {\n",
       "        vertical-align: top;\n",
       "    }\n",
       "\n",
       "    .dataframe thead th {\n",
       "        text-align: right;\n",
       "    }\n",
       "</style>\n",
       "<table border=\"1\" class=\"dataframe\">\n",
       "  <thead>\n",
       "    <tr style=\"text-align: right;\">\n",
       "      <th></th>\n",
       "      <th>year</th>\n",
       "      <th>selling_price</th>\n",
       "      <th>km_driven</th>\n",
       "      <th>mileage</th>\n",
       "      <th>engine</th>\n",
       "      <th>max_power</th>\n",
       "      <th>seats</th>\n",
       "    </tr>\n",
       "  </thead>\n",
       "  <tbody>\n",
       "    <tr>\n",
       "      <th>count</th>\n",
       "      <td>8069.000000</td>\n",
       "      <td>8.069000e+03</td>\n",
       "      <td>8.069000e+03</td>\n",
       "      <td>8069.000000</td>\n",
       "      <td>8069.000000</td>\n",
       "      <td>8069.000000</td>\n",
       "      <td>8069.000000</td>\n",
       "    </tr>\n",
       "    <tr>\n",
       "      <th>mean</th>\n",
       "      <td>2013.811749</td>\n",
       "      <td>6.324373e+05</td>\n",
       "      <td>6.979520e+04</td>\n",
       "      <td>19.445907</td>\n",
       "      <td>1449.501797</td>\n",
       "      <td>91.141808</td>\n",
       "      <td>5.403396</td>\n",
       "    </tr>\n",
       "    <tr>\n",
       "      <th>std</th>\n",
       "      <td>4.007415</td>\n",
       "      <td>7.946578e+05</td>\n",
       "      <td>5.649997e+04</td>\n",
       "      <td>3.970282</td>\n",
       "      <td>496.203166</td>\n",
       "      <td>35.135270</td>\n",
       "      <td>0.948471</td>\n",
       "    </tr>\n",
       "    <tr>\n",
       "      <th>min</th>\n",
       "      <td>1983.000000</td>\n",
       "      <td>2.999900e+04</td>\n",
       "      <td>1.000000e+00</td>\n",
       "      <td>0.000000</td>\n",
       "      <td>624.000000</td>\n",
       "      <td>32.800000</td>\n",
       "      <td>2.000000</td>\n",
       "    </tr>\n",
       "    <tr>\n",
       "      <th>25%</th>\n",
       "      <td>2011.000000</td>\n",
       "      <td>2.549990e+05</td>\n",
       "      <td>3.500000e+04</td>\n",
       "      <td>16.800000</td>\n",
       "      <td>1197.000000</td>\n",
       "      <td>69.000000</td>\n",
       "      <td>5.000000</td>\n",
       "    </tr>\n",
       "    <tr>\n",
       "      <th>50%</th>\n",
       "      <td>2015.000000</td>\n",
       "      <td>4.500000e+05</td>\n",
       "      <td>6.000000e+04</td>\n",
       "      <td>19.300000</td>\n",
       "      <td>1248.000000</td>\n",
       "      <td>82.000000</td>\n",
       "      <td>5.000000</td>\n",
       "    </tr>\n",
       "    <tr>\n",
       "      <th>75%</th>\n",
       "      <td>2017.000000</td>\n",
       "      <td>6.750000e+05</td>\n",
       "      <td>9.700000e+04</td>\n",
       "      <td>22.300000</td>\n",
       "      <td>1582.000000</td>\n",
       "      <td>100.600000</td>\n",
       "      <td>5.000000</td>\n",
       "    </tr>\n",
       "    <tr>\n",
       "      <th>max</th>\n",
       "      <td>2020.000000</td>\n",
       "      <td>1.000000e+07</td>\n",
       "      <td>2.360457e+06</td>\n",
       "      <td>42.000000</td>\n",
       "      <td>3604.000000</td>\n",
       "      <td>400.000000</td>\n",
       "      <td>14.000000</td>\n",
       "    </tr>\n",
       "  </tbody>\n",
       "</table>\n",
       "</div>"
      ],
      "text/plain": [
       "              year  selling_price     km_driven      mileage       engine  \\\n",
       "count  8069.000000   8.069000e+03  8.069000e+03  8069.000000  8069.000000   \n",
       "mean   2013.811749   6.324373e+05  6.979520e+04    19.445907  1449.501797   \n",
       "std       4.007415   7.946578e+05  5.649997e+04     3.970282   496.203166   \n",
       "min    1983.000000   2.999900e+04  1.000000e+00     0.000000   624.000000   \n",
       "25%    2011.000000   2.549990e+05  3.500000e+04    16.800000  1197.000000   \n",
       "50%    2015.000000   4.500000e+05  6.000000e+04    19.300000  1248.000000   \n",
       "75%    2017.000000   6.750000e+05  9.700000e+04    22.300000  1582.000000   \n",
       "max    2020.000000   1.000000e+07  2.360457e+06    42.000000  3604.000000   \n",
       "\n",
       "         max_power        seats  \n",
       "count  8069.000000  8069.000000  \n",
       "mean     91.141808     5.403396  \n",
       "std      35.135270     0.948471  \n",
       "min      32.800000     2.000000  \n",
       "25%      69.000000     5.000000  \n",
       "50%      82.000000     5.000000  \n",
       "75%     100.600000     5.000000  \n",
       "max     400.000000    14.000000  "
      ]
     },
     "execution_count": 42,
     "metadata": {},
     "output_type": "execute_result"
    }
   ],
   "source": [
    "data.describe()"
   ]
  },
  {
   "cell_type": "code",
   "execution_count": 43,
   "id": "0db71c3d",
   "metadata": {
    "scrolled": false
   },
   "outputs": [
    {
     "data": {
      "image/png": "[encoded data removed]",
      "text/plain": [
       "<Figure size 648x504 with 1 Axes>"
      ]
     },
     "metadata": {
      "needs_background": "light"
     },
     "output_type": "display_data"
    },
    {
     "data": {
      "image/png": "[encoded data removed]",
      "text/plain": [
       "<Figure size 648x504 with 1 Axes>"
      ]
     },
     "metadata": {
      "needs_background": "light"
     },
     "output_type": "display_data"
    },
    {
     "data": {
      "image/png": "[encoded data removed]",
      "text/plain": [
       "<Figure size 648x504 with 1 Axes>"
      ]
     },
     "metadata": {
      "needs_background": "light"
     },
     "output_type": "display_data"
    },
    {
     "data": {
      "image/png": "[encoded data removed]",
      "text/plain": [
       "<Figure size 648x504 with 1 Axes>"
      ]
     },
     "metadata": {
      "needs_background": "light"
     },
     "output_type": "display_data"
    },
    {
     "data": {
      "image/png": "[encoded data removed]",
      "text/plain": [
       "<Figure size 648x504 with 1 Axes>"
      ]
     },
     "metadata": {
      "needs_background": "light"
     },
     "output_type": "display_data"
    },
    {
     "data": {
      "image/png": "[encoded data removed]",
      "text/plain": [
       "<Figure size 648x504 with 1 Axes>"
      ]
     },
     "metadata": {
      "needs_background": "light"
     },
     "output_type": "display_data"
    },
    {
     "data": {
      "image/png": "[encoded data removed]",
      "text/plain": [
       "<Figure size 648x504 with 1 Axes>"
      ]
     },
     "metadata": {
      "needs_background": "light"
     },
     "output_type": "display_data"
    }
   ],
   "source": [
    "for column in numerical_columns:\n",
    "    plt.figure(figsize = (9, 7))\n",
    "    sns.kdeplot(data[column], shade = True, legend = False)\n",
    "    plt.show()"
   ]
  },
  {
   "cell_type": "code",
   "execution_count": 44,
   "id": "8fef6378",
   "metadata": {},
   "outputs": [],
   "source": [
    "q1_1 = data['year'].quantile(0.99)\n",
    "q1_2 = data['year'].quantile(0.01)"
   ]
  },
  {
   "cell_type": "code",
   "execution_count": 45,
   "id": "d0101e4d",
   "metadata": {},
   "outputs": [],
   "source": [
    "data = data[data['year'] < q1_1]\n",
    "data = data[data['year'] > q1_2]"
   ]
  },
  {
   "cell_type": "code",
   "execution_count": 46,
   "id": "cc1fc38f",
   "metadata": {},
   "outputs": [
    {
     "data": {
      "text/plain": [
       "(7334, 12)"
      ]
     },
     "execution_count": 46,
     "metadata": {},
     "output_type": "execute_result"
    }
   ],
   "source": [
    "data.shape"
   ]
  },
  {
   "cell_type": "code",
   "execution_count": 47,
   "id": "70e0a57b",
   "metadata": {},
   "outputs": [],
   "source": [
    "q2_1 = data['selling_price'].quantile(0.99)\n",
    "q2_2 = data['selling_price'].quantile(0.01)"
   ]
  },
  {
   "cell_type": "code",
   "execution_count": 48,
   "id": "581fdcd5",
   "metadata": {},
   "outputs": [],
   "source": [
    "data = data[data['selling_price'] < q2_1]\n",
    "data = data[data['selling_price'] > q2_2]"
   ]
  },
  {
   "cell_type": "code",
   "execution_count": 49,
   "id": "2fe8dc8d",
   "metadata": {},
   "outputs": [
    {
     "data": {
      "text/plain": [
       "(7155, 12)"
      ]
     },
     "execution_count": 49,
     "metadata": {},
     "output_type": "execute_result"
    }
   ],
   "source": [
    "data.shape"
   ]
  },
  {
   "cell_type": "code",
   "execution_count": 50,
   "id": "b9fab421",
   "metadata": {},
   "outputs": [],
   "source": [
    "q3_1 = data['km_driven'].quantile(0.99)\n",
    "q3_2 = data['km_driven'].quantile(0.01)"
   ]
  },
  {
   "cell_type": "code",
   "execution_count": 51,
   "id": "547f7ef5",
   "metadata": {},
   "outputs": [],
   "source": [
    "data = data[data['km_driven'] < q3_1]\n",
    "data = data[data['km_driven'] > q3_2]"
   ]
  },
  {
   "cell_type": "code",
   "execution_count": 52,
   "id": "33ca8527",
   "metadata": {},
   "outputs": [
    {
     "data": {
      "text/plain": [
       "(7009, 12)"
      ]
     },
     "execution_count": 52,
     "metadata": {},
     "output_type": "execute_result"
    }
   ],
   "source": [
    "data.shape"
   ]
  },
  {
   "cell_type": "code",
   "execution_count": 53,
   "id": "e4259542",
   "metadata": {},
   "outputs": [],
   "source": [
    "q4_1 = data['mileage'].quantile(0.99)\n",
    "q4_2 = data['mileage'].quantile(0.01)"
   ]
  },
  {
   "cell_type": "code",
   "execution_count": 54,
   "id": "c9ec71d5",
   "metadata": {},
   "outputs": [],
   "source": [
    "data = data[data['mileage'] < q4_1]\n",
    "data = data[data['mileage'] > q4_2]"
   ]
  },
  {
   "cell_type": "code",
   "execution_count": 55,
   "id": "f4d87387",
   "metadata": {},
   "outputs": [
    {
     "data": {
      "text/plain": [
       "(6851, 12)"
      ]
     },
     "execution_count": 55,
     "metadata": {},
     "output_type": "execute_result"
    }
   ],
   "source": [
    "data.shape"
   ]
  },
  {
   "cell_type": "code",
   "execution_count": 56,
   "id": "d119b237",
   "metadata": {},
   "outputs": [],
   "source": [
    "q5_1 = data['engine'].quantile(0.99)\n",
    "q5_2 = data['engine'].quantile(0.01)"
   ]
  },
  {
   "cell_type": "code",
   "execution_count": 57,
   "id": "d9f0b9ea",
   "metadata": {},
   "outputs": [],
   "source": [
    "data = data[data['engine'] < q5_1]\n",
    "data = data[data['engine'] > q5_2]"
   ]
  },
  {
   "cell_type": "code",
   "execution_count": 58,
   "id": "05c94005",
   "metadata": {},
   "outputs": [
    {
     "data": {
      "text/plain": [
       "(6411, 12)"
      ]
     },
     "execution_count": 58,
     "metadata": {},
     "output_type": "execute_result"
    }
   ],
   "source": [
    "data.shape"
   ]
  },
  {
   "cell_type": "code",
   "execution_count": 59,
   "id": "16eab7b1",
   "metadata": {},
   "outputs": [],
   "source": [
    "q6_1 = data['max_power'].quantile(0.99)\n",
    "q6_2 = data['max_power'].quantile(0.01)"
   ]
  },
  {
   "cell_type": "code",
   "execution_count": 60,
   "id": "b9f1b2a8",
   "metadata": {},
   "outputs": [],
   "source": [
    "data = data[data['max_power'] < q6_1]\n",
    "data = data[data['max_power'] > q6_2]"
   ]
  },
  {
   "cell_type": "code",
   "execution_count": 61,
   "id": "2cee659b",
   "metadata": {},
   "outputs": [
    {
     "data": {
      "text/plain": [
       "(6271, 12)"
      ]
     },
     "execution_count": 61,
     "metadata": {},
     "output_type": "execute_result"
    }
   ],
   "source": [
    "data.shape"
   ]
  },
  {
   "cell_type": "code",
   "execution_count": 62,
   "id": "c2a95c59",
   "metadata": {
    "scrolled": false
   },
   "outputs": [
    {
     "data": {
      "image/png": "[encoded data removed]",
      "text/plain": [
       "<Figure size 648x504 with 1 Axes>"
      ]
     },
     "metadata": {
      "needs_background": "light"
     },
     "output_type": "display_data"
    },
    {
     "data": {
      "image/png": "[encoded data removed]",
      "text/plain": [
       "<Figure size 648x504 with 1 Axes>"
      ]
     },
     "metadata": {
      "needs_background": "light"
     },
     "output_type": "display_data"
    },
    {
     "data": {
      "image/png": "[encoded data removed]",
      "text/plain": [
       "<Figure size 648x504 with 1 Axes>"
      ]
     },
     "metadata": {
      "needs_background": "light"
     },
     "output_type": "display_data"
    },
    {
     "data": {
      "image/png": "[encoded data removed]",
      "text/plain": [
       "<Figure size 648x504 with 1 Axes>"
      ]
     },
     "metadata": {
      "needs_background": "light"
     },
     "output_type": "display_data"
    },
    {
     "data": {
      "image/png": "[encoded data removed]",
      "text/plain": [
       "<Figure size 648x504 with 1 Axes>"
      ]
     },
     "metadata": {
      "needs_background": "light"
     },
     "output_type": "display_data"
    },
    {
     "data": {
      "image/png": "[encoded data removed]",
      "text/plain": [
       "<Figure size 648x504 with 1 Axes>"
      ]
     },
     "metadata": {
      "needs_background": "light"
     },
     "output_type": "display_data"
    },
    {
     "data": {
      "image/png": "[encoded data removed]",
      "text/plain": [
       "<Figure size 648x504 with 1 Axes>"
      ]
     },
     "metadata": {
      "needs_background": "light"
     },
     "output_type": "display_data"
    }
   ],
   "source": [
    "for column in numerical_columns:\n",
    "    plt.figure(figsize = (9, 7))\n",
    "    sns.kdeplot(data[column], shade = True, legend = False)\n",
    "    plt.show()"
   ]
  },
  {
   "cell_type": "code",
   "execution_count": 63,
   "id": "c622b780",
   "metadata": {},
   "outputs": [],
   "source": [
    "data = data[data['year'] > 2007]"
   ]
  },
  {
   "cell_type": "code",
   "execution_count": 64,
   "id": "b248196e",
   "metadata": {},
   "outputs": [
    {
     "data": {
      "text/plain": [
       "(227, 12)"
      ]
     },
     "execution_count": 64,
     "metadata": {},
     "output_type": "execute_result"
    }
   ],
   "source": [
    "data[data['selling_price'] > 1200000].shape"
   ]
  },
  {
   "cell_type": "code",
   "execution_count": 65,
   "id": "182fbc4e",
   "metadata": {},
   "outputs": [],
   "source": [
    "data = data[data['selling_price'] < 1200000]"
   ]
  },
  {
   "cell_type": "code",
   "execution_count": 66,
   "id": "d700db8e",
   "metadata": {},
   "outputs": [
    {
     "data": {
      "text/plain": [
       "(245, 12)"
      ]
     },
     "execution_count": 66,
     "metadata": {},
     "output_type": "execute_result"
    }
   ],
   "source": [
    "data[data['km_driven'] > 150000].shape"
   ]
  },
  {
   "cell_type": "code",
   "execution_count": 67,
   "id": "b2a7f8ef",
   "metadata": {},
   "outputs": [],
   "source": [
    "data = data[data['km_driven'] < 150000]"
   ]
  },
  {
   "cell_type": "code",
   "execution_count": 68,
   "id": "a0e4a857",
   "metadata": {},
   "outputs": [
    {
     "data": {
      "text/plain": [
       "(337, 12)"
      ]
     },
     "execution_count": 68,
     "metadata": {},
     "output_type": "execute_result"
    }
   ],
   "source": [
    "data[data['engine'] > 2200].shape"
   ]
  },
  {
   "cell_type": "code",
   "execution_count": 69,
   "id": "ac401448",
   "metadata": {},
   "outputs": [],
   "source": [
    "data = data[data['engine'] < 2200]"
   ]
  },
  {
   "cell_type": "code",
   "execution_count": 70,
   "id": "bced2048",
   "metadata": {},
   "outputs": [
    {
     "data": {
      "text/plain": [
       "(256, 12)"
      ]
     },
     "execution_count": 70,
     "metadata": {},
     "output_type": "execute_result"
    }
   ],
   "source": [
    "data[data['max_power'] > 130].shape"
   ]
  },
  {
   "cell_type": "code",
   "execution_count": 71,
   "id": "89914d02",
   "metadata": {},
   "outputs": [],
   "source": [
    "data = data[data['max_power'] < 130]"
   ]
  },
  {
   "cell_type": "code",
   "execution_count": 72,
   "id": "db2f875b",
   "metadata": {},
   "outputs": [
    {
     "data": {
      "text/plain": [
       "(4810, 12)"
      ]
     },
     "execution_count": 72,
     "metadata": {},
     "output_type": "execute_result"
    }
   ],
   "source": [
    "data.shape"
   ]
  },
  {
   "cell_type": "code",
   "execution_count": 73,
   "id": "f5cdff3c",
   "metadata": {
    "scrolled": false
   },
   "outputs": [
    {
     "data": {
      "image/png": "[encoded data removed]",
      "text/plain": [
       "<Figure size 648x504 with 1 Axes>"
      ]
     },
     "metadata": {
      "needs_background": "light"
     },
     "output_type": "display_data"
    },
    {
     "data": {
      "image/png": "[encoded data removed]",
      "text/plain": [
       "<Figure size 648x504 with 1 Axes>"
      ]
     },
     "metadata": {
      "needs_background": "light"
     },
     "output_type": "display_data"
    },
    {
     "data": {
      "image/png": "[encoded data removed]",
      "text/plain": [
       "<Figure size 648x504 with 1 Axes>"
      ]
     },
     "metadata": {
      "needs_background": "light"
     },
     "output_type": "display_data"
    },
    {
     "data": {
      "image/png": "[encoded data removed]",
      "text/plain": [
       "<Figure size 648x504 with 1 Axes>"
      ]
     },
     "metadata": {
      "needs_background": "light"
     },
     "output_type": "display_data"
    },
    {
     "data": {
      "image/png": "[encoded data removed]",
      "text/plain": [
       "<Figure size 648x504 with 1 Axes>"
      ]
     },
     "metadata": {
      "needs_background": "light"
     },
     "output_type": "display_data"
    },
    {
     "data": {
      "image/png": "[encoded data removed]",
      "text/plain": [
       "<Figure size 648x504 with 1 Axes>"
      ]
     },
     "metadata": {
      "needs_background": "light"
     },
     "output_type": "display_data"
    },
    {
     "data": {
      "image/png": "[encoded data removed]",
      "text/plain": [
       "<Figure size 648x504 with 1 Axes>"
      ]
     },
     "metadata": {
      "needs_background": "light"
     },
     "output_type": "display_data"
    }
   ],
   "source": [
    "for column in numerical_columns:\n",
    "    plt.figure(figsize = (9, 7))\n",
    "    sns.boxplot(data = data, y = column)\n",
    "    plt.show()"
   ]
  },
  {
   "cell_type": "code",
   "execution_count": 74,
   "id": "b60843a8",
   "metadata": {},
   "outputs": [
    {
     "data": {
      "text/plain": [
       "(31, 12)"
      ]
     },
     "execution_count": 74,
     "metadata": {},
     "output_type": "execute_result"
    }
   ],
   "source": [
    "data[data['selling_price'] > 1050000].shape"
   ]
  },
  {
   "cell_type": "code",
   "execution_count": 75,
   "id": "bddf2528",
   "metadata": {},
   "outputs": [],
   "source": [
    "data = data[data['selling_price'] < 1050000]"
   ]
  },
  {
   "cell_type": "code",
   "execution_count": 76,
   "id": "fe6ddb2d",
   "metadata": {},
   "outputs": [
    {
     "data": {
      "text/plain": [
       "(112, 12)"
      ]
     },
     "execution_count": 76,
     "metadata": {},
     "output_type": "execute_result"
    }
   ],
   "source": [
    "data[data['engine'] > 1900].shape"
   ]
  },
  {
   "cell_type": "code",
   "execution_count": 77,
   "id": "5fa30392",
   "metadata": {},
   "outputs": [],
   "source": [
    "data = data[data['engine'] < 1900]"
   ]
  },
  {
   "cell_type": "code",
   "execution_count": 78,
   "id": "4452b4b6",
   "metadata": {},
   "outputs": [
    {
     "data": {
      "text/plain": [
       "(11, 12)"
      ]
     },
     "execution_count": 78,
     "metadata": {},
     "output_type": "execute_result"
    }
   ],
   "source": [
    "data[data['engine'] < 800].shape"
   ]
  },
  {
   "cell_type": "code",
   "execution_count": 79,
   "id": "a5ff9f45",
   "metadata": {},
   "outputs": [],
   "source": [
    "data = data[data['engine'] > 800]"
   ]
  },
  {
   "cell_type": "code",
   "execution_count": 80,
   "id": "73225d8a",
   "metadata": {},
   "outputs": [
    {
     "data": {
      "text/plain": [
       "(161, 12)"
      ]
     },
     "execution_count": 80,
     "metadata": {},
     "output_type": "execute_result"
    }
   ],
   "source": [
    "data[data['max_power'] > 118].shape"
   ]
  },
  {
   "cell_type": "code",
   "execution_count": 81,
   "id": "4761522f",
   "metadata": {},
   "outputs": [],
   "source": [
    "data = data[data['max_power'] < 118]"
   ]
  },
  {
   "cell_type": "code",
   "execution_count": 82,
   "id": "e9d57fec",
   "metadata": {},
   "outputs": [
    {
     "data": {
      "text/plain": [
       "(4456, 12)"
      ]
     },
     "execution_count": 82,
     "metadata": {},
     "output_type": "execute_result"
    }
   ],
   "source": [
    "data.shape"
   ]
  },
  {
   "cell_type": "code",
   "execution_count": 88,
   "id": "aa00b281",
   "metadata": {},
   "outputs": [
    {
     "data": {
      "image/png": "[encoded data removed]",
      "text/plain": [
       "<Figure size 1080x432 with 3 Axes>"
      ]
     },
     "metadata": {
      "needs_background": "light"
     },
     "output_type": "display_data"
    },
    {
     "data": {
      "image/png": "[encoded data removed]",
      "text/plain": [
       "<Figure size 1080x216 with 2 Axes>"
      ]
     },
     "metadata": {
      "needs_background": "light"
     },
     "output_type": "display_data"
    }
   ],
   "source": [
    "fig, (ax1, ax2, ax3) = plt.subplots(1, 3, sharey = False, figsize = (15, 6))\n",
    "ax1.scatter(data['year'], data['selling_price'])\n",
    "ax1.set_title('year and selling_price')\n",
    "\n",
    "ax2.scatter(data['km_driven'], data['selling_price'])\n",
    "ax2.set_title('km_driven and selling_price')\n",
    "\n",
    "ax3.scatter(data['mileage'], data['selling_price'])\n",
    "ax3.set_title('mileage and selling_price')\n",
    "\n",
    "fig, (ax4, ax5) = plt.subplots(1, 2, sharey = False, figsize = (15, 3))\n",
    "\n",
    "ax4.scatter(data['engine'], data['selling_price'])\n",
    "ax4.set_title('engine and selling_price')\n",
    "\n",
    "ax5.scatter(data['max_power'], data['selling_price'])\n",
    "ax5.set_title('max_power and selling_price')\n",
    "\n",
    "plt.show()"
   ]
  },
  {
   "cell_type": "code",
   "execution_count": 87,
   "id": "78490fa6",
   "metadata": {},
   "outputs": [],
   "source": [
    "data['log_price'] = np.log(data['selling_price'])"
   ]
  },
  {
   "cell_type": "code",
   "execution_count": 92,
   "id": "28bbf54e",
   "metadata": {},
   "outputs": [
    {
     "data": {
      "image/png": "[encoded data removed]",
      "text/plain": [
       "<Figure size 1080x216 with 3 Axes>"
      ]
     },
     "metadata": {
      "needs_background": "light"
     },
     "output_type": "display_data"
    },
    {
     "data": {
      "image/png": "[encoded data removed]",
      "text/plain": [
       "<Figure size 1080x216 with 2 Axes>"
      ]
     },
     "metadata": {
      "needs_background": "light"
     },
     "output_type": "display_data"
    }
   ],
   "source": [
    "fig, (ax1, ax2, ax3) = plt.subplots(1, 3, sharey = False, figsize = (15, 3))\n",
    "ax1.scatter(data['year'], data['log_price'])\n",
    "ax1.set_title('year and log_price')\n",
    "\n",
    "ax2.scatter(data['km_driven'], data['log_price'])\n",
    "ax2.set_title('km_driven and log_price')\n",
    "\n",
    "ax3.scatter(data['mileage'], data['log_price'])\n",
    "ax3.set_title('mileage and log_price')\n",
    "\n",
    "fig, (ax4, ax5) = plt.subplots(1, 2, sharey = False, figsize = (15, 3))\n",
    "ax4.scatter(data['engine'], data['log_price'])\n",
    "ax4.set_title('engine and log_price')\n",
    "\n",
    "ax5.scatter(data['max_power'], data['log_price'])\n",
    "ax5.set_title('max_power and log_price')\n",
    "\n",
    "plt.show()"
   ]
  },
  {
   "cell_type": "code",
   "execution_count": 93,
   "id": "1f8fa490",
   "metadata": {},
   "outputs": [
    {
     "data": {
      "text/html": [
       "<div>\n",
       "<style scoped>\n",
       "    .dataframe tbody tr th:only-of-type {\n",
       "        vertical-align: middle;\n",
       "    }\n",
       "\n",
       "    .dataframe tbody tr th {\n",
       "        vertical-align: top;\n",
       "    }\n",
       "\n",
       "    .dataframe thead th {\n",
       "        text-align: right;\n",
       "    }\n",
       "</style>\n",
       "<table border=\"1\" class=\"dataframe\">\n",
       "  <thead>\n",
       "    <tr style=\"text-align: right;\">\n",
       "      <th></th>\n",
       "      <th>year</th>\n",
       "      <th>km_driven</th>\n",
       "      <th>fuel</th>\n",
       "      <th>seller_type</th>\n",
       "      <th>transmission</th>\n",
       "      <th>owner</th>\n",
       "      <th>mileage</th>\n",
       "      <th>max_power</th>\n",
       "      <th>seats</th>\n",
       "      <th>brand</th>\n",
       "      <th>log_price</th>\n",
       "    </tr>\n",
       "  </thead>\n",
       "  <tbody>\n",
       "    <tr>\n",
       "      <th>0</th>\n",
       "      <td>2014</td>\n",
       "      <td>145500</td>\n",
       "      <td>Diesel</td>\n",
       "      <td>Individual</td>\n",
       "      <td>Manual</td>\n",
       "      <td>First Owner</td>\n",
       "      <td>23.40</td>\n",
       "      <td>74.00</td>\n",
       "      <td>5.0</td>\n",
       "      <td>Maruti</td>\n",
       "      <td>13.017003</td>\n",
       "    </tr>\n",
       "    <tr>\n",
       "      <th>1</th>\n",
       "      <td>2014</td>\n",
       "      <td>120000</td>\n",
       "      <td>Diesel</td>\n",
       "      <td>Individual</td>\n",
       "      <td>Manual</td>\n",
       "      <td>Second Owner</td>\n",
       "      <td>21.14</td>\n",
       "      <td>103.52</td>\n",
       "      <td>5.0</td>\n",
       "      <td>Skoda</td>\n",
       "      <td>12.821258</td>\n",
       "    </tr>\n",
       "    <tr>\n",
       "      <th>3</th>\n",
       "      <td>2010</td>\n",
       "      <td>127000</td>\n",
       "      <td>Diesel</td>\n",
       "      <td>Individual</td>\n",
       "      <td>Manual</td>\n",
       "      <td>First Owner</td>\n",
       "      <td>23.00</td>\n",
       "      <td>90.00</td>\n",
       "      <td>5.0</td>\n",
       "      <td>Hyundai</td>\n",
       "      <td>12.323856</td>\n",
       "    </tr>\n",
       "    <tr>\n",
       "      <th>5</th>\n",
       "      <td>2017</td>\n",
       "      <td>45000</td>\n",
       "      <td>Petrol</td>\n",
       "      <td>Individual</td>\n",
       "      <td>Manual</td>\n",
       "      <td>First Owner</td>\n",
       "      <td>20.14</td>\n",
       "      <td>81.86</td>\n",
       "      <td>5.0</td>\n",
       "      <td>Hyundai</td>\n",
       "      <td>12.994530</td>\n",
       "    </tr>\n",
       "    <tr>\n",
       "      <th>8</th>\n",
       "      <td>2011</td>\n",
       "      <td>90000</td>\n",
       "      <td>Diesel</td>\n",
       "      <td>Individual</td>\n",
       "      <td>Manual</td>\n",
       "      <td>First Owner</td>\n",
       "      <td>23.59</td>\n",
       "      <td>67.10</td>\n",
       "      <td>5.0</td>\n",
       "      <td>Toyota</td>\n",
       "      <td>12.765688</td>\n",
       "    </tr>\n",
       "  </tbody>\n",
       "</table>\n",
       "</div>"
      ],
      "text/plain": [
       "   year  km_driven    fuel seller_type transmission         owner  mileage  \\\n",
       "0  2014     145500  Diesel  Individual       Manual   First Owner    23.40   \n",
       "1  2014     120000  Diesel  Individual       Manual  Second Owner    21.14   \n",
       "3  2010     127000  Diesel  Individual       Manual   First Owner    23.00   \n",
       "5  2017      45000  Petrol  Individual       Manual   First Owner    20.14   \n",
       "8  2011      90000  Diesel  Individual       Manual   First Owner    23.59   \n",
       "\n",
       "   max_power  seats    brand  log_price  \n",
       "0      74.00    5.0   Maruti  13.017003  \n",
       "1     103.52    5.0    Skoda  12.821258  \n",
       "3      90.00    5.0  Hyundai  12.323856  \n",
       "5      81.86    5.0  Hyundai  12.994530  \n",
       "8      67.10    5.0   Toyota  12.765688  "
      ]
     },
     "execution_count": 93,
     "metadata": {},
     "output_type": "execute_result"
    }
   ],
   "source": [
    "data2 = data.drop(columns = ['selling_price', 'engine'], axis = 1)\n",
    "data2.head()"
   ]
  },
  {
   "cell_type": "code",
   "execution_count": 94,
   "id": "ecd37c38",
   "metadata": {},
   "outputs": [],
   "source": [
    "x = data2[['year', 'km_driven', 'mileage', 'max_power', 'seats']]"
   ]
  },
  {
   "cell_type": "code",
   "execution_count": 96,
   "id": "963d8282",
   "metadata": {},
   "outputs": [],
   "source": [
    "y = data2['log_price']"
   ]
  },
  {
   "cell_type": "code",
   "execution_count": 98,
   "id": "86fb8da7",
   "metadata": {},
   "outputs": [
    {
     "data": {
      "text/html": [
       "<table class=\"simpletable\">\n",
       "<caption>OLS Regression Results</caption>\n",
       "<tr>\n",
       "  <th>Dep. Variable:</th>        <td>log_price</td>    <th>  R-squared:         </th> <td>   0.752</td>\n",
       "</tr>\n",
       "<tr>\n",
       "  <th>Model:</th>                   <td>OLS</td>       <th>  Adj. R-squared:    </th> <td>   0.752</td>\n",
       "</tr>\n",
       "<tr>\n",
       "  <th>Method:</th>             <td>Least Squares</td>  <th>  F-statistic:       </th> <td>   2705.</td>\n",
       "</tr>\n",
       "<tr>\n",
       "  <th>Date:</th>             <td>Sat, 21 Sep 2024</td> <th>  Prob (F-statistic):</th>  <td>  0.00</td> \n",
       "</tr>\n",
       "<tr>\n",
       "  <th>Time:</th>                 <td>00:17:23</td>     <th>  Log-Likelihood:    </th> <td> -278.65</td>\n",
       "</tr>\n",
       "<tr>\n",
       "  <th>No. Observations:</th>      <td>  4456</td>      <th>  AIC:               </th> <td>   569.3</td>\n",
       "</tr>\n",
       "<tr>\n",
       "  <th>Df Residuals:</th>          <td>  4450</td>      <th>  BIC:               </th> <td>   607.7</td>\n",
       "</tr>\n",
       "<tr>\n",
       "  <th>Df Model:</th>              <td>     5</td>      <th>                     </th>     <td> </td>   \n",
       "</tr>\n",
       "<tr>\n",
       "  <th>Covariance Type:</th>      <td>nonrobust</td>    <th>                     </th>     <td> </td>   \n",
       "</tr>\n",
       "</table>\n",
       "<table class=\"simpletable\">\n",
       "<tr>\n",
       "      <td></td>         <th>coef</th>     <th>std err</th>      <th>t</th>      <th>P>|t|</th>  <th>[0.025</th>    <th>0.975]</th>  \n",
       "</tr>\n",
       "<tr>\n",
       "  <th>const</th>     <td> -219.0820</td> <td>    3.629</td> <td>  -60.368</td> <td> 0.000</td> <td> -226.197</td> <td> -211.967</td>\n",
       "</tr>\n",
       "<tr>\n",
       "  <th>year</th>      <td>    0.1141</td> <td>    0.002</td> <td>   62.919</td> <td> 0.000</td> <td>    0.110</td> <td>    0.118</td>\n",
       "</tr>\n",
       "<tr>\n",
       "  <th>km_driven</th> <td>-4.907e-07</td> <td> 1.38e-07</td> <td>   -3.560</td> <td> 0.000</td> <td>-7.61e-07</td> <td>-2.21e-07</td>\n",
       "</tr>\n",
       "<tr>\n",
       "  <th>mileage</th>   <td>    0.0265</td> <td>    0.001</td> <td>   18.606</td> <td> 0.000</td> <td>    0.024</td> <td>    0.029</td>\n",
       "</tr>\n",
       "<tr>\n",
       "  <th>max_power</th> <td>    0.0157</td> <td>    0.000</td> <td>   52.240</td> <td> 0.000</td> <td>    0.015</td> <td>    0.016</td>\n",
       "</tr>\n",
       "<tr>\n",
       "  <th>seats</th>     <td>    0.0841</td> <td>    0.007</td> <td>   11.279</td> <td> 0.000</td> <td>    0.069</td> <td>    0.099</td>\n",
       "</tr>\n",
       "</table>\n",
       "<table class=\"simpletable\">\n",
       "<tr>\n",
       "  <th>Omnibus:</th>       <td>154.086</td> <th>  Durbin-Watson:     </th> <td>   1.777</td>\n",
       "</tr>\n",
       "<tr>\n",
       "  <th>Prob(Omnibus):</th> <td> 0.000</td>  <th>  Jarque-Bera (JB):  </th> <td> 223.606</td>\n",
       "</tr>\n",
       "<tr>\n",
       "  <th>Skew:</th>          <td>-0.345</td>  <th>  Prob(JB):          </th> <td>2.78e-49</td>\n",
       "</tr>\n",
       "<tr>\n",
       "  <th>Kurtosis:</th>      <td> 3.853</td>  <th>  Cond. No.          </th> <td>6.80e+07</td>\n",
       "</tr>\n",
       "</table><br/><br/>Notes:<br/>[1] Standard Errors assume that the covariance matrix of the errors is correctly specified.<br/>[2] The condition number is large, 6.8e+07. This might indicate that there are<br/>strong multicollinearity or other numerical problems."
      ],
      "text/latex": [
       "\\begin{center}\n",
       "\\begin{tabular}{lclc}\n",
       "\\toprule\n",
       "\\textbf{Dep. Variable:}    &    log\\_price    & \\textbf{  R-squared:         } &     0.752   \\\\\n",
       "\\textbf{Model:}            &       OLS        & \\textbf{  Adj. R-squared:    } &     0.752   \\\\\n",
       "\\textbf{Method:}           &  Least Squares   & \\textbf{  F-statistic:       } &     2705.   \\\\\n",
       "\\textbf{Date:}             & Sat, 21 Sep 2024 & \\textbf{  Prob (F-statistic):} &     0.00    \\\\\n",
       "\\textbf{Time:}             &     00:17:23     & \\textbf{  Log-Likelihood:    } &   -278.65   \\\\\n",
       "\\textbf{No. Observations:} &        4456      & \\textbf{  AIC:               } &     569.3   \\\\\n",
       "\\textbf{Df Residuals:}     &        4450      & \\textbf{  BIC:               } &     607.7   \\\\\n",
       "\\textbf{Df Model:}         &           5      & \\textbf{                     } &             \\\\\n",
       "\\textbf{Covariance Type:}  &    nonrobust     & \\textbf{                     } &             \\\\\n",
       "\\bottomrule\n",
       "\\end{tabular}\n",
       "\\begin{tabular}{lcccccc}\n",
       "                    & \\textbf{coef} & \\textbf{std err} & \\textbf{t} & \\textbf{P$> |$t$|$} & \\textbf{[0.025} & \\textbf{0.975]}  \\\\\n",
       "\\midrule\n",
       "\\textbf{const}      &    -219.0820  &        3.629     &   -60.368  &         0.000        &     -226.197    &     -211.967     \\\\\n",
       "\\textbf{year}       &       0.1141  &        0.002     &    62.919  &         0.000        &        0.110    &        0.118     \\\\\n",
       "\\textbf{km\\_driven} &   -4.907e-07  &     1.38e-07     &    -3.560  &         0.000        &    -7.61e-07    &    -2.21e-07     \\\\\n",
       "\\textbf{mileage}    &       0.0265  &        0.001     &    18.606  &         0.000        &        0.024    &        0.029     \\\\\n",
       "\\textbf{max\\_power} &       0.0157  &        0.000     &    52.240  &         0.000        &        0.015    &        0.016     \\\\\n",
       "\\textbf{seats}      &       0.0841  &        0.007     &    11.279  &         0.000        &        0.069    &        0.099     \\\\\n",
       "\\bottomrule\n",
       "\\end{tabular}\n",
       "\\begin{tabular}{lclc}\n",
       "\\textbf{Omnibus:}       & 154.086 & \\textbf{  Durbin-Watson:     } &    1.777  \\\\\n",
       "\\textbf{Prob(Omnibus):} &   0.000 & \\textbf{  Jarque-Bera (JB):  } &  223.606  \\\\\n",
       "\\textbf{Skew:}          &  -0.345 & \\textbf{  Prob(JB):          } & 2.78e-49  \\\\\n",
       "\\textbf{Kurtosis:}      &   3.853 & \\textbf{  Cond. No.          } & 6.80e+07  \\\\\n",
       "\\bottomrule\n",
       "\\end{tabular}\n",
       "%\\caption{OLS Regression Results}\n",
       "\\end{center}\n",
       "\n",
       "Notes: \\newline\n",
       " [1] Standard Errors assume that the covariance matrix of the errors is correctly specified. \\newline\n",
       " [2] The condition number is large, 6.8e+07. This might indicate that there are \\newline\n",
       " strong multicollinearity or other numerical problems."
      ],
      "text/plain": [
       "<class 'statsmodels.iolib.summary.Summary'>\n",
       "\"\"\"\n",
       "                            OLS Regression Results                            \n",
       "==============================================================================\n",
       "Dep. Variable:              log_price   R-squared:                       0.752\n",
       "Model:                            OLS   Adj. R-squared:                  0.752\n",
       "Method:                 Least Squares   F-statistic:                     2705.\n",
       "Date:                Sat, 21 Sep 2024   Prob (F-statistic):               0.00\n",
       "Time:                        00:17:23   Log-Likelihood:                -278.65\n",
       "No. Observations:                4456   AIC:                             569.3\n",
       "Df Residuals:                    4450   BIC:                             607.7\n",
       "Df Model:                           5                                         \n",
       "Covariance Type:            nonrobust                                         \n",
       "==============================================================================\n",
       "                 coef    std err          t      P>|t|      [0.025      0.975]\n",
       "------------------------------------------------------------------------------\n",
       "const       -219.0820      3.629    -60.368      0.000    -226.197    -211.967\n",
       "year           0.1141      0.002     62.919      0.000       0.110       0.118\n",
       "km_driven  -4.907e-07   1.38e-07     -3.560      0.000   -7.61e-07   -2.21e-07\n",
       "mileage        0.0265      0.001     18.606      0.000       0.024       0.029\n",
       "max_power      0.0157      0.000     52.240      0.000       0.015       0.016\n",
       "seats          0.0841      0.007     11.279      0.000       0.069       0.099\n",
       "==============================================================================\n",
       "Omnibus:                      154.086   Durbin-Watson:                   1.777\n",
       "Prob(Omnibus):                  0.000   Jarque-Bera (JB):              223.606\n",
       "Skew:                          -0.345   Prob(JB):                     2.78e-49\n",
       "Kurtosis:                       3.853   Cond. No.                     6.80e+07\n",
       "==============================================================================\n",
       "\n",
       "Notes:\n",
       "[1] Standard Errors assume that the covariance matrix of the errors is correctly specified.\n",
       "[2] The condition number is large, 6.8e+07. This might indicate that there are\n",
       "strong multicollinearity or other numerical problems.\n",
       "\"\"\""
      ]
     },
     "execution_count": 98,
     "metadata": {},
     "output_type": "execute_result"
    }
   ],
   "source": [
    "x1 = sm.add_constant(x)\n",
    "sm_model = sm.OLS(y, x1).fit()\n",
    "sm_model.summary()"
   ]
  },
  {
   "cell_type": "code",
   "execution_count": 101,
   "id": "9bc8f02d",
   "metadata": {},
   "outputs": [
    {
     "data": {
      "text/html": [
       "<div>\n",
       "<style scoped>\n",
       "    .dataframe tbody tr th:only-of-type {\n",
       "        vertical-align: middle;\n",
       "    }\n",
       "\n",
       "    .dataframe tbody tr th {\n",
       "        vertical-align: top;\n",
       "    }\n",
       "\n",
       "    .dataframe thead th {\n",
       "        text-align: right;\n",
       "    }\n",
       "</style>\n",
       "<table border=\"1\" class=\"dataframe\">\n",
       "  <thead>\n",
       "    <tr style=\"text-align: right;\">\n",
       "      <th></th>\n",
       "      <th>year</th>\n",
       "      <th>km_driven</th>\n",
       "      <th>fuel</th>\n",
       "      <th>seller_type</th>\n",
       "      <th>transmission</th>\n",
       "      <th>owner</th>\n",
       "      <th>mileage</th>\n",
       "      <th>max_power</th>\n",
       "      <th>seats</th>\n",
       "      <th>brand</th>\n",
       "      <th>log_price</th>\n",
       "    </tr>\n",
       "  </thead>\n",
       "  <tbody>\n",
       "    <tr>\n",
       "      <th>0</th>\n",
       "      <td>2014</td>\n",
       "      <td>145500</td>\n",
       "      <td>Diesel</td>\n",
       "      <td>Individual</td>\n",
       "      <td>Manual</td>\n",
       "      <td>First Owner</td>\n",
       "      <td>23.40</td>\n",
       "      <td>74.00</td>\n",
       "      <td>5.0</td>\n",
       "      <td>Maruti</td>\n",
       "      <td>13.017003</td>\n",
       "    </tr>\n",
       "    <tr>\n",
       "      <th>1</th>\n",
       "      <td>2014</td>\n",
       "      <td>120000</td>\n",
       "      <td>Diesel</td>\n",
       "      <td>Individual</td>\n",
       "      <td>Manual</td>\n",
       "      <td>Second Owner</td>\n",
       "      <td>21.14</td>\n",
       "      <td>103.52</td>\n",
       "      <td>5.0</td>\n",
       "      <td>Skoda</td>\n",
       "      <td>12.821258</td>\n",
       "    </tr>\n",
       "    <tr>\n",
       "      <th>3</th>\n",
       "      <td>2010</td>\n",
       "      <td>127000</td>\n",
       "      <td>Diesel</td>\n",
       "      <td>Individual</td>\n",
       "      <td>Manual</td>\n",
       "      <td>First Owner</td>\n",
       "      <td>23.00</td>\n",
       "      <td>90.00</td>\n",
       "      <td>5.0</td>\n",
       "      <td>Hyundai</td>\n",
       "      <td>12.323856</td>\n",
       "    </tr>\n",
       "    <tr>\n",
       "      <th>5</th>\n",
       "      <td>2017</td>\n",
       "      <td>45000</td>\n",
       "      <td>Petrol</td>\n",
       "      <td>Individual</td>\n",
       "      <td>Manual</td>\n",
       "      <td>First Owner</td>\n",
       "      <td>20.14</td>\n",
       "      <td>81.86</td>\n",
       "      <td>5.0</td>\n",
       "      <td>Hyundai</td>\n",
       "      <td>12.994530</td>\n",
       "    </tr>\n",
       "    <tr>\n",
       "      <th>8</th>\n",
       "      <td>2011</td>\n",
       "      <td>90000</td>\n",
       "      <td>Diesel</td>\n",
       "      <td>Individual</td>\n",
       "      <td>Manual</td>\n",
       "      <td>First Owner</td>\n",
       "      <td>23.59</td>\n",
       "      <td>67.10</td>\n",
       "      <td>5.0</td>\n",
       "      <td>Toyota</td>\n",
       "      <td>12.765688</td>\n",
       "    </tr>\n",
       "  </tbody>\n",
       "</table>\n",
       "</div>"
      ],
      "text/plain": [
       "   year  km_driven    fuel seller_type transmission         owner  mileage  \\\n",
       "0  2014     145500  Diesel  Individual       Manual   First Owner    23.40   \n",
       "1  2014     120000  Diesel  Individual       Manual  Second Owner    21.14   \n",
       "3  2010     127000  Diesel  Individual       Manual   First Owner    23.00   \n",
       "5  2017      45000  Petrol  Individual       Manual   First Owner    20.14   \n",
       "8  2011      90000  Diesel  Individual       Manual   First Owner    23.59   \n",
       "\n",
       "   max_power  seats    brand  log_price  \n",
       "0      74.00    5.0   Maruti  13.017003  \n",
       "1     103.52    5.0    Skoda  12.821258  \n",
       "3      90.00    5.0  Hyundai  12.323856  \n",
       "5      81.86    5.0  Hyundai  12.994530  \n",
       "8      67.10    5.0   Toyota  12.765688  "
      ]
     },
     "execution_count": 101,
     "metadata": {},
     "output_type": "execute_result"
    }
   ],
   "source": [
    "data2.head()"
   ]
  },
  {
   "cell_type": "code",
   "execution_count": 103,
   "id": "e483a833",
   "metadata": {},
   "outputs": [],
   "source": [
    "variables = data2[['year', 'km_driven', 'mileage', 'max_power', 'seats']]\n",
    "vif = pd.DataFrame()\n",
    "vif['Features'] = variables.columns\n",
    "vif['VIF'] = [variance_inflation_factor(variables.values, i) for i in range(variables.shape[1])]"
   ]
  },
  {
   "cell_type": "code",
   "execution_count": 104,
   "id": "97fa45e1",
   "metadata": {},
   "outputs": [
    {
     "data": {
      "text/html": [
       "<div>\n",
       "<style scoped>\n",
       "    .dataframe tbody tr th:only-of-type {\n",
       "        vertical-align: middle;\n",
       "    }\n",
       "\n",
       "    .dataframe tbody tr th {\n",
       "        vertical-align: top;\n",
       "    }\n",
       "\n",
       "    .dataframe thead th {\n",
       "        text-align: right;\n",
       "    }\n",
       "</style>\n",
       "<table border=\"1\" class=\"dataframe\">\n",
       "  <thead>\n",
       "    <tr style=\"text-align: right;\">\n",
       "      <th></th>\n",
       "      <th>Features</th>\n",
       "      <th>VIF</th>\n",
       "    </tr>\n",
       "  </thead>\n",
       "  <tbody>\n",
       "    <tr>\n",
       "      <th>0</th>\n",
       "      <td>year</td>\n",
       "      <td>189.934959</td>\n",
       "    </tr>\n",
       "    <tr>\n",
       "      <th>1</th>\n",
       "      <td>km_driven</td>\n",
       "      <td>4.806903</td>\n",
       "    </tr>\n",
       "    <tr>\n",
       "      <th>2</th>\n",
       "      <td>mileage</td>\n",
       "      <td>48.457958</td>\n",
       "    </tr>\n",
       "    <tr>\n",
       "      <th>3</th>\n",
       "      <td>max_power</td>\n",
       "      <td>38.353221</td>\n",
       "    </tr>\n",
       "    <tr>\n",
       "      <th>4</th>\n",
       "      <td>seats</td>\n",
       "      <td>96.399456</td>\n",
       "    </tr>\n",
       "  </tbody>\n",
       "</table>\n",
       "</div>"
      ],
      "text/plain": [
       "    Features         VIF\n",
       "0       year  189.934959\n",
       "1  km_driven    4.806903\n",
       "2    mileage   48.457958\n",
       "3  max_power   38.353221\n",
       "4      seats   96.399456"
      ]
     },
     "execution_count": 104,
     "metadata": {},
     "output_type": "execute_result"
    }
   ],
   "source": [
    "vif"
   ]
  },
  {
   "cell_type": "code",
   "execution_count": 105,
   "id": "9c081cd0",
   "metadata": {},
   "outputs": [],
   "source": [
    "data3 = pd.get_dummies(data = data2, columns = categorical_columns, drop_first = True, dtype = 'int')"
   ]
  },
  {
   "cell_type": "code",
   "execution_count": 106,
   "id": "913e0b73",
   "metadata": {},
   "outputs": [
    {
     "data": {
      "text/html": [
       "<div>\n",
       "<style scoped>\n",
       "    .dataframe tbody tr th:only-of-type {\n",
       "        vertical-align: middle;\n",
       "    }\n",
       "\n",
       "    .dataframe tbody tr th {\n",
       "        vertical-align: top;\n",
       "    }\n",
       "\n",
       "    .dataframe thead th {\n",
       "        text-align: right;\n",
       "    }\n",
       "</style>\n",
       "<table border=\"1\" class=\"dataframe\">\n",
       "  <thead>\n",
       "    <tr style=\"text-align: right;\">\n",
       "      <th></th>\n",
       "      <th>year</th>\n",
       "      <th>km_driven</th>\n",
       "      <th>mileage</th>\n",
       "      <th>max_power</th>\n",
       "      <th>seats</th>\n",
       "      <th>log_price</th>\n",
       "      <th>fuel_Diesel</th>\n",
       "      <th>fuel_LPG</th>\n",
       "      <th>fuel_Petrol</th>\n",
       "      <th>seller_type_Individual</th>\n",
       "      <th>...</th>\n",
       "      <th>brand_Honda</th>\n",
       "      <th>brand_Hyundai</th>\n",
       "      <th>brand_Mahindra</th>\n",
       "      <th>brand_Maruti</th>\n",
       "      <th>brand_Nissan</th>\n",
       "      <th>brand_Renault</th>\n",
       "      <th>brand_Skoda</th>\n",
       "      <th>brand_Tata</th>\n",
       "      <th>brand_Toyota</th>\n",
       "      <th>brand_Volkswagen</th>\n",
       "    </tr>\n",
       "  </thead>\n",
       "  <tbody>\n",
       "    <tr>\n",
       "      <th>0</th>\n",
       "      <td>2014</td>\n",
       "      <td>145500</td>\n",
       "      <td>23.40</td>\n",
       "      <td>74.00</td>\n",
       "      <td>5.0</td>\n",
       "      <td>13.017003</td>\n",
       "      <td>1</td>\n",
       "      <td>0</td>\n",
       "      <td>0</td>\n",
       "      <td>1</td>\n",
       "      <td>...</td>\n",
       "      <td>0</td>\n",
       "      <td>0</td>\n",
       "      <td>0</td>\n",
       "      <td>1</td>\n",
       "      <td>0</td>\n",
       "      <td>0</td>\n",
       "      <td>0</td>\n",
       "      <td>0</td>\n",
       "      <td>0</td>\n",
       "      <td>0</td>\n",
       "    </tr>\n",
       "    <tr>\n",
       "      <th>1</th>\n",
       "      <td>2014</td>\n",
       "      <td>120000</td>\n",
       "      <td>21.14</td>\n",
       "      <td>103.52</td>\n",
       "      <td>5.0</td>\n",
       "      <td>12.821258</td>\n",
       "      <td>1</td>\n",
       "      <td>0</td>\n",
       "      <td>0</td>\n",
       "      <td>1</td>\n",
       "      <td>...</td>\n",
       "      <td>0</td>\n",
       "      <td>0</td>\n",
       "      <td>0</td>\n",
       "      <td>0</td>\n",
       "      <td>0</td>\n",
       "      <td>0</td>\n",
       "      <td>1</td>\n",
       "      <td>0</td>\n",
       "      <td>0</td>\n",
       "      <td>0</td>\n",
       "    </tr>\n",
       "    <tr>\n",
       "      <th>3</th>\n",
       "      <td>2010</td>\n",
       "      <td>127000</td>\n",
       "      <td>23.00</td>\n",
       "      <td>90.00</td>\n",
       "      <td>5.0</td>\n",
       "      <td>12.323856</td>\n",
       "      <td>1</td>\n",
       "      <td>0</td>\n",
       "      <td>0</td>\n",
       "      <td>1</td>\n",
       "      <td>...</td>\n",
       "      <td>0</td>\n",
       "      <td>1</td>\n",
       "      <td>0</td>\n",
       "      <td>0</td>\n",
       "      <td>0</td>\n",
       "      <td>0</td>\n",
       "      <td>0</td>\n",
       "      <td>0</td>\n",
       "      <td>0</td>\n",
       "      <td>0</td>\n",
       "    </tr>\n",
       "    <tr>\n",
       "      <th>5</th>\n",
       "      <td>2017</td>\n",
       "      <td>45000</td>\n",
       "      <td>20.14</td>\n",
       "      <td>81.86</td>\n",
       "      <td>5.0</td>\n",
       "      <td>12.994530</td>\n",
       "      <td>0</td>\n",
       "      <td>0</td>\n",
       "      <td>1</td>\n",
       "      <td>1</td>\n",
       "      <td>...</td>\n",
       "      <td>0</td>\n",
       "      <td>1</td>\n",
       "      <td>0</td>\n",
       "      <td>0</td>\n",
       "      <td>0</td>\n",
       "      <td>0</td>\n",
       "      <td>0</td>\n",
       "      <td>0</td>\n",
       "      <td>0</td>\n",
       "      <td>0</td>\n",
       "    </tr>\n",
       "    <tr>\n",
       "      <th>8</th>\n",
       "      <td>2011</td>\n",
       "      <td>90000</td>\n",
       "      <td>23.59</td>\n",
       "      <td>67.10</td>\n",
       "      <td>5.0</td>\n",
       "      <td>12.765688</td>\n",
       "      <td>1</td>\n",
       "      <td>0</td>\n",
       "      <td>0</td>\n",
       "      <td>1</td>\n",
       "      <td>...</td>\n",
       "      <td>0</td>\n",
       "      <td>0</td>\n",
       "      <td>0</td>\n",
       "      <td>0</td>\n",
       "      <td>0</td>\n",
       "      <td>0</td>\n",
       "      <td>0</td>\n",
       "      <td>0</td>\n",
       "      <td>1</td>\n",
       "      <td>0</td>\n",
       "    </tr>\n",
       "  </tbody>\n",
       "</table>\n",
       "<p>5 rows × 29 columns</p>\n",
       "</div>"
      ],
      "text/plain": [
       "   year  km_driven  mileage  max_power  seats  log_price  fuel_Diesel  \\\n",
       "0  2014     145500    23.40      74.00    5.0  13.017003            1   \n",
       "1  2014     120000    21.14     103.52    5.0  12.821258            1   \n",
       "3  2010     127000    23.00      90.00    5.0  12.323856            1   \n",
       "5  2017      45000    20.14      81.86    5.0  12.994530            0   \n",
       "8  2011      90000    23.59      67.10    5.0  12.765688            1   \n",
       "\n",
       "   fuel_LPG  fuel_Petrol  seller_type_Individual  ...  brand_Honda  \\\n",
       "0         0            0                       1  ...            0   \n",
       "1         0            0                       1  ...            0   \n",
       "3         0            0                       1  ...            0   \n",
       "5         0            1                       1  ...            0   \n",
       "8         0            0                       1  ...            0   \n",
       "\n",
       "   brand_Hyundai  brand_Mahindra  brand_Maruti  brand_Nissan  brand_Renault  \\\n",
       "0              0               0             1             0              0   \n",
       "1              0               0             0             0              0   \n",
       "3              1               0             0             0              0   \n",
       "5              1               0             0             0              0   \n",
       "8              0               0             0             0              0   \n",
       "\n",
       "   brand_Skoda  brand_Tata  brand_Toyota  brand_Volkswagen  \n",
       "0            0           0             0                 0  \n",
       "1            1           0             0                 0  \n",
       "3            0           0             0                 0  \n",
       "5            0           0             0                 0  \n",
       "8            0           0             1                 0  \n",
       "\n",
       "[5 rows x 29 columns]"
      ]
     },
     "execution_count": 106,
     "metadata": {},
     "output_type": "execute_result"
    }
   ],
   "source": [
    "data3.head()"
   ]
  },
  {
   "cell_type": "code",
   "execution_count": 107,
   "id": "23f70408",
   "metadata": {},
   "outputs": [
    {
     "data": {
      "text/plain": [
       "Index(['year', 'km_driven', 'mileage', 'max_power', 'seats', 'log_price',\n",
       "       'fuel_Diesel', 'fuel_LPG', 'fuel_Petrol', 'seller_type_Individual',\n",
       "       'seller_type_Trustmark Dealer', 'transmission_Manual',\n",
       "       'owner_Fourth & Above Owner', 'owner_Second Owner', 'owner_Third Owner',\n",
       "       'brand_Chevrolet', 'brand_Datsun', 'brand_Fiat', 'brand_Ford',\n",
       "       'brand_Honda', 'brand_Hyundai', 'brand_Mahindra', 'brand_Maruti',\n",
       "       'brand_Nissan', 'brand_Renault', 'brand_Skoda', 'brand_Tata',\n",
       "       'brand_Toyota', 'brand_Volkswagen'],\n",
       "      dtype='object')"
      ]
     },
     "execution_count": 107,
     "metadata": {},
     "output_type": "execute_result"
    }
   ],
   "source": [
    "data3.columns"
   ]
  },
  {
   "cell_type": "code",
   "execution_count": 108,
   "id": "e251b370",
   "metadata": {},
   "outputs": [
    {
     "data": {
      "text/plain": [
       "(4456, 29)"
      ]
     },
     "execution_count": 108,
     "metadata": {},
     "output_type": "execute_result"
    }
   ],
   "source": [
    "data3.shape"
   ]
  },
  {
   "cell_type": "code",
   "execution_count": 109,
   "id": "0e9e5f9f",
   "metadata": {},
   "outputs": [],
   "source": [
    "inputs = data3.drop(columns = ['log_price'], axis = 1)\n",
    "targets = data3['log_price']"
   ]
  },
  {
   "cell_type": "code",
   "execution_count": 112,
   "id": "301b52e7",
   "metadata": {},
   "outputs": [],
   "source": [
    "scaler = StandardScaler()\n",
    "inputs_scaled = scaler.fit_transform(inputs)"
   ]
  },
  {
   "cell_type": "code",
   "execution_count": 114,
   "id": "3d187e70",
   "metadata": {},
   "outputs": [],
   "source": [
    "X_train, X_test, y_train, y_test = train_test_split(inputs_scaled, targets, test_size = 0.2, random_state = 101, shuffle = True)"
   ]
  },
  {
   "cell_type": "code",
   "execution_count": 115,
   "id": "7094de76",
   "metadata": {},
   "outputs": [
    {
     "data": {
      "text/plain": [
       "(3564, 28)"
      ]
     },
     "execution_count": 115,
     "metadata": {},
     "output_type": "execute_result"
    }
   ],
   "source": [
    "X_train.shape"
   ]
  },
  {
   "cell_type": "code",
   "execution_count": 116,
   "id": "2d827cf0",
   "metadata": {},
   "outputs": [
    {
     "data": {
      "text/plain": [
       "(892, 28)"
      ]
     },
     "execution_count": 116,
     "metadata": {},
     "output_type": "execute_result"
    }
   ],
   "source": [
    "X_test.shape"
   ]
  },
  {
   "cell_type": "code",
   "execution_count": 117,
   "id": "95fe7ef5",
   "metadata": {},
   "outputs": [],
   "source": [
    "model1 = LinearRegression()"
   ]
  },
  {
   "cell_type": "code",
   "execution_count": 118,
   "id": "97aa96e2",
   "metadata": {},
   "outputs": [
    {
     "data": {
      "text/html": [
       "<style>#sk-container-id-1 {color: black;}#sk-container-id-1 pre{padding: 0;}#sk-container-id-1 div.sk-toggleable {background-color: white;}#sk-container-id-1 label.sk-toggleable__label {cursor: pointer;display: block;width: 100%;margin-bottom: 0;padding: 0.3em;box-sizing: border-box;text-align: center;}#sk-container-id-1 label.sk-toggleable__label-arrow:before {content: \"▸\";float: left;margin-right: 0.25em;color: #696969;}#sk-container-id-1 label.sk-toggleable__label-arrow:hover:before {color: black;}#sk-container-id-1 div.sk-estimator:hover label.sk-toggleable__label-arrow:before {color: black;}#sk-container-id-1 div.sk-toggleable__content {max-height: 0;max-width: 0;overflow: hidden;text-align: left;background-color: #f0f8ff;}#sk-container-id-1 div.sk-toggleable__content pre {margin: 0.2em;color: black;border-radius: 0.25em;background-color: #f0f8ff;}#sk-container-id-1 input.sk-toggleable__control:checked~div.sk-toggleable__content {max-height: 200px;max-width: 100%;overflow: auto;}#sk-container-id-1 input.sk-toggleable__control:checked~label.sk-toggleable__label-arrow:before {content: \"▾\";}#sk-container-id-1 div.sk-estimator input.sk-toggleable__control:checked~label.sk-toggleable__label {background-color: #d4ebff;}#sk-container-id-1 div.sk-label input.sk-toggleable__control:checked~label.sk-toggleable__label {background-color: #d4ebff;}#sk-container-id-1 input.sk-hidden--visually {border: 0;clip: rect(1px 1px 1px 1px);clip: rect(1px, 1px, 1px, 1px);height: 1px;margin: -1px;overflow: hidden;padding: 0;position: absolute;width: 1px;}#sk-container-id-1 div.sk-estimator {font-family: monospace;background-color: #f0f8ff;border: 1px dotted black;border-radius: 0.25em;box-sizing: border-box;margin-bottom: 0.5em;}#sk-container-id-1 div.sk-estimator:hover {background-color: #d4ebff;}#sk-container-id-1 div.sk-parallel-item::after {content: \"\";width: 100%;border-bottom: 1px solid gray;flex-grow: 1;}#sk-container-id-1 div.sk-label:hover label.sk-toggleable__label {background-color: #d4ebff;}#sk-container-id-1 div.sk-serial::before {content: \"\";position: absolute;border-left: 1px solid gray;box-sizing: border-box;top: 0;bottom: 0;left: 50%;z-index: 0;}#sk-container-id-1 div.sk-serial {display: flex;flex-direction: column;align-items: center;background-color: white;padding-right: 0.2em;padding-left: 0.2em;position: relative;}#sk-container-id-1 div.sk-item {position: relative;z-index: 1;}#sk-container-id-1 div.sk-parallel {display: flex;align-items: stretch;justify-content: center;background-color: white;position: relative;}#sk-container-id-1 div.sk-item::before, #sk-container-id-1 div.sk-parallel-item::before {content: \"\";position: absolute;border-left: 1px solid gray;box-sizing: border-box;top: 0;bottom: 0;left: 50%;z-index: -1;}#sk-container-id-1 div.sk-parallel-item {display: flex;flex-direction: column;z-index: 1;position: relative;background-color: white;}#sk-container-id-1 div.sk-parallel-item:first-child::after {align-self: flex-end;width: 50%;}#sk-container-id-1 div.sk-parallel-item:last-child::after {align-self: flex-start;width: 50%;}#sk-container-id-1 div.sk-parallel-item:only-child::after {width: 0;}#sk-container-id-1 div.sk-dashed-wrapped {border: 1px dashed gray;margin: 0 0.4em 0.5em 0.4em;box-sizing: border-box;padding-bottom: 0.4em;background-color: white;}#sk-container-id-1 div.sk-label label {font-family: monospace;font-weight: bold;display: inline-block;line-height: 1.2em;}#sk-container-id-1 div.sk-label-container {text-align: center;}#sk-container-id-1 div.sk-container {/* jupyter's `normalize.less` sets `[hidden] { display: none; }` but bootstrap.min.css set `[hidden] { display: none !important; }` so we also need the `!important` here to be able to override the default hidden behavior on the sphinx rendered scikit-learn.org. See: https://github.com/scikit-learn/scikit-learn/issues/21755 */display: inline-block !important;position: relative;}#sk-container-id-1 div.sk-text-repr-fallback {display: none;}</style><div id=\"sk-container-id-1\" class=\"sk-top-container\"><div class=\"sk-text-repr-fallback\"><pre>LinearRegression()</pre><b>In a Jupyter environment, please rerun this cell to show the HTML representation or trust the notebook. <br />On GitHub, the HTML representation is unable to render, please try loading this page with nbviewer.org.</b></div><div class=\"sk-container\" hidden><div class=\"sk-item\"><div class=\"sk-estimator sk-toggleable\"><input class=\"sk-toggleable__control sk-hidden--visually\" id=\"sk-estimator-id-1\" type=\"checkbox\" checked><label for=\"sk-estimator-id-1\" class=\"sk-toggleable__label sk-toggleable__label-arrow\">LinearRegression</label><div class=\"sk-toggleable__content\"><pre>LinearRegression()</pre></div></div></div></div></div>"
      ],
      "text/plain": [
       "LinearRegression()"
      ]
     },
     "execution_count": 118,
     "metadata": {},
     "output_type": "execute_result"
    }
   ],
   "source": [
    "model1.fit(X_train, y_train)"
   ]
  },
  {
   "cell_type": "code",
   "execution_count": 120,
   "id": "fe64a212",
   "metadata": {},
   "outputs": [
    {
     "data": {
      "text/plain": [
       "(array([4.92593028e+03, 4.10164164e+02, 3.24319182e+02, 1.27696315e+03,\n",
       "        1.68720179e+02, 1.59002376e+02, 2.26565510e+01, 1.27603235e+02,\n",
       "        1.49809783e+02, 8.26833881e+00, 1.10721469e+02, 4.55529554e+01,\n",
       "        2.67687372e+02, 1.27217062e+02, 2.45476380e+02, 9.39753189e+00,\n",
       "        8.83823913e+00, 3.10835053e+00, 1.31179619e+02, 9.80404449e+00,\n",
       "        1.97225459e+01, 2.43110042e+01, 1.18071552e-01, 9.46003584e+00,\n",
       "        1.49928956e+01, 1.70106981e+02, 8.55453100e+00, 2.88016112e+00]),\n",
       " array([0.00000000e+000, 2.07723115e-086, 1.83177406e-069, 2.74157584e-239,\n",
       "        9.99876725e-038, 1.07028441e-035, 2.01400968e-006, 4.25952455e-029,\n",
       "        9.01455829e-034, 4.05817843e-003, 1.60639120e-025, 1.72732139e-011,\n",
       "        4.52073247e-058, 5.13981018e-029, 1.48458037e-053, 2.18906525e-003,\n",
       "        2.96959903e-003, 7.79775411e-002, 7.48648787e-030, 1.75539532e-003,\n",
       "        9.22574496e-006, 8.57116184e-007, 7.31155813e-001, 2.11590458e-003,\n",
       "        1.09853447e-004, 5.13809277e-038, 3.46839001e-003, 8.97644099e-002]))"
      ]
     },
     "execution_count": 120,
     "metadata": {},
     "output_type": "execute_result"
    }
   ],
   "source": [
    "f_regression(X_train, y_train)"
   ]
  },
  {
   "cell_type": "code",
   "execution_count": 125,
   "id": "9bd49d3f",
   "metadata": {},
   "outputs": [],
   "source": [
    "p_values = f_regression(X_train, y_train)[1].round(3)[:5]"
   ]
  },
  {
   "cell_type": "code",
   "execution_count": 127,
   "id": "d288c232",
   "metadata": {},
   "outputs": [
    {
     "data": {
      "text/html": [
       "<div>\n",
       "<style scoped>\n",
       "    .dataframe tbody tr th:only-of-type {\n",
       "        vertical-align: middle;\n",
       "    }\n",
       "\n",
       "    .dataframe tbody tr th {\n",
       "        vertical-align: top;\n",
       "    }\n",
       "\n",
       "    .dataframe thead th {\n",
       "        text-align: right;\n",
       "    }\n",
       "</style>\n",
       "<table border=\"1\" class=\"dataframe\">\n",
       "  <thead>\n",
       "    <tr style=\"text-align: right;\">\n",
       "      <th></th>\n",
       "      <th>Features</th>\n",
       "      <th>p_values</th>\n",
       "    </tr>\n",
       "  </thead>\n",
       "  <tbody>\n",
       "    <tr>\n",
       "      <th>0</th>\n",
       "      <td>year</td>\n",
       "      <td>0.0</td>\n",
       "    </tr>\n",
       "    <tr>\n",
       "      <th>1</th>\n",
       "      <td>km_driven</td>\n",
       "      <td>0.0</td>\n",
       "    </tr>\n",
       "    <tr>\n",
       "      <th>2</th>\n",
       "      <td>mileage</td>\n",
       "      <td>0.0</td>\n",
       "    </tr>\n",
       "    <tr>\n",
       "      <th>3</th>\n",
       "      <td>max_power</td>\n",
       "      <td>0.0</td>\n",
       "    </tr>\n",
       "    <tr>\n",
       "      <th>4</th>\n",
       "      <td>seats</td>\n",
       "      <td>0.0</td>\n",
       "    </tr>\n",
       "  </tbody>\n",
       "</table>\n",
       "</div>"
      ],
      "text/plain": [
       "    Features  p_values\n",
       "0       year       0.0\n",
       "1  km_driven       0.0\n",
       "2    mileage       0.0\n",
       "3  max_power       0.0\n",
       "4      seats       0.0"
      ]
     },
     "execution_count": 127,
     "metadata": {},
     "output_type": "execute_result"
    }
   ],
   "source": [
    "df_p = pd.DataFrame()\n",
    "df_p['Features'] = inputs.columns[:5]\n",
    "df_p['p_values'] = p_values\n",
    "df_p"
   ]
  },
  {
   "cell_type": "code",
   "execution_count": 128,
   "id": "39da010e",
   "metadata": {},
   "outputs": [],
   "source": [
    "yhat1 = model1.predict(X_train)"
   ]
  },
  {
   "cell_type": "code",
   "execution_count": 131,
   "id": "d03877a4",
   "metadata": {},
   "outputs": [
    {
     "data": {
      "image/png": "[encoded data removed]",
      "text/plain": [
       "<Figure size 648x504 with 1 Axes>"
      ]
     },
     "metadata": {},
     "output_type": "display_data"
    }
   ],
   "source": [
    "plt.figure(figsize = (9, 7))\n",
    "plt.scatter(yhat1, y_train)\n",
    "plt.xlabel('Prediction', fontsize = 15)\n",
    "plt.ylabel('Target', fontsize = 15)\n",
    "plt.show()"
   ]
  },
  {
   "cell_type": "code",
   "execution_count": 132,
   "id": "3b3921fe",
   "metadata": {},
   "outputs": [
    {
     "data": {
      "image/png": "[encoded data removed]",
      "text/plain": [
       "<Figure size 648x504 with 1 Axes>"
      ]
     },
     "metadata": {},
     "output_type": "display_data"
    }
   ],
   "source": [
    "plt.figure(figsize = (9, 7))\n",
    "sns.kdeplot(y_train - yhat1, shade = True)\n",
    "plt.title('Residual PDF')\n",
    "plt.show()"
   ]
  },
  {
   "cell_type": "code",
   "execution_count": 133,
   "id": "95471226",
   "metadata": {},
   "outputs": [
    {
     "data": {
      "text/plain": [
       "0.8350195477543524"
      ]
     },
     "execution_count": 133,
     "metadata": {},
     "output_type": "execute_result"
    }
   ],
   "source": [
    "model1.score(X_train, y_train)"
   ]
  },
  {
   "cell_type": "code",
   "execution_count": 134,
   "id": "155c56d6",
   "metadata": {},
   "outputs": [
    {
     "data": {
      "text/plain": [
       "12.871644094845957"
      ]
     },
     "execution_count": 134,
     "metadata": {},
     "output_type": "execute_result"
    }
   ],
   "source": [
    "model1.intercept_"
   ]
  },
  {
   "cell_type": "code",
   "execution_count": 135,
   "id": "300c7b69",
   "metadata": {},
   "outputs": [
    {
     "data": {
      "text/plain": [
       "array([ 0.32346244, -0.04047368, -0.01972993,  0.17408412,  0.03123189,\n",
       "        0.16097676,  0.01593934,  0.02942643, -0.00140666, -0.00885728,\n",
       "       -0.01078623, -0.01059659, -0.0302925 , -0.02685116, -0.3282759 ,\n",
       "       -0.1653175 , -0.15553827, -0.38576685, -0.35924227, -0.58908613,\n",
       "       -0.30024185, -0.64351383, -0.18322931, -0.25889   , -0.19643989,\n",
       "       -0.50788744, -0.20383521, -0.27546777])"
      ]
     },
     "execution_count": 135,
     "metadata": {},
     "output_type": "execute_result"
    }
   ],
   "source": [
    "model1.coef_"
   ]
  },
  {
   "cell_type": "code",
   "execution_count": 136,
   "id": "78af30f3",
   "metadata": {},
   "outputs": [
    {
     "data": {
      "text/plain": [
       "0.8337127718949809"
      ]
     },
     "execution_count": 136,
     "metadata": {},
     "output_type": "execute_result"
    }
   ],
   "source": [
    "r2 = model1.score(X_train, y_train)\n",
    "n = X_train.shape[0]\n",
    "p = X_train.shape[1]\n",
    "adjusted_r2 = 1 - (1 - r2) * (n - 1) / (n - p - 1)\n",
    "adjusted_r2"
   ]
  },
  {
   "cell_type": "code",
   "execution_count": 139,
   "id": "e2ec8187",
   "metadata": {},
   "outputs": [],
   "source": [
    "model1_summary = pd.DataFrame(data = inputs.columns, columns = ['Features'])\n",
    "model1_summary['Coefficient'] = model1.coef_"
   ]
  },
  {
   "cell_type": "code",
   "execution_count": 140,
   "id": "7dc0803f",
   "metadata": {},
   "outputs": [
    {
     "data": {
      "text/html": [
       "<div>\n",
       "<style scoped>\n",
       "    .dataframe tbody tr th:only-of-type {\n",
       "        vertical-align: middle;\n",
       "    }\n",
       "\n",
       "    .dataframe tbody tr th {\n",
       "        vertical-align: top;\n",
       "    }\n",
       "\n",
       "    .dataframe thead th {\n",
       "        text-align: right;\n",
       "    }\n",
       "</style>\n",
       "<table border=\"1\" class=\"dataframe\">\n",
       "  <thead>\n",
       "    <tr style=\"text-align: right;\">\n",
       "      <th></th>\n",
       "      <th>Features</th>\n",
       "      <th>Coefficient</th>\n",
       "    </tr>\n",
       "  </thead>\n",
       "  <tbody>\n",
       "    <tr>\n",
       "      <th>0</th>\n",
       "      <td>year</td>\n",
       "      <td>0.323462</td>\n",
       "    </tr>\n",
       "    <tr>\n",
       "      <th>1</th>\n",
       "      <td>km_driven</td>\n",
       "      <td>-0.040474</td>\n",
       "    </tr>\n",
       "    <tr>\n",
       "      <th>2</th>\n",
       "      <td>mileage</td>\n",
       "      <td>-0.019730</td>\n",
       "    </tr>\n",
       "    <tr>\n",
       "      <th>3</th>\n",
       "      <td>max_power</td>\n",
       "      <td>0.174084</td>\n",
       "    </tr>\n",
       "    <tr>\n",
       "      <th>4</th>\n",
       "      <td>seats</td>\n",
       "      <td>0.031232</td>\n",
       "    </tr>\n",
       "    <tr>\n",
       "      <th>5</th>\n",
       "      <td>fuel_Diesel</td>\n",
       "      <td>0.160977</td>\n",
       "    </tr>\n",
       "    <tr>\n",
       "      <th>6</th>\n",
       "      <td>fuel_LPG</td>\n",
       "      <td>0.015939</td>\n",
       "    </tr>\n",
       "    <tr>\n",
       "      <th>7</th>\n",
       "      <td>fuel_Petrol</td>\n",
       "      <td>0.029426</td>\n",
       "    </tr>\n",
       "    <tr>\n",
       "      <th>8</th>\n",
       "      <td>seller_type_Individual</td>\n",
       "      <td>-0.001407</td>\n",
       "    </tr>\n",
       "    <tr>\n",
       "      <th>9</th>\n",
       "      <td>seller_type_Trustmark Dealer</td>\n",
       "      <td>-0.008857</td>\n",
       "    </tr>\n",
       "    <tr>\n",
       "      <th>10</th>\n",
       "      <td>transmission_Manual</td>\n",
       "      <td>-0.010786</td>\n",
       "    </tr>\n",
       "    <tr>\n",
       "      <th>11</th>\n",
       "      <td>owner_Fourth &amp; Above Owner</td>\n",
       "      <td>-0.010597</td>\n",
       "    </tr>\n",
       "    <tr>\n",
       "      <th>12</th>\n",
       "      <td>owner_Second Owner</td>\n",
       "      <td>-0.030292</td>\n",
       "    </tr>\n",
       "    <tr>\n",
       "      <th>13</th>\n",
       "      <td>owner_Third Owner</td>\n",
       "      <td>-0.026851</td>\n",
       "    </tr>\n",
       "    <tr>\n",
       "      <th>14</th>\n",
       "      <td>brand_Chevrolet</td>\n",
       "      <td>-0.328276</td>\n",
       "    </tr>\n",
       "    <tr>\n",
       "      <th>15</th>\n",
       "      <td>brand_Datsun</td>\n",
       "      <td>-0.165317</td>\n",
       "    </tr>\n",
       "    <tr>\n",
       "      <th>16</th>\n",
       "      <td>brand_Fiat</td>\n",
       "      <td>-0.155538</td>\n",
       "    </tr>\n",
       "    <tr>\n",
       "      <th>17</th>\n",
       "      <td>brand_Ford</td>\n",
       "      <td>-0.385767</td>\n",
       "    </tr>\n",
       "    <tr>\n",
       "      <th>18</th>\n",
       "      <td>brand_Honda</td>\n",
       "      <td>-0.359242</td>\n",
       "    </tr>\n",
       "    <tr>\n",
       "      <th>19</th>\n",
       "      <td>brand_Hyundai</td>\n",
       "      <td>-0.589086</td>\n",
       "    </tr>\n",
       "    <tr>\n",
       "      <th>20</th>\n",
       "      <td>brand_Mahindra</td>\n",
       "      <td>-0.300242</td>\n",
       "    </tr>\n",
       "    <tr>\n",
       "      <th>21</th>\n",
       "      <td>brand_Maruti</td>\n",
       "      <td>-0.643514</td>\n",
       "    </tr>\n",
       "    <tr>\n",
       "      <th>22</th>\n",
       "      <td>brand_Nissan</td>\n",
       "      <td>-0.183229</td>\n",
       "    </tr>\n",
       "    <tr>\n",
       "      <th>23</th>\n",
       "      <td>brand_Renault</td>\n",
       "      <td>-0.258890</td>\n",
       "    </tr>\n",
       "    <tr>\n",
       "      <th>24</th>\n",
       "      <td>brand_Skoda</td>\n",
       "      <td>-0.196440</td>\n",
       "    </tr>\n",
       "    <tr>\n",
       "      <th>25</th>\n",
       "      <td>brand_Tata</td>\n",
       "      <td>-0.507887</td>\n",
       "    </tr>\n",
       "    <tr>\n",
       "      <th>26</th>\n",
       "      <td>brand_Toyota</td>\n",
       "      <td>-0.203835</td>\n",
       "    </tr>\n",
       "    <tr>\n",
       "      <th>27</th>\n",
       "      <td>brand_Volkswagen</td>\n",
       "      <td>-0.275468</td>\n",
       "    </tr>\n",
       "  </tbody>\n",
       "</table>\n",
       "</div>"
      ],
      "text/plain": [
       "                        Features  Coefficient\n",
       "0                           year     0.323462\n",
       "1                      km_driven    -0.040474\n",
       "2                        mileage    -0.019730\n",
       "3                      max_power     0.174084\n",
       "4                          seats     0.031232\n",
       "5                    fuel_Diesel     0.160977\n",
       "6                       fuel_LPG     0.015939\n",
       "7                    fuel_Petrol     0.029426\n",
       "8         seller_type_Individual    -0.001407\n",
       "9   seller_type_Trustmark Dealer    -0.008857\n",
       "10           transmission_Manual    -0.010786\n",
       "11    owner_Fourth & Above Owner    -0.010597\n",
       "12            owner_Second Owner    -0.030292\n",
       "13             owner_Third Owner    -0.026851\n",
       "14               brand_Chevrolet    -0.328276\n",
       "15                  brand_Datsun    -0.165317\n",
       "16                    brand_Fiat    -0.155538\n",
       "17                    brand_Ford    -0.385767\n",
       "18                   brand_Honda    -0.359242\n",
       "19                 brand_Hyundai    -0.589086\n",
       "20                brand_Mahindra    -0.300242\n",
       "21                  brand_Maruti    -0.643514\n",
       "22                  brand_Nissan    -0.183229\n",
       "23                 brand_Renault    -0.258890\n",
       "24                   brand_Skoda    -0.196440\n",
       "25                    brand_Tata    -0.507887\n",
       "26                  brand_Toyota    -0.203835\n",
       "27              brand_Volkswagen    -0.275468"
      ]
     },
     "execution_count": 140,
     "metadata": {},
     "output_type": "execute_result"
    }
   ],
   "source": [
    "model1_summary"
   ]
  },
  {
   "cell_type": "code",
   "execution_count": 142,
   "id": "39767b97",
   "metadata": {},
   "outputs": [],
   "source": [
    "yhat_test1 = model1.predict(X_test)"
   ]
  },
  {
   "cell_type": "code",
   "execution_count": 144,
   "id": "5fec6ebc",
   "metadata": {},
   "outputs": [
    {
     "data": {
      "image/png": "[encoded data removed]",
      "text/plain": [
       "<Figure size 648x504 with 1 Axes>"
      ]
     },
     "metadata": {},
     "output_type": "display_data"
    }
   ],
   "source": [
    "plt.figure(figsize = (9, 7))\n",
    "plt.scatter(yhat_test1, y_test)\n",
    "plt.xlabel('Prediction', fontsize = 15)\n",
    "plt.ylabel('Target', fontsize = 15)\n",
    "plt.show()"
   ]
  },
  {
   "cell_type": "code",
   "execution_count": 145,
   "id": "5a509a64",
   "metadata": {},
   "outputs": [
    {
     "data": {
      "text/plain": [
       "3892    11.225243\n",
       "3867    12.429216\n",
       "4730    12.611538\n",
       "570     13.353475\n",
       "5831    12.611538\n",
       "Name: log_price, dtype: float64"
      ]
     },
     "execution_count": 145,
     "metadata": {},
     "output_type": "execute_result"
    }
   ],
   "source": [
    "y_test.head()"
   ]
  },
  {
   "cell_type": "code",
   "execution_count": 146,
   "id": "6e5f06d8",
   "metadata": {},
   "outputs": [],
   "source": [
    "y_test_re = y_test.reset_index(drop = True)"
   ]
  },
  {
   "cell_type": "code",
   "execution_count": 147,
   "id": "713a25b5",
   "metadata": {},
   "outputs": [
    {
     "data": {
      "text/plain": [
       "0    11.225243\n",
       "1    12.429216\n",
       "2    12.611538\n",
       "3    13.353475\n",
       "4    12.611538\n",
       "Name: log_price, dtype: float64"
      ]
     },
     "execution_count": 147,
     "metadata": {},
     "output_type": "execute_result"
    }
   ],
   "source": [
    "y_test_re.head()"
   ]
  },
  {
   "cell_type": "code",
   "execution_count": 150,
   "id": "ec4e27a6",
   "metadata": {},
   "outputs": [
    {
     "data": {
      "text/html": [
       "<div>\n",
       "<style scoped>\n",
       "    .dataframe tbody tr th:only-of-type {\n",
       "        vertical-align: middle;\n",
       "    }\n",
       "\n",
       "    .dataframe tbody tr th {\n",
       "        vertical-align: top;\n",
       "    }\n",
       "\n",
       "    .dataframe thead th {\n",
       "        text-align: right;\n",
       "    }\n",
       "</style>\n",
       "<table border=\"1\" class=\"dataframe\">\n",
       "  <thead>\n",
       "    <tr style=\"text-align: right;\">\n",
       "      <th></th>\n",
       "      <th>Target</th>\n",
       "      <th>Prediction</th>\n",
       "      <th>Residual</th>\n",
       "      <th>Percent Error</th>\n",
       "    </tr>\n",
       "  </thead>\n",
       "  <tbody>\n",
       "    <tr>\n",
       "      <th>0</th>\n",
       "      <td>75000.0</td>\n",
       "      <td>173450.825481</td>\n",
       "      <td>-98450.825481</td>\n",
       "      <td>131.267767</td>\n",
       "    </tr>\n",
       "    <tr>\n",
       "      <th>1</th>\n",
       "      <td>250000.0</td>\n",
       "      <td>292292.894035</td>\n",
       "      <td>-42292.894035</td>\n",
       "      <td>16.917158</td>\n",
       "    </tr>\n",
       "    <tr>\n",
       "      <th>2</th>\n",
       "      <td>300000.0</td>\n",
       "      <td>428417.974961</td>\n",
       "      <td>-128417.974961</td>\n",
       "      <td>42.805992</td>\n",
       "    </tr>\n",
       "    <tr>\n",
       "      <th>3</th>\n",
       "      <td>630000.0</td>\n",
       "      <td>470596.111909</td>\n",
       "      <td>159403.888091</td>\n",
       "      <td>25.302204</td>\n",
       "    </tr>\n",
       "    <tr>\n",
       "      <th>4</th>\n",
       "      <td>300000.0</td>\n",
       "      <td>349401.710193</td>\n",
       "      <td>-49401.710193</td>\n",
       "      <td>16.467237</td>\n",
       "    </tr>\n",
       "    <tr>\n",
       "      <th>...</th>\n",
       "      <td>...</td>\n",
       "      <td>...</td>\n",
       "      <td>...</td>\n",
       "      <td>...</td>\n",
       "    </tr>\n",
       "    <tr>\n",
       "      <th>887</th>\n",
       "      <td>380000.0</td>\n",
       "      <td>353415.210113</td>\n",
       "      <td>26584.789887</td>\n",
       "      <td>6.995997</td>\n",
       "    </tr>\n",
       "    <tr>\n",
       "      <th>888</th>\n",
       "      <td>480000.0</td>\n",
       "      <td>459315.384720</td>\n",
       "      <td>20684.615280</td>\n",
       "      <td>4.309295</td>\n",
       "    </tr>\n",
       "    <tr>\n",
       "      <th>889</th>\n",
       "      <td>819999.0</td>\n",
       "      <td>619016.204609</td>\n",
       "      <td>200982.795391</td>\n",
       "      <td>24.510127</td>\n",
       "    </tr>\n",
       "    <tr>\n",
       "      <th>890</th>\n",
       "      <td>412000.0</td>\n",
       "      <td>471963.920268</td>\n",
       "      <td>-59963.920268</td>\n",
       "      <td>14.554350</td>\n",
       "    </tr>\n",
       "    <tr>\n",
       "      <th>891</th>\n",
       "      <td>250000.0</td>\n",
       "      <td>324575.085471</td>\n",
       "      <td>-74575.085471</td>\n",
       "      <td>29.830034</td>\n",
       "    </tr>\n",
       "  </tbody>\n",
       "</table>\n",
       "<p>892 rows × 4 columns</p>\n",
       "</div>"
      ],
      "text/plain": [
       "       Target     Prediction       Residual  Percent Error\n",
       "0     75000.0  173450.825481  -98450.825481     131.267767\n",
       "1    250000.0  292292.894035  -42292.894035      16.917158\n",
       "2    300000.0  428417.974961 -128417.974961      42.805992\n",
       "3    630000.0  470596.111909  159403.888091      25.302204\n",
       "4    300000.0  349401.710193  -49401.710193      16.467237\n",
       "..        ...            ...            ...            ...\n",
       "887  380000.0  353415.210113   26584.789887       6.995997\n",
       "888  480000.0  459315.384720   20684.615280       4.309295\n",
       "889  819999.0  619016.204609  200982.795391      24.510127\n",
       "890  412000.0  471963.920268  -59963.920268      14.554350\n",
       "891  250000.0  324575.085471  -74575.085471      29.830034\n",
       "\n",
       "[892 rows x 4 columns]"
      ]
     },
     "execution_count": 150,
     "metadata": {},
     "output_type": "execute_result"
    }
   ],
   "source": [
    "df_performance = pd.DataFrame()\n",
    "df_performance['Target'] = np.exp(y_test_re)\n",
    "df_performance['Prediction'] = np.exp(yhat_test1)\n",
    "df_performance['Residual'] = df_performance['Target'] - df_performance['Prediction']\n",
    "df_performance['Percent Error'] = np.absolute(df_performance['Residual'] / df_performance['Target'] * 100)\n",
    "df_performance"
   ]
  },
  {
   "cell_type": "code",
   "execution_count": 151,
   "id": "4c7841a1",
   "metadata": {},
   "outputs": [
    {
     "data": {
      "text/html": [
       "<div>\n",
       "<style scoped>\n",
       "    .dataframe tbody tr th:only-of-type {\n",
       "        vertical-align: middle;\n",
       "    }\n",
       "\n",
       "    .dataframe tbody tr th {\n",
       "        vertical-align: top;\n",
       "    }\n",
       "\n",
       "    .dataframe thead th {\n",
       "        text-align: right;\n",
       "    }\n",
       "</style>\n",
       "<table border=\"1\" class=\"dataframe\">\n",
       "  <thead>\n",
       "    <tr style=\"text-align: right;\">\n",
       "      <th></th>\n",
       "      <th>Target</th>\n",
       "      <th>Prediction</th>\n",
       "      <th>Residual</th>\n",
       "      <th>Percent Error</th>\n",
       "    </tr>\n",
       "  </thead>\n",
       "  <tbody>\n",
       "    <tr>\n",
       "      <th>count</th>\n",
       "      <td>892.000000</td>\n",
       "      <td>8.920000e+02</td>\n",
       "      <td>892.000000</td>\n",
       "      <td>892.000000</td>\n",
       "    </tr>\n",
       "    <tr>\n",
       "      <th>mean</th>\n",
       "      <td>436408.031390</td>\n",
       "      <td>4.314347e+05</td>\n",
       "      <td>4973.380876</td>\n",
       "      <td>16.650907</td>\n",
       "    </tr>\n",
       "    <tr>\n",
       "      <th>std</th>\n",
       "      <td>205379.828969</td>\n",
       "      <td>1.914252e+05</td>\n",
       "      <td>85049.045408</td>\n",
       "      <td>15.640711</td>\n",
       "    </tr>\n",
       "    <tr>\n",
       "      <th>min</th>\n",
       "      <td>75000.000000</td>\n",
       "      <td>9.126007e+04</td>\n",
       "      <td>-347245.369090</td>\n",
       "      <td>0.050095</td>\n",
       "    </tr>\n",
       "    <tr>\n",
       "      <th>25%</th>\n",
       "      <td>270000.000000</td>\n",
       "      <td>2.672031e+05</td>\n",
       "      <td>-47173.255884</td>\n",
       "      <td>5.807342</td>\n",
       "    </tr>\n",
       "    <tr>\n",
       "      <th>50%</th>\n",
       "      <td>400000.000000</td>\n",
       "      <td>4.057648e+05</td>\n",
       "      <td>1067.240762</td>\n",
       "      <td>13.095157</td>\n",
       "    </tr>\n",
       "    <tr>\n",
       "      <th>75%</th>\n",
       "      <td>600000.000000</td>\n",
       "      <td>5.800128e+05</td>\n",
       "      <td>52472.225899</td>\n",
       "      <td>22.751645</td>\n",
       "    </tr>\n",
       "    <tr>\n",
       "      <th>max</th>\n",
       "      <td>1000000.000000</td>\n",
       "      <td>1.021801e+06</td>\n",
       "      <td>373057.040995</td>\n",
       "      <td>142.765402</td>\n",
       "    </tr>\n",
       "  </tbody>\n",
       "</table>\n",
       "</div>"
      ],
      "text/plain": [
       "               Target    Prediction       Residual  Percent Error\n",
       "count      892.000000  8.920000e+02     892.000000     892.000000\n",
       "mean    436408.031390  4.314347e+05    4973.380876      16.650907\n",
       "std     205379.828969  1.914252e+05   85049.045408      15.640711\n",
       "min      75000.000000  9.126007e+04 -347245.369090       0.050095\n",
       "25%     270000.000000  2.672031e+05  -47173.255884       5.807342\n",
       "50%     400000.000000  4.057648e+05    1067.240762      13.095157\n",
       "75%     600000.000000  5.800128e+05   52472.225899      22.751645\n",
       "max    1000000.000000  1.021801e+06  373057.040995     142.765402"
      ]
     },
     "execution_count": 151,
     "metadata": {},
     "output_type": "execute_result"
    }
   ],
   "source": [
    "df_performance.describe()"
   ]
  },
  {
   "cell_type": "code",
   "execution_count": 152,
   "id": "c25068c5",
   "metadata": {},
   "outputs": [
    {
     "data": {
      "text/plain": [
       "0.8391994851316698"
      ]
     },
     "execution_count": 152,
     "metadata": {},
     "output_type": "execute_result"
    }
   ],
   "source": [
    "model1.score(X_test, y_test)"
   ]
  },
  {
   "cell_type": "code",
   "execution_count": 153,
   "id": "cad10d1c",
   "metadata": {},
   "outputs": [
    {
     "data": {
      "text/plain": [
       "0.8339823189482245"
      ]
     },
     "execution_count": 153,
     "metadata": {},
     "output_type": "execute_result"
    }
   ],
   "source": [
    "r2_t = model1.score(X_test, y_test)\n",
    "n_t = X_test.shape[0]\n",
    "p_t = X_test.shape[1]\n",
    "adjusted_r2_t = 1 - (1 - r2_t) * (n_t - 1) / (n_t - p_t - 1)\n",
    "adjusted_r2_t"
   ]
  }
 ],
 "metadata": {
  "kernelspec": {
   "display_name": "Python 3 (ipykernel)",
   "language": "python",
   "name": "python3"
  },
  "language_info": {
   "codemirror_mode": {
    "name": "ipython",
    "version": 3
   },
   "file_extension": ".py",
   "mimetype": "text/x-python",
   "name": "python",
   "nbconvert_exporter": "python",
   "pygments_lexer": "ipython3",
   "version": "3.10.5"
  }
 },
 "nbformat": 4,
 "nbformat_minor": 5
}
