{
 "cells": [
  {
   "cell_type": "code",
   "execution_count": 1,
   "id": "d8cdd0d4",
   "metadata": {},
   "outputs": [],
   "source": [
    "import pandas as pd\n",
    "import numpy as np\n",
    "import matplotlib.pyplot as plt\n",
    "import statsmodels.api as sm\n",
    "import seaborn as sns\n",
    "from sklearn.impute import SimpleImputer\n",
    "import math\n",
    "sns.set()"
   ]
  },
  {
   "cell_type": "code",
   "execution_count": 2,
   "id": "93b225c2",
   "metadata": {},
   "outputs": [
    {
     "data": {
      "text/html": [
       "<div>\n",
       "<style scoped>\n",
       "    .dataframe tbody tr th:only-of-type {\n",
       "        vertical-align: middle;\n",
       "    }\n",
       "\n",
       "    .dataframe tbody tr th {\n",
       "        vertical-align: top;\n",
       "    }\n",
       "\n",
       "    .dataframe thead th {\n",
       "        text-align: right;\n",
       "    }\n",
       "</style>\n",
       "<table border=\"1\" class=\"dataframe\">\n",
       "  <thead>\n",
       "    <tr style=\"text-align: right;\">\n",
       "      <th></th>\n",
       "      <th>name</th>\n",
       "      <th>year</th>\n",
       "      <th>selling_price</th>\n",
       "      <th>km_driven</th>\n",
       "      <th>fuel</th>\n",
       "      <th>seller_type</th>\n",
       "      <th>transmission</th>\n",
       "      <th>owner</th>\n",
       "      <th>mileage</th>\n",
       "      <th>engine</th>\n",
       "      <th>max_power</th>\n",
       "      <th>torque</th>\n",
       "      <th>seats</th>\n",
       "    </tr>\n",
       "  </thead>\n",
       "  <tbody>\n",
       "    <tr>\n",
       "      <th>0</th>\n",
       "      <td>Maruti Swift Dzire VDI</td>\n",
       "      <td>2014</td>\n",
       "      <td>450000</td>\n",
       "      <td>145500</td>\n",
       "      <td>Diesel</td>\n",
       "      <td>Individual</td>\n",
       "      <td>Manual</td>\n",
       "      <td>First Owner</td>\n",
       "      <td>23.4 kmpl</td>\n",
       "      <td>1248 CC</td>\n",
       "      <td>74 bhp</td>\n",
       "      <td>190Nm@ 2000rpm</td>\n",
       "      <td>5.0</td>\n",
       "    </tr>\n",
       "    <tr>\n",
       "      <th>1</th>\n",
       "      <td>Skoda Rapid 1.5 TDI Ambition</td>\n",
       "      <td>2014</td>\n",
       "      <td>370000</td>\n",
       "      <td>120000</td>\n",
       "      <td>Diesel</td>\n",
       "      <td>Individual</td>\n",
       "      <td>Manual</td>\n",
       "      <td>Second Owner</td>\n",
       "      <td>21.14 kmpl</td>\n",
       "      <td>1498 CC</td>\n",
       "      <td>103.52 bhp</td>\n",
       "      <td>250Nm@ 1500-2500rpm</td>\n",
       "      <td>5.0</td>\n",
       "    </tr>\n",
       "    <tr>\n",
       "      <th>2</th>\n",
       "      <td>Honda City 2017-2020 EXi</td>\n",
       "      <td>2006</td>\n",
       "      <td>158000</td>\n",
       "      <td>140000</td>\n",
       "      <td>Petrol</td>\n",
       "      <td>Individual</td>\n",
       "      <td>Manual</td>\n",
       "      <td>Third Owner</td>\n",
       "      <td>17.7 kmpl</td>\n",
       "      <td>1497 CC</td>\n",
       "      <td>78 bhp</td>\n",
       "      <td>12.7@ 2,700(kgm@ rpm)</td>\n",
       "      <td>5.0</td>\n",
       "    </tr>\n",
       "    <tr>\n",
       "      <th>3</th>\n",
       "      <td>Hyundai i20 Sportz Diesel</td>\n",
       "      <td>2010</td>\n",
       "      <td>225000</td>\n",
       "      <td>127000</td>\n",
       "      <td>Diesel</td>\n",
       "      <td>Individual</td>\n",
       "      <td>Manual</td>\n",
       "      <td>First Owner</td>\n",
       "      <td>23.0 kmpl</td>\n",
       "      <td>1396 CC</td>\n",
       "      <td>90 bhp</td>\n",
       "      <td>22.4 kgm at 1750-2750rpm</td>\n",
       "      <td>5.0</td>\n",
       "    </tr>\n",
       "    <tr>\n",
       "      <th>4</th>\n",
       "      <td>Maruti Swift VXI BSIII</td>\n",
       "      <td>2007</td>\n",
       "      <td>130000</td>\n",
       "      <td>120000</td>\n",
       "      <td>Petrol</td>\n",
       "      <td>Individual</td>\n",
       "      <td>Manual</td>\n",
       "      <td>First Owner</td>\n",
       "      <td>16.1 kmpl</td>\n",
       "      <td>1298 CC</td>\n",
       "      <td>88.2 bhp</td>\n",
       "      <td>11.5@ 4,500(kgm@ rpm)</td>\n",
       "      <td>5.0</td>\n",
       "    </tr>\n",
       "  </tbody>\n",
       "</table>\n",
       "</div>"
      ],
      "text/plain": [
       "                           name  year  selling_price  km_driven    fuel  \\\n",
       "0        Maruti Swift Dzire VDI  2014         450000     145500  Diesel   \n",
       "1  Skoda Rapid 1.5 TDI Ambition  2014         370000     120000  Diesel   \n",
       "2      Honda City 2017-2020 EXi  2006         158000     140000  Petrol   \n",
       "3     Hyundai i20 Sportz Diesel  2010         225000     127000  Diesel   \n",
       "4        Maruti Swift VXI BSIII  2007         130000     120000  Petrol   \n",
       "\n",
       "  seller_type transmission         owner     mileage   engine   max_power  \\\n",
       "0  Individual       Manual   First Owner   23.4 kmpl  1248 CC      74 bhp   \n",
       "1  Individual       Manual  Second Owner  21.14 kmpl  1498 CC  103.52 bhp   \n",
       "2  Individual       Manual   Third Owner   17.7 kmpl  1497 CC      78 bhp   \n",
       "3  Individual       Manual   First Owner   23.0 kmpl  1396 CC      90 bhp   \n",
       "4  Individual       Manual   First Owner   16.1 kmpl  1298 CC    88.2 bhp   \n",
       "\n",
       "                     torque  seats  \n",
       "0            190Nm@ 2000rpm    5.0  \n",
       "1       250Nm@ 1500-2500rpm    5.0  \n",
       "2     12.7@ 2,700(kgm@ rpm)    5.0  \n",
       "3  22.4 kgm at 1750-2750rpm    5.0  \n",
       "4     11.5@ 4,500(kgm@ rpm)    5.0  "
      ]
     },
     "execution_count": 2,
     "metadata": {},
     "output_type": "execute_result"
    }
   ],
   "source": [
    "df = pd.read_csv('Cardetails.csv')\n",
    "df.head()"
   ]
  },
  {
   "cell_type": "code",
   "execution_count": 3,
   "id": "b3162ba5",
   "metadata": {},
   "outputs": [
    {
     "data": {
      "text/plain": [
       "(8128, 13)"
      ]
     },
     "execution_count": 3,
     "metadata": {},
     "output_type": "execute_result"
    }
   ],
   "source": [
    "df.shape"
   ]
  },
  {
   "cell_type": "code",
   "execution_count": 4,
   "id": "000366a2",
   "metadata": {},
   "outputs": [
    {
     "name": "stdout",
     "output_type": "stream",
     "text": [
      "<class 'pandas.core.frame.DataFrame'>\n",
      "RangeIndex: 8128 entries, 0 to 8127\n",
      "Data columns (total 13 columns):\n",
      " #   Column         Non-Null Count  Dtype  \n",
      "---  ------         --------------  -----  \n",
      " 0   name           8128 non-null   object \n",
      " 1   year           8128 non-null   int64  \n",
      " 2   selling_price  8128 non-null   int64  \n",
      " 3   km_driven      8128 non-null   int64  \n",
      " 4   fuel           8128 non-null   object \n",
      " 5   seller_type    8128 non-null   object \n",
      " 6   transmission   8128 non-null   object \n",
      " 7   owner          8128 non-null   object \n",
      " 8   mileage        7907 non-null   object \n",
      " 9   engine         7907 non-null   object \n",
      " 10  max_power      7913 non-null   object \n",
      " 11  torque         7906 non-null   object \n",
      " 12  seats          7907 non-null   float64\n",
      "dtypes: float64(1), int64(3), object(9)\n",
      "memory usage: 825.6+ KB\n"
     ]
    }
   ],
   "source": [
    "df.info()"
   ]
  },
  {
   "cell_type": "code",
   "execution_count": 5,
   "id": "23673884",
   "metadata": {},
   "outputs": [
    {
     "data": {
      "text/plain": [
       "name               0\n",
       "year               0\n",
       "selling_price      0\n",
       "km_driven          0\n",
       "fuel               0\n",
       "seller_type        0\n",
       "transmission       0\n",
       "owner              0\n",
       "mileage          221\n",
       "engine           221\n",
       "max_power        215\n",
       "torque           222\n",
       "seats            221\n",
       "dtype: int64"
      ]
     },
     "execution_count": 5,
     "metadata": {},
     "output_type": "execute_result"
    }
   ],
   "source": [
    "df.apply(pd.isnull).sum()"
   ]
  },
  {
   "cell_type": "code",
   "execution_count": 6,
   "id": "61f8bde2",
   "metadata": {},
   "outputs": [],
   "source": [
    "df['mileage'] = df['mileage'].str.replace(' kmpl', '')"
   ]
  },
  {
   "cell_type": "code",
   "execution_count": 7,
   "id": "a406f5ea",
   "metadata": {},
   "outputs": [],
   "source": [
    "df['mileage'] = df['mileage'].str.replace(' km/kg', '')"
   ]
  },
  {
   "cell_type": "code",
   "execution_count": 8,
   "id": "94dc008f",
   "metadata": {},
   "outputs": [],
   "source": [
    "df['mileage'] = pd.to_numeric(df['mileage'])"
   ]
  },
  {
   "cell_type": "code",
   "execution_count": 9,
   "id": "87a5a7bb",
   "metadata": {},
   "outputs": [],
   "source": [
    "df['engine'] = df['engine'].str.replace(' CC', '')"
   ]
  },
  {
   "cell_type": "code",
   "execution_count": 10,
   "id": "e601cd60",
   "metadata": {},
   "outputs": [],
   "source": [
    "df['engine'] = pd.to_numeric(df['engine'])"
   ]
  },
  {
   "cell_type": "code",
   "execution_count": 11,
   "id": "6444566c",
   "metadata": {},
   "outputs": [],
   "source": [
    "df['max_power'] = df['max_power'].str.replace(' bhp', '')"
   ]
  },
  {
   "cell_type": "code",
   "execution_count": 12,
   "id": "e0859fc2",
   "metadata": {},
   "outputs": [],
   "source": [
    "df['max_power'] = pd.to_numeric(df['max_power'])"
   ]
  },
  {
   "cell_type": "code",
   "execution_count": 13,
   "id": "202a75c5",
   "metadata": {},
   "outputs": [
    {
     "name": "stdout",
     "output_type": "stream",
     "text": [
      "<class 'pandas.core.frame.DataFrame'>\n",
      "RangeIndex: 8128 entries, 0 to 8127\n",
      "Data columns (total 13 columns):\n",
      " #   Column         Non-Null Count  Dtype  \n",
      "---  ------         --------------  -----  \n",
      " 0   name           8128 non-null   object \n",
      " 1   year           8128 non-null   int64  \n",
      " 2   selling_price  8128 non-null   int64  \n",
      " 3   km_driven      8128 non-null   int64  \n",
      " 4   fuel           8128 non-null   object \n",
      " 5   seller_type    8128 non-null   object \n",
      " 6   transmission   8128 non-null   object \n",
      " 7   owner          8128 non-null   object \n",
      " 8   mileage        7907 non-null   float64\n",
      " 9   engine         7907 non-null   float64\n",
      " 10  max_power      7912 non-null   float64\n",
      " 11  torque         7906 non-null   object \n",
      " 12  seats          7907 non-null   float64\n",
      "dtypes: float64(4), int64(3), object(6)\n",
      "memory usage: 825.6+ KB\n"
     ]
    }
   ],
   "source": [
    "df.info()"
   ]
  },
  {
   "cell_type": "code",
   "execution_count": 14,
   "id": "099eb6e3",
   "metadata": {},
   "outputs": [],
   "source": [
    "y = df['selling_price']"
   ]
  },
  {
   "cell_type": "code",
   "execution_count": 15,
   "id": "cd7fbdaf",
   "metadata": {},
   "outputs": [],
   "source": [
    "x1 = df['year']\n",
    "x2 = df['km_driven']\n",
    "x3 = df['mileage']\n",
    "x4 = df['engine']\n",
    "x5 = df['max_power']\n",
    "x6 = df['seats']"
   ]
  },
  {
   "cell_type": "markdown",
   "id": "ae0f3acd",
   "metadata": {},
   "source": [
    "### The first condition in creating a regression model is that all the features we use for the regression model have a linear relationship with the dependent variable (y). To check this issue, we draw a scatter plot for each attribute with the dependent variable."
   ]
  },
  {
   "cell_type": "code",
   "execution_count": 16,
   "id": "1b29b143",
   "metadata": {},
   "outputs": [
    {
     "data": {
      "image/png": "[encoded data removed]",
      "text/plain": [
       "<Figure size 648x504 with 1 Axes>"
      ]
     },
     "metadata": {
      "needs_background": "light"
     },
     "output_type": "display_data"
    }
   ],
   "source": [
    "plt.figure(figsize = (9, 7))\n",
    "plt.scatter(x1, y)\n",
    "plt.xlabel('year', fontsize = 15)\n",
    "plt.ylabel('selling_price', fontsize = 15)\n",
    "plt.show()"
   ]
  },
  {
   "cell_type": "code",
   "execution_count": 17,
   "id": "8b667ed8",
   "metadata": {},
   "outputs": [
    {
     "data": {
      "image/png": "[encoded data removed]",
      "text/plain": [
       "<Figure size 648x504 with 1 Axes>"
      ]
     },
     "metadata": {
      "needs_background": "light"
     },
     "output_type": "display_data"
    }
   ],
   "source": [
    "plt.figure(figsize = (9, 7))\n",
    "plt.scatter(x2, y)\n",
    "plt.xlabel('km_driven', fontsize = 15)\n",
    "plt.ylabel('selling_price', fontsize = 15)\n",
    "plt.show()"
   ]
  },
  {
   "cell_type": "code",
   "execution_count": 18,
   "id": "042954f1",
   "metadata": {},
   "outputs": [
    {
     "data": {
      "image/png": "[encoded data removed]",
      "text/plain": [
       "<Figure size 648x504 with 1 Axes>"
      ]
     },
     "metadata": {
      "needs_background": "light"
     },
     "output_type": "display_data"
    }
   ],
   "source": [
    "plt.figure(figsize = (9, 7))\n",
    "plt.scatter(x3, y)\n",
    "plt.xlabel('mileage', fontsize = 15)\n",
    "plt.ylabel('selling_price', fontsize = 15)\n",
    "plt.show()"
   ]
  },
  {
   "cell_type": "code",
   "execution_count": 19,
   "id": "009e170d",
   "metadata": {},
   "outputs": [
    {
     "data": {
      "image/png": "[encoded data removed]",
      "text/plain": [
       "<Figure size 648x504 with 1 Axes>"
      ]
     },
     "metadata": {
      "needs_background": "light"
     },
     "output_type": "display_data"
    }
   ],
   "source": [
    "plt.figure(figsize = (9, 7))\n",
    "plt.scatter(x4, y)\n",
    "plt.xlabel('engine', fontsize = 15)\n",
    "plt.ylabel('selling_price', fontsize = 15)\n",
    "plt.show()"
   ]
  },
  {
   "cell_type": "code",
   "execution_count": 20,
   "id": "e8c21738",
   "metadata": {},
   "outputs": [
    {
     "data": {
      "image/png": "[encoded data removed]",
      "text/plain": [
       "<Figure size 648x504 with 1 Axes>"
      ]
     },
     "metadata": {
      "needs_background": "light"
     },
     "output_type": "display_data"
    }
   ],
   "source": [
    "plt.figure(figsize = (9, 7))\n",
    "plt.scatter(x5, y)\n",
    "plt.xlabel('year', fontsize = 15)\n",
    "plt.ylabel('selling_price', fontsize = 15)\n",
    "plt.show()"
   ]
  },
  {
   "cell_type": "code",
   "execution_count": 21,
   "id": "127f1133",
   "metadata": {},
   "outputs": [
    {
     "data": {
      "image/png": "[encoded data removed]",
      "text/plain": [
       "<Figure size 648x504 with 1 Axes>"
      ]
     },
     "metadata": {
      "needs_background": "light"
     },
     "output_type": "display_data"
    }
   ],
   "source": [
    "plt.figure(figsize = (9, 7))\n",
    "plt.scatter(x6, y)\n",
    "plt.xlabel('seats', fontsize = 15)\n",
    "plt.ylabel('selling_price', fontsize = 15)\n",
    "plt.show()"
   ]
  },
  {
   "cell_type": "markdown",
   "id": "9de131b0",
   "metadata": {},
   "source": [
    "## As we can see, only three independent variables x1, x4 and x5 have a linear relationship with the independent variable (y)."
   ]
  },
  {
   "cell_type": "markdown",
   "id": "7ac69422",
   "metadata": {},
   "source": [
    "### The second condition in creating a good regression model is that there are no features that cause a bad regression model. This issue can be understood from the value of the coefficient that is calculated for each feature. For example, the characteristic coefficient x5 should be positive, because we know that this characteristic has a positive relationship with the dependent variable (y), that is, the higher the engine power of a car, the higher its price. If the coefficient of this characteristic becomes negative, it means that the model has recognized that this characteristic has an inverse relationship with the dependent variable (y), which is not correct and a bad model is obtained."
   ]
  },
  {
   "cell_type": "code",
   "execution_count": 22,
   "id": "c69da14e",
   "metadata": {},
   "outputs": [],
   "source": [
    "x = df[['year', 'engine', 'max_power']]"
   ]
  },
  {
   "cell_type": "code",
   "execution_count": 23,
   "id": "4b8ca734",
   "metadata": {},
   "outputs": [
    {
     "data": {
      "text/html": [
       "<div>\n",
       "<style scoped>\n",
       "    .dataframe tbody tr th:only-of-type {\n",
       "        vertical-align: middle;\n",
       "    }\n",
       "\n",
       "    .dataframe tbody tr th {\n",
       "        vertical-align: top;\n",
       "    }\n",
       "\n",
       "    .dataframe thead th {\n",
       "        text-align: right;\n",
       "    }\n",
       "</style>\n",
       "<table border=\"1\" class=\"dataframe\">\n",
       "  <thead>\n",
       "    <tr style=\"text-align: right;\">\n",
       "      <th></th>\n",
       "      <th>year</th>\n",
       "      <th>engine</th>\n",
       "      <th>max_power</th>\n",
       "    </tr>\n",
       "  </thead>\n",
       "  <tbody>\n",
       "    <tr>\n",
       "      <th>0</th>\n",
       "      <td>2014</td>\n",
       "      <td>1248.0</td>\n",
       "      <td>74.00</td>\n",
       "    </tr>\n",
       "    <tr>\n",
       "      <th>1</th>\n",
       "      <td>2014</td>\n",
       "      <td>1498.0</td>\n",
       "      <td>103.52</td>\n",
       "    </tr>\n",
       "    <tr>\n",
       "      <th>2</th>\n",
       "      <td>2006</td>\n",
       "      <td>1497.0</td>\n",
       "      <td>78.00</td>\n",
       "    </tr>\n",
       "    <tr>\n",
       "      <th>3</th>\n",
       "      <td>2010</td>\n",
       "      <td>1396.0</td>\n",
       "      <td>90.00</td>\n",
       "    </tr>\n",
       "    <tr>\n",
       "      <th>4</th>\n",
       "      <td>2007</td>\n",
       "      <td>1298.0</td>\n",
       "      <td>88.20</td>\n",
       "    </tr>\n",
       "  </tbody>\n",
       "</table>\n",
       "</div>"
      ],
      "text/plain": [
       "   year  engine  max_power\n",
       "0  2014  1248.0      74.00\n",
       "1  2014  1498.0     103.52\n",
       "2  2006  1497.0      78.00\n",
       "3  2010  1396.0      90.00\n",
       "4  2007  1298.0      88.20"
      ]
     },
     "execution_count": 23,
     "metadata": {},
     "output_type": "execute_result"
    }
   ],
   "source": [
    "x.head()"
   ]
  },
  {
   "cell_type": "code",
   "execution_count": 24,
   "id": "21edc58b",
   "metadata": {},
   "outputs": [
    {
     "data": {
      "text/plain": [
       "year           0\n",
       "engine       221\n",
       "max_power    216\n",
       "dtype: int64"
      ]
     },
     "execution_count": 24,
     "metadata": {},
     "output_type": "execute_result"
    }
   ],
   "source": [
    "x.isnull().sum()"
   ]
  },
  {
   "cell_type": "code",
   "execution_count": 25,
   "id": "51c34e68",
   "metadata": {},
   "outputs": [],
   "source": [
    "imputer = SimpleImputer(missing_values = np.nan, strategy = 'median')"
   ]
  },
  {
   "cell_type": "code",
   "execution_count": 26,
   "id": "d71f8d34",
   "metadata": {},
   "outputs": [],
   "source": [
    "x = imputer.fit_transform(x)"
   ]
  },
  {
   "cell_type": "code",
   "execution_count": 27,
   "id": "5d2d9156",
   "metadata": {},
   "outputs": [
    {
     "data": {
      "text/plain": [
       "array([[2014.  , 1248.  ,   74.  ],\n",
       "       [2014.  , 1498.  ,  103.52],\n",
       "       [2006.  , 1497.  ,   78.  ],\n",
       "       ...,\n",
       "       [2009.  , 1248.  ,   73.9 ],\n",
       "       [2013.  , 1396.  ,   70.  ],\n",
       "       [2013.  , 1396.  ,   70.  ]])"
      ]
     },
     "execution_count": 27,
     "metadata": {},
     "output_type": "execute_result"
    }
   ],
   "source": [
    "x"
   ]
  },
  {
   "cell_type": "code",
   "execution_count": 28,
   "id": "432396eb",
   "metadata": {},
   "outputs": [],
   "source": [
    "x = pd.DataFrame(data = x, columns = ['year', 'engine', 'max_power'])"
   ]
  },
  {
   "cell_type": "code",
   "execution_count": 29,
   "id": "1e8c45ec",
   "metadata": {},
   "outputs": [
    {
     "data": {
      "text/html": [
       "<div>\n",
       "<style scoped>\n",
       "    .dataframe tbody tr th:only-of-type {\n",
       "        vertical-align: middle;\n",
       "    }\n",
       "\n",
       "    .dataframe tbody tr th {\n",
       "        vertical-align: top;\n",
       "    }\n",
       "\n",
       "    .dataframe thead th {\n",
       "        text-align: right;\n",
       "    }\n",
       "</style>\n",
       "<table border=\"1\" class=\"dataframe\">\n",
       "  <thead>\n",
       "    <tr style=\"text-align: right;\">\n",
       "      <th></th>\n",
       "      <th>year</th>\n",
       "      <th>engine</th>\n",
       "      <th>max_power</th>\n",
       "    </tr>\n",
       "  </thead>\n",
       "  <tbody>\n",
       "    <tr>\n",
       "      <th>0</th>\n",
       "      <td>2014.0</td>\n",
       "      <td>1248.0</td>\n",
       "      <td>74.00</td>\n",
       "    </tr>\n",
       "    <tr>\n",
       "      <th>1</th>\n",
       "      <td>2014.0</td>\n",
       "      <td>1498.0</td>\n",
       "      <td>103.52</td>\n",
       "    </tr>\n",
       "    <tr>\n",
       "      <th>2</th>\n",
       "      <td>2006.0</td>\n",
       "      <td>1497.0</td>\n",
       "      <td>78.00</td>\n",
       "    </tr>\n",
       "    <tr>\n",
       "      <th>3</th>\n",
       "      <td>2010.0</td>\n",
       "      <td>1396.0</td>\n",
       "      <td>90.00</td>\n",
       "    </tr>\n",
       "    <tr>\n",
       "      <th>4</th>\n",
       "      <td>2007.0</td>\n",
       "      <td>1298.0</td>\n",
       "      <td>88.20</td>\n",
       "    </tr>\n",
       "  </tbody>\n",
       "</table>\n",
       "</div>"
      ],
      "text/plain": [
       "     year  engine  max_power\n",
       "0  2014.0  1248.0      74.00\n",
       "1  2014.0  1498.0     103.52\n",
       "2  2006.0  1497.0      78.00\n",
       "3  2010.0  1396.0      90.00\n",
       "4  2007.0  1298.0      88.20"
      ]
     },
     "execution_count": 29,
     "metadata": {},
     "output_type": "execute_result"
    }
   ],
   "source": [
    "x.head()"
   ]
  },
  {
   "cell_type": "code",
   "execution_count": 30,
   "id": "65c87f2f",
   "metadata": {},
   "outputs": [
    {
     "data": {
      "text/plain": [
       "year         0\n",
       "engine       0\n",
       "max_power    0\n",
       "dtype: int64"
      ]
     },
     "execution_count": 30,
     "metadata": {},
     "output_type": "execute_result"
    }
   ],
   "source": [
    "x.apply(pd.isnull).sum()"
   ]
  },
  {
   "cell_type": "code",
   "execution_count": 31,
   "id": "207d03ff",
   "metadata": {},
   "outputs": [
    {
     "data": {
      "text/html": [
       "<table class=\"simpletable\">\n",
       "<caption>OLS Regression Results</caption>\n",
       "<tr>\n",
       "  <th>Dep. Variable:</th>      <td>selling_price</td>  <th>  R-squared:         </th>  <td>   0.626</td>  \n",
       "</tr>\n",
       "<tr>\n",
       "  <th>Model:</th>                   <td>OLS</td>       <th>  Adj. R-squared:    </th>  <td>   0.626</td>  \n",
       "</tr>\n",
       "<tr>\n",
       "  <th>Method:</th>             <td>Least Squares</td>  <th>  F-statistic:       </th>  <td>   4530.</td>  \n",
       "</tr>\n",
       "<tr>\n",
       "  <th>Date:</th>             <td>Tue, 10 Sep 2024</td> <th>  Prob (F-statistic):</th>   <td>  0.00</td>   \n",
       "</tr>\n",
       "<tr>\n",
       "  <th>Time:</th>                 <td>07:52:58</td>     <th>  Log-Likelihood:    </th> <td>-1.1808e+05</td>\n",
       "</tr>\n",
       "<tr>\n",
       "  <th>No. Observations:</th>      <td>  8128</td>      <th>  AIC:               </th>  <td>2.362e+05</td> \n",
       "</tr>\n",
       "<tr>\n",
       "  <th>Df Residuals:</th>          <td>  8124</td>      <th>  BIC:               </th>  <td>2.362e+05</td> \n",
       "</tr>\n",
       "<tr>\n",
       "  <th>Df Model:</th>              <td>     3</td>      <th>                     </th>      <td> </td>     \n",
       "</tr>\n",
       "<tr>\n",
       "  <th>Covariance Type:</th>      <td>nonrobust</td>    <th>                     </th>      <td> </td>     \n",
       "</tr>\n",
       "</table>\n",
       "<table class=\"simpletable\">\n",
       "<tr>\n",
       "      <td></td>         <th>coef</th>     <th>std err</th>      <th>t</th>      <th>P>|t|</th>  <th>[0.025</th>    <th>0.975]</th>  \n",
       "</tr>\n",
       "<tr>\n",
       "  <th>const</th>     <td>-1.009e+08</td> <td> 2.84e+06</td> <td>  -35.552</td> <td> 0.000</td> <td>-1.06e+08</td> <td>-9.54e+07</td>\n",
       "</tr>\n",
       "<tr>\n",
       "  <th>year</th>      <td> 4.975e+04</td> <td> 1410.606</td> <td>   35.272</td> <td> 0.000</td> <td>  4.7e+04</td> <td> 5.25e+04</td>\n",
       "</tr>\n",
       "<tr>\n",
       "  <th>engine</th>    <td> -119.8707</td> <td>   15.703</td> <td>   -7.634</td> <td> 0.000</td> <td> -150.652</td> <td>  -89.089</td>\n",
       "</tr>\n",
       "<tr>\n",
       "  <th>max_power</th> <td> 1.696e+04</td> <td>  226.796</td> <td>   74.762</td> <td> 0.000</td> <td> 1.65e+04</td> <td> 1.74e+04</td>\n",
       "</tr>\n",
       "</table>\n",
       "<table class=\"simpletable\">\n",
       "<tr>\n",
       "  <th>Omnibus:</th>       <td>4908.807</td> <th>  Durbin-Watson:     </th> <td>   1.551</td> \n",
       "</tr>\n",
       "<tr>\n",
       "  <th>Prob(Omnibus):</th>  <td> 0.000</td>  <th>  Jarque-Bera (JB):  </th> <td>81273.792</td>\n",
       "</tr>\n",
       "<tr>\n",
       "  <th>Skew:</th>           <td> 2.594</td>  <th>  Prob(JB):          </th> <td>    0.00</td> \n",
       "</tr>\n",
       "<tr>\n",
       "  <th>Kurtosis:</th>       <td>17.597</td>  <th>  Cond. No.          </th> <td>1.30e+06</td> \n",
       "</tr>\n",
       "</table><br/><br/>Notes:<br/>[1] Standard Errors assume that the covariance matrix of the errors is correctly specified.<br/>[2] The condition number is large, 1.3e+06. This might indicate that there are<br/>strong multicollinearity or other numerical problems."
      ],
      "text/latex": [
       "\\begin{center}\n",
       "\\begin{tabular}{lclc}\n",
       "\\toprule\n",
       "\\textbf{Dep. Variable:}    &  selling\\_price  & \\textbf{  R-squared:         } &      0.626   \\\\\n",
       "\\textbf{Model:}            &       OLS        & \\textbf{  Adj. R-squared:    } &      0.626   \\\\\n",
       "\\textbf{Method:}           &  Least Squares   & \\textbf{  F-statistic:       } &      4530.   \\\\\n",
       "\\textbf{Date:}             & Tue, 10 Sep 2024 & \\textbf{  Prob (F-statistic):} &      0.00    \\\\\n",
       "\\textbf{Time:}             &     07:52:58     & \\textbf{  Log-Likelihood:    } & -1.1808e+05  \\\\\n",
       "\\textbf{No. Observations:} &        8128      & \\textbf{  AIC:               } &  2.362e+05   \\\\\n",
       "\\textbf{Df Residuals:}     &        8124      & \\textbf{  BIC:               } &  2.362e+05   \\\\\n",
       "\\textbf{Df Model:}         &           3      & \\textbf{                     } &              \\\\\n",
       "\\textbf{Covariance Type:}  &    nonrobust     & \\textbf{                     } &              \\\\\n",
       "\\bottomrule\n",
       "\\end{tabular}\n",
       "\\begin{tabular}{lcccccc}\n",
       "                    & \\textbf{coef} & \\textbf{std err} & \\textbf{t} & \\textbf{P$> |$t$|$} & \\textbf{[0.025} & \\textbf{0.975]}  \\\\\n",
       "\\midrule\n",
       "\\textbf{const}      &   -1.009e+08  &     2.84e+06     &   -35.552  &         0.000        &    -1.06e+08    &    -9.54e+07     \\\\\n",
       "\\textbf{year}       &    4.975e+04  &     1410.606     &    35.272  &         0.000        &      4.7e+04    &     5.25e+04     \\\\\n",
       "\\textbf{engine}     &    -119.8707  &       15.703     &    -7.634  &         0.000        &     -150.652    &      -89.089     \\\\\n",
       "\\textbf{max\\_power} &    1.696e+04  &      226.796     &    74.762  &         0.000        &     1.65e+04    &     1.74e+04     \\\\\n",
       "\\bottomrule\n",
       "\\end{tabular}\n",
       "\\begin{tabular}{lclc}\n",
       "\\textbf{Omnibus:}       & 4908.807 & \\textbf{  Durbin-Watson:     } &     1.551  \\\\\n",
       "\\textbf{Prob(Omnibus):} &   0.000  & \\textbf{  Jarque-Bera (JB):  } & 81273.792  \\\\\n",
       "\\textbf{Skew:}          &   2.594  & \\textbf{  Prob(JB):          } &      0.00  \\\\\n",
       "\\textbf{Kurtosis:}      &  17.597  & \\textbf{  Cond. No.          } &  1.30e+06  \\\\\n",
       "\\bottomrule\n",
       "\\end{tabular}\n",
       "%\\caption{OLS Regression Results}\n",
       "\\end{center}\n",
       "\n",
       "Notes: \\newline\n",
       " [1] Standard Errors assume that the covariance matrix of the errors is correctly specified. \\newline\n",
       " [2] The condition number is large, 1.3e+06. This might indicate that there are \\newline\n",
       " strong multicollinearity or other numerical problems."
      ],
      "text/plain": [
       "<class 'statsmodels.iolib.summary.Summary'>\n",
       "\"\"\"\n",
       "                            OLS Regression Results                            \n",
       "==============================================================================\n",
       "Dep. Variable:          selling_price   R-squared:                       0.626\n",
       "Model:                            OLS   Adj. R-squared:                  0.626\n",
       "Method:                 Least Squares   F-statistic:                     4530.\n",
       "Date:                Tue, 10 Sep 2024   Prob (F-statistic):               0.00\n",
       "Time:                        07:52:58   Log-Likelihood:            -1.1808e+05\n",
       "No. Observations:                8128   AIC:                         2.362e+05\n",
       "Df Residuals:                    8124   BIC:                         2.362e+05\n",
       "Df Model:                           3                                         \n",
       "Covariance Type:            nonrobust                                         \n",
       "==============================================================================\n",
       "                 coef    std err          t      P>|t|      [0.025      0.975]\n",
       "------------------------------------------------------------------------------\n",
       "const      -1.009e+08   2.84e+06    -35.552      0.000   -1.06e+08   -9.54e+07\n",
       "year        4.975e+04   1410.606     35.272      0.000     4.7e+04    5.25e+04\n",
       "engine      -119.8707     15.703     -7.634      0.000    -150.652     -89.089\n",
       "max_power   1.696e+04    226.796     74.762      0.000    1.65e+04    1.74e+04\n",
       "==============================================================================\n",
       "Omnibus:                     4908.807   Durbin-Watson:                   1.551\n",
       "Prob(Omnibus):                  0.000   Jarque-Bera (JB):            81273.792\n",
       "Skew:                           2.594   Prob(JB):                         0.00\n",
       "Kurtosis:                      17.597   Cond. No.                     1.30e+06\n",
       "==============================================================================\n",
       "\n",
       "Notes:\n",
       "[1] Standard Errors assume that the covariance matrix of the errors is correctly specified.\n",
       "[2] The condition number is large, 1.3e+06. This might indicate that there are\n",
       "strong multicollinearity or other numerical problems.\n",
       "\"\"\""
      ]
     },
     "execution_count": 31,
     "metadata": {},
     "output_type": "execute_result"
    }
   ],
   "source": [
    "x1 = sm.add_constant(x)\n",
    "model = sm.OLS(y, x1).fit()\n",
    "model.summary()"
   ]
  },
  {
   "cell_type": "markdown",
   "id": "0ce7f6bb",
   "metadata": {},
   "source": [
    "### As can be seen from the coefficient of the independent variable x4, this variable creates a bad regression model."
   ]
  },
  {
   "cell_type": "markdown",
   "id": "3f9d005c",
   "metadata": {},
   "source": [
    "## In the scatter diagram of x1 and x5 features, we can see that the data is hetroscedasticity. To create a suitable regression model, the data must be homoscedasticity. For this, we must take the logarithm of the available variables."
   ]
  },
  {
   "cell_type": "code",
   "execution_count": 32,
   "id": "90282501",
   "metadata": {},
   "outputs": [],
   "source": [
    "x_n = x[['year', 'max_power']]"
   ]
  },
  {
   "cell_type": "code",
   "execution_count": 33,
   "id": "6e059d69",
   "metadata": {},
   "outputs": [
    {
     "data": {
      "text/html": [
       "<table class=\"simpletable\">\n",
       "<caption>OLS Regression Results</caption>\n",
       "<tr>\n",
       "  <th>Dep. Variable:</th>      <td>selling_price</td>  <th>  R-squared:         </th>  <td>   0.623</td>  \n",
       "</tr>\n",
       "<tr>\n",
       "  <th>Model:</th>                   <td>OLS</td>       <th>  Adj. R-squared:    </th>  <td>   0.623</td>  \n",
       "</tr>\n",
       "<tr>\n",
       "  <th>Method:</th>             <td>Least Squares</td>  <th>  F-statistic:       </th>  <td>   6718.</td>  \n",
       "</tr>\n",
       "<tr>\n",
       "  <th>Date:</th>             <td>Tue, 10 Sep 2024</td> <th>  Prob (F-statistic):</th>   <td>  0.00</td>   \n",
       "</tr>\n",
       "<tr>\n",
       "  <th>Time:</th>                 <td>07:52:58</td>     <th>  Log-Likelihood:    </th> <td>-1.1811e+05</td>\n",
       "</tr>\n",
       "<tr>\n",
       "  <th>No. Observations:</th>      <td>  8128</td>      <th>  AIC:               </th>  <td>2.362e+05</td> \n",
       "</tr>\n",
       "<tr>\n",
       "  <th>Df Residuals:</th>          <td>  8125</td>      <th>  BIC:               </th>  <td>2.362e+05</td> \n",
       "</tr>\n",
       "<tr>\n",
       "  <th>Df Model:</th>              <td>     2</td>      <th>                     </th>      <td> </td>     \n",
       "</tr>\n",
       "<tr>\n",
       "  <th>Covariance Type:</th>      <td>nonrobust</td>    <th>                     </th>      <td> </td>     \n",
       "</tr>\n",
       "</table>\n",
       "<table class=\"simpletable\">\n",
       "<tr>\n",
       "      <td></td>         <th>coef</th>     <th>std err</th>      <th>t</th>      <th>P>|t|</th>  <th>[0.025</th>    <th>0.975]</th>  \n",
       "</tr>\n",
       "<tr>\n",
       "  <th>const</th>     <td>-1.048e+08</td> <td>  2.8e+06</td> <td>  -37.401</td> <td> 0.000</td> <td> -1.1e+08</td> <td>-9.93e+07</td>\n",
       "</tr>\n",
       "<tr>\n",
       "  <th>year</th>      <td> 5.166e+04</td> <td> 1393.330</td> <td>   37.074</td> <td> 0.000</td> <td> 4.89e+04</td> <td> 5.44e+04</td>\n",
       "</tr>\n",
       "<tr>\n",
       "  <th>max_power</th> <td> 1.572e+04</td> <td>  159.286</td> <td>   98.684</td> <td> 0.000</td> <td> 1.54e+04</td> <td>  1.6e+04</td>\n",
       "</tr>\n",
       "</table>\n",
       "<table class=\"simpletable\">\n",
       "<tr>\n",
       "  <th>Omnibus:</th>       <td>5087.257</td> <th>  Durbin-Watson:     </th> <td>   1.542</td> \n",
       "</tr>\n",
       "<tr>\n",
       "  <th>Prob(Omnibus):</th>  <td> 0.000</td>  <th>  Jarque-Bera (JB):  </th> <td>90586.875</td>\n",
       "</tr>\n",
       "<tr>\n",
       "  <th>Skew:</th>           <td> 2.701</td>  <th>  Prob(JB):          </th> <td>    0.00</td> \n",
       "</tr>\n",
       "<tr>\n",
       "  <th>Kurtosis:</th>       <td>18.437</td>  <th>  Cond. No.          </th> <td>1.03e+06</td> \n",
       "</tr>\n",
       "</table><br/><br/>Notes:<br/>[1] Standard Errors assume that the covariance matrix of the errors is correctly specified.<br/>[2] The condition number is large, 1.03e+06. This might indicate that there are<br/>strong multicollinearity or other numerical problems."
      ],
      "text/latex": [
       "\\begin{center}\n",
       "\\begin{tabular}{lclc}\n",
       "\\toprule\n",
       "\\textbf{Dep. Variable:}    &  selling\\_price  & \\textbf{  R-squared:         } &      0.623   \\\\\n",
       "\\textbf{Model:}            &       OLS        & \\textbf{  Adj. R-squared:    } &      0.623   \\\\\n",
       "\\textbf{Method:}           &  Least Squares   & \\textbf{  F-statistic:       } &      6718.   \\\\\n",
       "\\textbf{Date:}             & Tue, 10 Sep 2024 & \\textbf{  Prob (F-statistic):} &      0.00    \\\\\n",
       "\\textbf{Time:}             &     07:52:58     & \\textbf{  Log-Likelihood:    } & -1.1811e+05  \\\\\n",
       "\\textbf{No. Observations:} &        8128      & \\textbf{  AIC:               } &  2.362e+05   \\\\\n",
       "\\textbf{Df Residuals:}     &        8125      & \\textbf{  BIC:               } &  2.362e+05   \\\\\n",
       "\\textbf{Df Model:}         &           2      & \\textbf{                     } &              \\\\\n",
       "\\textbf{Covariance Type:}  &    nonrobust     & \\textbf{                     } &              \\\\\n",
       "\\bottomrule\n",
       "\\end{tabular}\n",
       "\\begin{tabular}{lcccccc}\n",
       "                    & \\textbf{coef} & \\textbf{std err} & \\textbf{t} & \\textbf{P$> |$t$|$} & \\textbf{[0.025} & \\textbf{0.975]}  \\\\\n",
       "\\midrule\n",
       "\\textbf{const}      &   -1.048e+08  &      2.8e+06     &   -37.401  &         0.000        &     -1.1e+08    &    -9.93e+07     \\\\\n",
       "\\textbf{year}       &    5.166e+04  &     1393.330     &    37.074  &         0.000        &     4.89e+04    &     5.44e+04     \\\\\n",
       "\\textbf{max\\_power} &    1.572e+04  &      159.286     &    98.684  &         0.000        &     1.54e+04    &      1.6e+04     \\\\\n",
       "\\bottomrule\n",
       "\\end{tabular}\n",
       "\\begin{tabular}{lclc}\n",
       "\\textbf{Omnibus:}       & 5087.257 & \\textbf{  Durbin-Watson:     } &     1.542  \\\\\n",
       "\\textbf{Prob(Omnibus):} &   0.000  & \\textbf{  Jarque-Bera (JB):  } & 90586.875  \\\\\n",
       "\\textbf{Skew:}          &   2.701  & \\textbf{  Prob(JB):          } &      0.00  \\\\\n",
       "\\textbf{Kurtosis:}      &  18.437  & \\textbf{  Cond. No.          } &  1.03e+06  \\\\\n",
       "\\bottomrule\n",
       "\\end{tabular}\n",
       "%\\caption{OLS Regression Results}\n",
       "\\end{center}\n",
       "\n",
       "Notes: \\newline\n",
       " [1] Standard Errors assume that the covariance matrix of the errors is correctly specified. \\newline\n",
       " [2] The condition number is large, 1.03e+06. This might indicate that there are \\newline\n",
       " strong multicollinearity or other numerical problems."
      ],
      "text/plain": [
       "<class 'statsmodels.iolib.summary.Summary'>\n",
       "\"\"\"\n",
       "                            OLS Regression Results                            \n",
       "==============================================================================\n",
       "Dep. Variable:          selling_price   R-squared:                       0.623\n",
       "Model:                            OLS   Adj. R-squared:                  0.623\n",
       "Method:                 Least Squares   F-statistic:                     6718.\n",
       "Date:                Tue, 10 Sep 2024   Prob (F-statistic):               0.00\n",
       "Time:                        07:52:58   Log-Likelihood:            -1.1811e+05\n",
       "No. Observations:                8128   AIC:                         2.362e+05\n",
       "Df Residuals:                    8125   BIC:                         2.362e+05\n",
       "Df Model:                           2                                         \n",
       "Covariance Type:            nonrobust                                         \n",
       "==============================================================================\n",
       "                 coef    std err          t      P>|t|      [0.025      0.975]\n",
       "------------------------------------------------------------------------------\n",
       "const      -1.048e+08    2.8e+06    -37.401      0.000    -1.1e+08   -9.93e+07\n",
       "year        5.166e+04   1393.330     37.074      0.000    4.89e+04    5.44e+04\n",
       "max_power   1.572e+04    159.286     98.684      0.000    1.54e+04     1.6e+04\n",
       "==============================================================================\n",
       "Omnibus:                     5087.257   Durbin-Watson:                   1.542\n",
       "Prob(Omnibus):                  0.000   Jarque-Bera (JB):            90586.875\n",
       "Skew:                           2.701   Prob(JB):                         0.00\n",
       "Kurtosis:                      18.437   Cond. No.                     1.03e+06\n",
       "==============================================================================\n",
       "\n",
       "Notes:\n",
       "[1] Standard Errors assume that the covariance matrix of the errors is correctly specified.\n",
       "[2] The condition number is large, 1.03e+06. This might indicate that there are\n",
       "strong multicollinearity or other numerical problems.\n",
       "\"\"\""
      ]
     },
     "execution_count": 33,
     "metadata": {},
     "output_type": "execute_result"
    }
   ],
   "source": [
    "x_n1 = sm.add_constant(x_n)\n",
    "model2 = sm.OLS(y, x_n1).fit()\n",
    "model2.summary()"
   ]
  },
  {
   "cell_type": "markdown",
   "id": "7e22427f",
   "metadata": {},
   "source": [
    "### As it is known, removing the independent variable x4 did not reduce the R-squared criterion and the value of the F-statistic criterion was lower. The higher the value of the F-statistic criterion, the higher the probability that the hypothesis H0: B1 = B2 = ... = Bk = 0 is not violated, and the higher this probability, the worse a regression model is. Therefore, by removing the x4 variable, the regression model improved."
   ]
  },
  {
   "cell_type": "code",
   "execution_count": 34,
   "id": "d7a0002e",
   "metadata": {},
   "outputs": [
    {
     "name": "stderr",
     "output_type": "stream",
     "text": [
      "C:\\Users\\power\\AppData\\Local\\Programs\\Python\\Python310\\lib\\site-packages\\pandas\\core\\arraylike.py:399: RuntimeWarning: divide by zero encountered in log\n",
      "  result = getattr(ufunc, method)(*inputs, **kwargs)\n"
     ]
    }
   ],
   "source": [
    "x_n['log_year'] = np.log(x_n['year'])\n",
    "x_n['log_max_power'] = np.log(x_n['max_power'])\n",
    "x_n['log_selling_price'] = np.log(df['selling_price'])"
   ]
  },
  {
   "cell_type": "code",
   "execution_count": 35,
   "id": "9a26297e",
   "metadata": {},
   "outputs": [],
   "source": [
    "x1_l = x_n['log_year']\n",
    "x5_l = x_n['log_max_power']\n",
    "y_l = x_n['log_selling_price']"
   ]
  },
  {
   "cell_type": "code",
   "execution_count": 36,
   "id": "341885f4",
   "metadata": {},
   "outputs": [
    {
     "data": {
      "image/png": "[encoded data removed]",
      "text/plain": [
       "<Figure size 648x504 with 1 Axes>"
      ]
     },
     "metadata": {
      "needs_background": "light"
     },
     "output_type": "display_data"
    }
   ],
   "source": [
    "plt.figure(figsize = (9, 7))\n",
    "plt.scatter(x1_l, y_l)\n",
    "plt.xlabel('year', fontsize = 15)\n",
    "plt.ylabel('selling_price', fontsize = 15)\n",
    "plt.show()"
   ]
  },
  {
   "cell_type": "code",
   "execution_count": 37,
   "id": "d3e817f2",
   "metadata": {},
   "outputs": [
    {
     "data": {
      "image/png": "[encoded data removed]",
      "text/plain": [
       "<Figure size 648x504 with 1 Axes>"
      ]
     },
     "metadata": {
      "needs_background": "light"
     },
     "output_type": "display_data"
    }
   ],
   "source": [
    "plt.figure(figsize = (9, 7))\n",
    "plt.scatter(x5_l, y_l)\n",
    "plt.xlabel('max_power', fontsize = 15)\n",
    "plt.ylabel('selling_price', fontsize = 15)\n",
    "plt.show()"
   ]
  },
  {
   "cell_type": "code",
   "execution_count": 38,
   "id": "391672a7",
   "metadata": {},
   "outputs": [],
   "source": [
    "x_n['log_year'] = x1_l\n",
    "x_n['log_max_power'] = x5_l\n",
    "x_n['log_year'] = y_l"
   ]
  },
  {
   "cell_type": "code",
   "execution_count": 39,
   "id": "033afd27",
   "metadata": {},
   "outputs": [],
   "source": [
    "x_n_l = x_n[['log_year', 'log_max_power']]\n",
    "y_n_l = x_n['log_year']"
   ]
  },
  {
   "cell_type": "code",
   "execution_count": 40,
   "id": "0c723acc",
   "metadata": {},
   "outputs": [
    {
     "data": {
      "text/plain": [
       "6"
      ]
     },
     "execution_count": 40,
     "metadata": {},
     "output_type": "execute_result"
    }
   ],
   "source": [
    "np.isinf(x_n_l['log_max_power']).sum()"
   ]
  },
  {
   "cell_type": "code",
   "execution_count": 41,
   "id": "fd7fbd36",
   "metadata": {},
   "outputs": [
    {
     "name": "stderr",
     "output_type": "stream",
     "text": [
      "C:\\Users\\power\\AppData\\Local\\Temp\\ipykernel_7280\\3562615124.py:1: SettingWithCopyWarning: \n",
      "A value is trying to be set on a copy of a slice from a DataFrame.\n",
      "Try using .loc[row_indexer,col_indexer] = value instead\n",
      "\n",
      "See the caveats in the documentation: https://pandas.pydata.org/pandas-docs/stable/user_guide/indexing.html#returning-a-view-versus-a-copy\n",
      "  x_n_l['log_max_power'] = x_n_l['log_max_power'].replace(-np.inf, np.nan)\n"
     ]
    }
   ],
   "source": [
    "x_n_l['log_max_power'] = x_n_l['log_max_power'].replace(-np.inf, np.nan)"
   ]
  },
  {
   "cell_type": "code",
   "execution_count": 42,
   "id": "3330ea50",
   "metadata": {},
   "outputs": [
    {
     "data": {
      "text/plain": [
       "0"
      ]
     },
     "execution_count": 42,
     "metadata": {},
     "output_type": "execute_result"
    }
   ],
   "source": [
    "np.isinf(x_n_l['log_max_power']).sum()"
   ]
  },
  {
   "cell_type": "code",
   "execution_count": 43,
   "id": "ffdd01f9",
   "metadata": {},
   "outputs": [],
   "source": [
    "x_n_l = x_n_l.dropna()"
   ]
  },
  {
   "cell_type": "code",
   "execution_count": 44,
   "id": "52c5e4fb",
   "metadata": {},
   "outputs": [
    {
     "data": {
      "text/plain": [
       "0"
      ]
     },
     "execution_count": 44,
     "metadata": {},
     "output_type": "execute_result"
    }
   ],
   "source": [
    "np.isinf(x_n_l['log_max_power']).sum()"
   ]
  },
  {
   "cell_type": "code",
   "execution_count": 45,
   "id": "7424d1ae",
   "metadata": {},
   "outputs": [],
   "source": [
    "x_s = x_n_l[['log_year', 'log_max_power']]\n",
    "y_s = x_n_l['log_year']"
   ]
  },
  {
   "cell_type": "code",
   "execution_count": 46,
   "id": "13b20ed4",
   "metadata": {},
   "outputs": [],
   "source": [
    "x_t = sm.add_constant(x_s)\n",
    "model_t = sm.OLS(y_s, x_t).fit()"
   ]
  },
  {
   "cell_type": "code",
   "execution_count": 47,
   "id": "147c3d77",
   "metadata": {},
   "outputs": [
    {
     "data": {
      "text/html": [
       "<table class=\"simpletable\">\n",
       "<caption>OLS Regression Results</caption>\n",
       "<tr>\n",
       "  <th>Dep. Variable:</th>        <td>log_year</td>     <th>  R-squared:         </th>  <td>   1.000</td> \n",
       "</tr>\n",
       "<tr>\n",
       "  <th>Model:</th>                   <td>OLS</td>       <th>  Adj. R-squared:    </th>  <td>   1.000</td> \n",
       "</tr>\n",
       "<tr>\n",
       "  <th>Method:</th>             <td>Least Squares</td>  <th>  F-statistic:       </th>  <td>1.540e+31</td>\n",
       "</tr>\n",
       "<tr>\n",
       "  <th>Date:</th>             <td>Tue, 10 Sep 2024</td> <th>  Prob (F-statistic):</th>   <td>  0.00</td>  \n",
       "</tr>\n",
       "<tr>\n",
       "  <th>Time:</th>                 <td>07:53:00</td>     <th>  Log-Likelihood:    </th> <td>2.4778e+05</td>\n",
       "</tr>\n",
       "<tr>\n",
       "  <th>No. Observations:</th>      <td>  8122</td>      <th>  AIC:               </th> <td>-4.956e+05</td>\n",
       "</tr>\n",
       "<tr>\n",
       "  <th>Df Residuals:</th>          <td>  8119</td>      <th>  BIC:               </th> <td>-4.955e+05</td>\n",
       "</tr>\n",
       "<tr>\n",
       "  <th>Df Model:</th>              <td>     2</td>      <th>                     </th>      <td> </td>    \n",
       "</tr>\n",
       "<tr>\n",
       "  <th>Covariance Type:</th>      <td>nonrobust</td>    <th>                     </th>      <td> </td>    \n",
       "</tr>\n",
       "</table>\n",
       "<table class=\"simpletable\">\n",
       "<tr>\n",
       "        <td></td>           <th>coef</th>     <th>std err</th>      <th>t</th>      <th>P>|t|</th>  <th>[0.025</th>    <th>0.975]</th>  \n",
       "</tr>\n",
       "<tr>\n",
       "  <th>const</th>         <td> 7.792e-14</td> <td> 2.37e-15</td> <td>   32.858</td> <td> 0.000</td> <td> 7.33e-14</td> <td> 8.26e-14</td>\n",
       "</tr>\n",
       "<tr>\n",
       "  <th>log_year</th>      <td>    1.0000</td> <td> 2.61e-16</td> <td> 3.83e+15</td> <td> 0.000</td> <td>    1.000</td> <td>    1.000</td>\n",
       "</tr>\n",
       "<tr>\n",
       "  <th>log_max_power</th> <td> 3.461e-16</td> <td> 6.34e-16</td> <td>    0.546</td> <td> 0.585</td> <td>-8.96e-16</td> <td> 1.59e-15</td>\n",
       "</tr>\n",
       "</table>\n",
       "<table class=\"simpletable\">\n",
       "<tr>\n",
       "  <th>Omnibus:</th>       <td>224.101</td> <th>  Durbin-Watson:     </th> <td>   0.272</td>\n",
       "</tr>\n",
       "<tr>\n",
       "  <th>Prob(Omnibus):</th> <td> 0.000</td>  <th>  Jarque-Bera (JB):  </th> <td> 396.579</td>\n",
       "</tr>\n",
       "<tr>\n",
       "  <th>Skew:</th>          <td> 0.230</td>  <th>  Prob(JB):          </th> <td>7.65e-87</td>\n",
       "</tr>\n",
       "<tr>\n",
       "  <th>Kurtosis:</th>      <td> 3.980</td>  <th>  Cond. No.          </th> <td>    217.</td>\n",
       "</tr>\n",
       "</table><br/><br/>Notes:<br/>[1] Standard Errors assume that the covariance matrix of the errors is correctly specified."
      ],
      "text/latex": [
       "\\begin{center}\n",
       "\\begin{tabular}{lclc}\n",
       "\\toprule\n",
       "\\textbf{Dep. Variable:}    &    log\\_year     & \\textbf{  R-squared:         } &     1.000   \\\\\n",
       "\\textbf{Model:}            &       OLS        & \\textbf{  Adj. R-squared:    } &     1.000   \\\\\n",
       "\\textbf{Method:}           &  Least Squares   & \\textbf{  F-statistic:       } & 1.540e+31   \\\\\n",
       "\\textbf{Date:}             & Tue, 10 Sep 2024 & \\textbf{  Prob (F-statistic):} &     0.00    \\\\\n",
       "\\textbf{Time:}             &     07:53:00     & \\textbf{  Log-Likelihood:    } & 2.4778e+05  \\\\\n",
       "\\textbf{No. Observations:} &        8122      & \\textbf{  AIC:               } & -4.956e+05  \\\\\n",
       "\\textbf{Df Residuals:}     &        8119      & \\textbf{  BIC:               } & -4.955e+05  \\\\\n",
       "\\textbf{Df Model:}         &           2      & \\textbf{                     } &             \\\\\n",
       "\\textbf{Covariance Type:}  &    nonrobust     & \\textbf{                     } &             \\\\\n",
       "\\bottomrule\n",
       "\\end{tabular}\n",
       "\\begin{tabular}{lcccccc}\n",
       "                         & \\textbf{coef} & \\textbf{std err} & \\textbf{t} & \\textbf{P$> |$t$|$} & \\textbf{[0.025} & \\textbf{0.975]}  \\\\\n",
       "\\midrule\n",
       "\\textbf{const}           &    7.792e-14  &     2.37e-15     &    32.858  &         0.000        &     7.33e-14    &     8.26e-14     \\\\\n",
       "\\textbf{log\\_year}       &       1.0000  &     2.61e-16     &  3.83e+15  &         0.000        &        1.000    &        1.000     \\\\\n",
       "\\textbf{log\\_max\\_power} &    3.461e-16  &     6.34e-16     &     0.546  &         0.585        &    -8.96e-16    &     1.59e-15     \\\\\n",
       "\\bottomrule\n",
       "\\end{tabular}\n",
       "\\begin{tabular}{lclc}\n",
       "\\textbf{Omnibus:}       & 224.101 & \\textbf{  Durbin-Watson:     } &    0.272  \\\\\n",
       "\\textbf{Prob(Omnibus):} &   0.000 & \\textbf{  Jarque-Bera (JB):  } &  396.579  \\\\\n",
       "\\textbf{Skew:}          &   0.230 & \\textbf{  Prob(JB):          } & 7.65e-87  \\\\\n",
       "\\textbf{Kurtosis:}      &   3.980 & \\textbf{  Cond. No.          } &     217.  \\\\\n",
       "\\bottomrule\n",
       "\\end{tabular}\n",
       "%\\caption{OLS Regression Results}\n",
       "\\end{center}\n",
       "\n",
       "Notes: \\newline\n",
       " [1] Standard Errors assume that the covariance matrix of the errors is correctly specified."
      ],
      "text/plain": [
       "<class 'statsmodels.iolib.summary.Summary'>\n",
       "\"\"\"\n",
       "                            OLS Regression Results                            \n",
       "==============================================================================\n",
       "Dep. Variable:               log_year   R-squared:                       1.000\n",
       "Model:                            OLS   Adj. R-squared:                  1.000\n",
       "Method:                 Least Squares   F-statistic:                 1.540e+31\n",
       "Date:                Tue, 10 Sep 2024   Prob (F-statistic):               0.00\n",
       "Time:                        07:53:00   Log-Likelihood:             2.4778e+05\n",
       "No. Observations:                8122   AIC:                        -4.956e+05\n",
       "Df Residuals:                    8119   BIC:                        -4.955e+05\n",
       "Df Model:                           2                                         \n",
       "Covariance Type:            nonrobust                                         \n",
       "=================================================================================\n",
       "                    coef    std err          t      P>|t|      [0.025      0.975]\n",
       "---------------------------------------------------------------------------------\n",
       "const          7.792e-14   2.37e-15     32.858      0.000    7.33e-14    8.26e-14\n",
       "log_year          1.0000   2.61e-16   3.83e+15      0.000       1.000       1.000\n",
       "log_max_power  3.461e-16   6.34e-16      0.546      0.585   -8.96e-16    1.59e-15\n",
       "==============================================================================\n",
       "Omnibus:                      224.101   Durbin-Watson:                   0.272\n",
       "Prob(Omnibus):                  0.000   Jarque-Bera (JB):              396.579\n",
       "Skew:                           0.230   Prob(JB):                     7.65e-87\n",
       "Kurtosis:                       3.980   Cond. No.                         217.\n",
       "==============================================================================\n",
       "\n",
       "Notes:\n",
       "[1] Standard Errors assume that the covariance matrix of the errors is correctly specified.\n",
       "\"\"\""
      ]
     },
     "execution_count": 47,
     "metadata": {},
     "output_type": "execute_result"
    }
   ],
   "source": [
    "model_t.summary()"
   ]
  },
  {
   "cell_type": "code",
   "execution_count": 48,
   "id": "0d437d14",
   "metadata": {},
   "outputs": [],
   "source": [
    "yhat = x_s['log_year'] * 1 + x_s['log_max_power'] * 0.0000000000000003461 + 0.00000000000007792"
   ]
  },
  {
   "cell_type": "code",
   "execution_count": 49,
   "id": "f89f8473",
   "metadata": {},
   "outputs": [],
   "source": [
    "yhat_s = []\n",
    "for i in yhat:\n",
    "    yhat_s.append(math.exp(i))"
   ]
  },
  {
   "cell_type": "code",
   "execution_count": 50,
   "id": "dbab9713",
   "metadata": {},
   "outputs": [
    {
     "data": {
      "text/plain": [
       "[450000.0000000363,\n",
       " 370000.0000000297,\n",
       " 158000.00000001275,\n",
       " 225000.00000001813,\n",
       " 130000.00000001045,\n",
       " 440000.0000000349,\n",
       " 96000.00000000764,\n",
       " 45000.00000000358,\n",
       " 350000.00000002806,\n",
       " 200000.00000001604]"
      ]
     },
     "execution_count": 50,
     "metadata": {},
     "output_type": "execute_result"
    }
   ],
   "source": [
    "yhat_s[:10]"
   ]
  },
  {
   "cell_type": "code",
   "execution_count": 51,
   "id": "05bfcb31",
   "metadata": {},
   "outputs": [
    {
     "data": {
      "text/plain": [
       "0    450000\n",
       "1    370000\n",
       "2    158000\n",
       "3    225000\n",
       "4    130000\n",
       "5    440000\n",
       "6     96000\n",
       "7     45000\n",
       "8    350000\n",
       "9    200000\n",
       "Name: selling_price, dtype: int64"
      ]
     },
     "execution_count": 51,
     "metadata": {},
     "output_type": "execute_result"
    }
   ],
   "source": [
    "df['selling_price'][:10]"
   ]
  },
  {
   "cell_type": "code",
   "execution_count": 52,
   "id": "75e26d86",
   "metadata": {},
   "outputs": [
    {
     "data": {
      "text/html": [
       "<div>\n",
       "<style scoped>\n",
       "    .dataframe tbody tr th:only-of-type {\n",
       "        vertical-align: middle;\n",
       "    }\n",
       "\n",
       "    .dataframe tbody tr th {\n",
       "        vertical-align: top;\n",
       "    }\n",
       "\n",
       "    .dataframe thead th {\n",
       "        text-align: right;\n",
       "    }\n",
       "</style>\n",
       "<table border=\"1\" class=\"dataframe\">\n",
       "  <thead>\n",
       "    <tr style=\"text-align: right;\">\n",
       "      <th></th>\n",
       "      <th>log_year</th>\n",
       "      <th>log_max_power</th>\n",
       "    </tr>\n",
       "  </thead>\n",
       "  <tbody>\n",
       "    <tr>\n",
       "      <th>0</th>\n",
       "      <td>13.017003</td>\n",
       "      <td>4.304065</td>\n",
       "    </tr>\n",
       "    <tr>\n",
       "      <th>1</th>\n",
       "      <td>12.821258</td>\n",
       "      <td>4.639765</td>\n",
       "    </tr>\n",
       "    <tr>\n",
       "      <th>2</th>\n",
       "      <td>11.970350</td>\n",
       "      <td>4.356709</td>\n",
       "    </tr>\n",
       "    <tr>\n",
       "      <th>3</th>\n",
       "      <td>12.323856</td>\n",
       "      <td>4.499810</td>\n",
       "    </tr>\n",
       "    <tr>\n",
       "      <th>4</th>\n",
       "      <td>11.775290</td>\n",
       "      <td>4.479607</td>\n",
       "    </tr>\n",
       "    <tr>\n",
       "      <th>...</th>\n",
       "      <td>...</td>\n",
       "      <td>...</td>\n",
       "    </tr>\n",
       "    <tr>\n",
       "      <th>8123</th>\n",
       "      <td>12.676076</td>\n",
       "      <td>4.417032</td>\n",
       "    </tr>\n",
       "    <tr>\n",
       "      <th>8124</th>\n",
       "      <td>11.813030</td>\n",
       "      <td>4.700480</td>\n",
       "    </tr>\n",
       "    <tr>\n",
       "      <th>8125</th>\n",
       "      <td>12.853176</td>\n",
       "      <td>4.302713</td>\n",
       "    </tr>\n",
       "    <tr>\n",
       "      <th>8126</th>\n",
       "      <td>12.577636</td>\n",
       "      <td>4.248495</td>\n",
       "    </tr>\n",
       "    <tr>\n",
       "      <th>8127</th>\n",
       "      <td>12.577636</td>\n",
       "      <td>4.248495</td>\n",
       "    </tr>\n",
       "  </tbody>\n",
       "</table>\n",
       "<p>8122 rows × 2 columns</p>\n",
       "</div>"
      ],
      "text/plain": [
       "       log_year  log_max_power\n",
       "0     13.017003       4.304065\n",
       "1     12.821258       4.639765\n",
       "2     11.970350       4.356709\n",
       "3     12.323856       4.499810\n",
       "4     11.775290       4.479607\n",
       "...         ...            ...\n",
       "8123  12.676076       4.417032\n",
       "8124  11.813030       4.700480\n",
       "8125  12.853176       4.302713\n",
       "8126  12.577636       4.248495\n",
       "8127  12.577636       4.248495\n",
       "\n",
       "[8122 rows x 2 columns]"
      ]
     },
     "execution_count": 52,
     "metadata": {},
     "output_type": "execute_result"
    }
   ],
   "source": [
    "x_n_l"
   ]
  },
  {
   "cell_type": "code",
   "execution_count": 53,
   "id": "68a31d16",
   "metadata": {},
   "outputs": [
    {
     "data": {
      "text/html": [
       "<div>\n",
       "<style scoped>\n",
       "    .dataframe tbody tr th:only-of-type {\n",
       "        vertical-align: middle;\n",
       "    }\n",
       "\n",
       "    .dataframe tbody tr th {\n",
       "        vertical-align: top;\n",
       "    }\n",
       "\n",
       "    .dataframe thead th {\n",
       "        text-align: right;\n",
       "    }\n",
       "</style>\n",
       "<table border=\"1\" class=\"dataframe\">\n",
       "  <thead>\n",
       "    <tr style=\"text-align: right;\">\n",
       "      <th></th>\n",
       "      <th>const</th>\n",
       "      <th>log_year</th>\n",
       "      <th>log_max_power</th>\n",
       "    </tr>\n",
       "  </thead>\n",
       "  <tbody>\n",
       "    <tr>\n",
       "      <th>0</th>\n",
       "      <td>1.0</td>\n",
       "      <td>13.017003</td>\n",
       "      <td>4.304065</td>\n",
       "    </tr>\n",
       "    <tr>\n",
       "      <th>1</th>\n",
       "      <td>1.0</td>\n",
       "      <td>12.821258</td>\n",
       "      <td>4.639765</td>\n",
       "    </tr>\n",
       "    <tr>\n",
       "      <th>2</th>\n",
       "      <td>1.0</td>\n",
       "      <td>11.970350</td>\n",
       "      <td>4.356709</td>\n",
       "    </tr>\n",
       "    <tr>\n",
       "      <th>3</th>\n",
       "      <td>1.0</td>\n",
       "      <td>12.323856</td>\n",
       "      <td>4.499810</td>\n",
       "    </tr>\n",
       "    <tr>\n",
       "      <th>4</th>\n",
       "      <td>1.0</td>\n",
       "      <td>11.775290</td>\n",
       "      <td>4.479607</td>\n",
       "    </tr>\n",
       "    <tr>\n",
       "      <th>...</th>\n",
       "      <td>...</td>\n",
       "      <td>...</td>\n",
       "      <td>...</td>\n",
       "    </tr>\n",
       "    <tr>\n",
       "      <th>8123</th>\n",
       "      <td>1.0</td>\n",
       "      <td>12.676076</td>\n",
       "      <td>4.417032</td>\n",
       "    </tr>\n",
       "    <tr>\n",
       "      <th>8124</th>\n",
       "      <td>1.0</td>\n",
       "      <td>11.813030</td>\n",
       "      <td>4.700480</td>\n",
       "    </tr>\n",
       "    <tr>\n",
       "      <th>8125</th>\n",
       "      <td>1.0</td>\n",
       "      <td>12.853176</td>\n",
       "      <td>4.302713</td>\n",
       "    </tr>\n",
       "    <tr>\n",
       "      <th>8126</th>\n",
       "      <td>1.0</td>\n",
       "      <td>12.577636</td>\n",
       "      <td>4.248495</td>\n",
       "    </tr>\n",
       "    <tr>\n",
       "      <th>8127</th>\n",
       "      <td>1.0</td>\n",
       "      <td>12.577636</td>\n",
       "      <td>4.248495</td>\n",
       "    </tr>\n",
       "  </tbody>\n",
       "</table>\n",
       "<p>8122 rows × 3 columns</p>\n",
       "</div>"
      ],
      "text/plain": [
       "      const   log_year  log_max_power\n",
       "0       1.0  13.017003       4.304065\n",
       "1       1.0  12.821258       4.639765\n",
       "2       1.0  11.970350       4.356709\n",
       "3       1.0  12.323856       4.499810\n",
       "4       1.0  11.775290       4.479607\n",
       "...     ...        ...            ...\n",
       "8123    1.0  12.676076       4.417032\n",
       "8124    1.0  11.813030       4.700480\n",
       "8125    1.0  12.853176       4.302713\n",
       "8126    1.0  12.577636       4.248495\n",
       "8127    1.0  12.577636       4.248495\n",
       "\n",
       "[8122 rows x 3 columns]"
      ]
     },
     "execution_count": 53,
     "metadata": {},
     "output_type": "execute_result"
    }
   ],
   "source": [
    "x_t"
   ]
  },
  {
   "cell_type": "code",
   "execution_count": 54,
   "id": "22be8a40",
   "metadata": {},
   "outputs": [
    {
     "data": {
      "text/html": [
       "<div>\n",
       "<style scoped>\n",
       "    .dataframe tbody tr th:only-of-type {\n",
       "        vertical-align: middle;\n",
       "    }\n",
       "\n",
       "    .dataframe tbody tr th {\n",
       "        vertical-align: top;\n",
       "    }\n",
       "\n",
       "    .dataframe thead th {\n",
       "        text-align: right;\n",
       "    }\n",
       "</style>\n",
       "<table border=\"1\" class=\"dataframe\">\n",
       "  <thead>\n",
       "    <tr style=\"text-align: right;\">\n",
       "      <th></th>\n",
       "      <th>year</th>\n",
       "      <th>max_power</th>\n",
       "      <th>log_year</th>\n",
       "      <th>log_max_power</th>\n",
       "      <th>log_selling_price</th>\n",
       "    </tr>\n",
       "  </thead>\n",
       "  <tbody>\n",
       "    <tr>\n",
       "      <th>0</th>\n",
       "      <td>2014.0</td>\n",
       "      <td>74.00</td>\n",
       "      <td>13.017003</td>\n",
       "      <td>4.304065</td>\n",
       "      <td>13.017003</td>\n",
       "    </tr>\n",
       "    <tr>\n",
       "      <th>1</th>\n",
       "      <td>2014.0</td>\n",
       "      <td>103.52</td>\n",
       "      <td>12.821258</td>\n",
       "      <td>4.639765</td>\n",
       "      <td>12.821258</td>\n",
       "    </tr>\n",
       "    <tr>\n",
       "      <th>2</th>\n",
       "      <td>2006.0</td>\n",
       "      <td>78.00</td>\n",
       "      <td>11.970350</td>\n",
       "      <td>4.356709</td>\n",
       "      <td>11.970350</td>\n",
       "    </tr>\n",
       "    <tr>\n",
       "      <th>3</th>\n",
       "      <td>2010.0</td>\n",
       "      <td>90.00</td>\n",
       "      <td>12.323856</td>\n",
       "      <td>4.499810</td>\n",
       "      <td>12.323856</td>\n",
       "    </tr>\n",
       "    <tr>\n",
       "      <th>4</th>\n",
       "      <td>2007.0</td>\n",
       "      <td>88.20</td>\n",
       "      <td>11.775290</td>\n",
       "      <td>4.479607</td>\n",
       "      <td>11.775290</td>\n",
       "    </tr>\n",
       "    <tr>\n",
       "      <th>...</th>\n",
       "      <td>...</td>\n",
       "      <td>...</td>\n",
       "      <td>...</td>\n",
       "      <td>...</td>\n",
       "      <td>...</td>\n",
       "    </tr>\n",
       "    <tr>\n",
       "      <th>8123</th>\n",
       "      <td>2013.0</td>\n",
       "      <td>82.85</td>\n",
       "      <td>12.676076</td>\n",
       "      <td>4.417032</td>\n",
       "      <td>12.676076</td>\n",
       "    </tr>\n",
       "    <tr>\n",
       "      <th>8124</th>\n",
       "      <td>2007.0</td>\n",
       "      <td>110.00</td>\n",
       "      <td>11.813030</td>\n",
       "      <td>4.700480</td>\n",
       "      <td>11.813030</td>\n",
       "    </tr>\n",
       "    <tr>\n",
       "      <th>8125</th>\n",
       "      <td>2009.0</td>\n",
       "      <td>73.90</td>\n",
       "      <td>12.853176</td>\n",
       "      <td>4.302713</td>\n",
       "      <td>12.853176</td>\n",
       "    </tr>\n",
       "    <tr>\n",
       "      <th>8126</th>\n",
       "      <td>2013.0</td>\n",
       "      <td>70.00</td>\n",
       "      <td>12.577636</td>\n",
       "      <td>4.248495</td>\n",
       "      <td>12.577636</td>\n",
       "    </tr>\n",
       "    <tr>\n",
       "      <th>8127</th>\n",
       "      <td>2013.0</td>\n",
       "      <td>70.00</td>\n",
       "      <td>12.577636</td>\n",
       "      <td>4.248495</td>\n",
       "      <td>12.577636</td>\n",
       "    </tr>\n",
       "  </tbody>\n",
       "</table>\n",
       "<p>8128 rows × 5 columns</p>\n",
       "</div>"
      ],
      "text/plain": [
       "        year  max_power   log_year  log_max_power  log_selling_price\n",
       "0     2014.0      74.00  13.017003       4.304065          13.017003\n",
       "1     2014.0     103.52  12.821258       4.639765          12.821258\n",
       "2     2006.0      78.00  11.970350       4.356709          11.970350\n",
       "3     2010.0      90.00  12.323856       4.499810          12.323856\n",
       "4     2007.0      88.20  11.775290       4.479607          11.775290\n",
       "...      ...        ...        ...            ...                ...\n",
       "8123  2013.0      82.85  12.676076       4.417032          12.676076\n",
       "8124  2007.0     110.00  11.813030       4.700480          11.813030\n",
       "8125  2009.0      73.90  12.853176       4.302713          12.853176\n",
       "8126  2013.0      70.00  12.577636       4.248495          12.577636\n",
       "8127  2013.0      70.00  12.577636       4.248495          12.577636\n",
       "\n",
       "[8128 rows x 5 columns]"
      ]
     },
     "execution_count": 54,
     "metadata": {},
     "output_type": "execute_result"
    }
   ],
   "source": [
    "x_n"
   ]
  }
 ],
 "metadata": {
  "kernelspec": {
   "display_name": "Python 3 (ipykernel)",
   "language": "python",
   "name": "python3"
  },
  "language_info": {
   "codemirror_mode": {
    "name": "ipython",
    "version": 3
   },
   "file_extension": ".py",
   "mimetype": "text/x-python",
   "name": "python",
   "nbconvert_exporter": "python",
   "pygments_lexer": "ipython3",
   "version": "3.10.5"
  }
 },
 "nbformat": 4,
 "nbformat_minor": 5
}
